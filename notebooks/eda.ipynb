{
 "cells": [
  {
   "cell_type": "markdown",
   "id": "8c5c995a",
   "metadata": {},
   "source": [
    "# Streaming Platforms EDA\n",
    "\n",
    "Analyzing content libraries for Netflix, Hulu, Prime Video, and Disney+."
   ]
  },
  {
   "cell_type": "code",
   "execution_count": null,
   "id": "d8120210",
   "metadata": {},
   "outputs": [
    {
     "name": "stdout",
     "output_type": "stream",
     "text": [
      "Dataset shape: (985, 22)\n",
      "\n",
      "Columns: ['Title', 'Year', 'Age', 'Rotten Tomatoes', 'Netflix', 'Hulu', 'Prime Video', 'Disney+', 'budget', 'genres', 'id', 'overview', 'popularity', 'production_countries', 'release_date', 'revenue', 'runtime', 'spoken_languages', 'title', 'vote_average', 'vote_count', 'budget_filled']\n",
      "\n",
      "First few rows of production_countries:\n",
      "0    [{\"iso_3166_1\": \"HK\", \"name\": \"Hong Kong\"}, {\"...\n",
      "1    [{\"iso_3166_1\": \"FR\", \"name\": \"France\"}, {\"iso...\n",
      "2    [{\"iso_3166_1\": \"US\", \"name\": \"United States o...\n",
      "3    [{\"iso_3166_1\": \"US\", \"name\": \"United States o...\n",
      "4    [{\"iso_3166_1\": \"GB\", \"name\": \"United Kingdom\"...\n",
      "Name: production_countries, dtype: object\n"
     ]
    }
   ],
   "source": [
    "import pandas as pd\n",
    "import numpy as np\n",
    "import matplotlib.pyplot as plt\n",
    "import seaborn as sns\n",
    "import plotly.express as px\n",
    "import plotly.graph_objects as go\n",
    "from plotly.subplots import make_subplots\n",
    "import json\n",
    "import warnings\n",
    "warnings.filterwarnings('ignore')\n",
    "\n",
    "# fix numpy compatibility issues\n",
    "import numpy\n",
    "if not hasattr(numpy, 'bool'):\n",
    "    numpy.bool = bool\n",
    "if not hasattr(numpy, 'int'):\n",
    "    numpy.int = int\n",
    "if not hasattr(numpy, 'float'):\n",
    "    numpy.float = float\n",
    "if not hasattr(numpy, 'complex'):\n",
    "    numpy.complex = complex\n",
    "\n",
    "plt.style.use('default')\n",
    "sns.set_palette(\"husl\")\n",
    "\n",
    "df = pd.read_csv('../datasets/cleaned/movies_cleaned.csv')\n",
    "\n",
    "print(\"Dataset shape:\", df.shape)\n",
    "print(\"\\nFirst few rows of production_countries:\")\n",
    "print(df['production_countries'].head())"
   ]
  },
  {
   "cell_type": "markdown",
   "id": "c78c98ba",
   "metadata": {},
   "source": [
    "## Netflix Growth Over Time"
   ]
  },
  {
   "cell_type": "code",
   "execution_count": null,
   "id": "f177d9a5",
   "metadata": {},
   "outputs": [
    {
     "data": {
      "application/vnd.plotly.v1+json": {
       "config": {
        "plotlyServerURL": "https://plot.ly"
       },
       "data": [
        {
         "hovertemplate": "Release Year=%{x}<br>Number of Titles=%{y}<extra></extra>",
         "legendgroup": "",
         "line": {
          "color": "#636efa",
          "dash": "solid",
          "shape": "linear"
         },
         "marker": {
          "symbol": "circle"
         },
         "mode": "lines",
         "name": "",
         "orientation": "v",
         "showlegend": false,
         "type": "scatter",
         "x": [
          1964,
          1975,
          1979,
          1980,
          1981,
          1984,
          1988,
          1990,
          1991,
          1993,
          1995,
          1996,
          1997,
          1998,
          1999,
          2000,
          2001,
          2002,
          2003,
          2004,
          2005,
          2006,
          2007,
          2008,
          2009,
          2010,
          2011,
          2012,
          2013,
          2014,
          2015,
          2016,
          2017,
          2018,
          2019,
          2020,
          2021
         ],
         "xaxis": "x",
         "y": [
          1,
          1,
          1,
          1,
          1,
          1,
          3,
          4,
          1,
          2,
          2,
          2,
          6,
          5,
          5,
          6,
          9,
          8,
          6,
          11,
          6,
          15,
          8,
          14,
          20,
          20,
          19,
          18,
          23,
          17,
          20,
          13,
          7,
          6,
          7,
          6,
          4
         ],
         "yaxis": "y"
        }
       ],
       "layout": {
        "legend": {
         "tracegroupgap": 0
        },
        "showlegend": false,
        "template": {
         "data": {
          "bar": [
           {
            "error_x": {
             "color": "#2a3f5f"
            },
            "error_y": {
             "color": "#2a3f5f"
            },
            "marker": {
             "line": {
              "color": "#E5ECF6",
              "width": 0.5
             },
             "pattern": {
              "fillmode": "overlay",
              "size": 10,
              "solidity": 0.2
             }
            },
            "type": "bar"
           }
          ],
          "barpolar": [
           {
            "marker": {
             "line": {
              "color": "#E5ECF6",
              "width": 0.5
             },
             "pattern": {
              "fillmode": "overlay",
              "size": 10,
              "solidity": 0.2
             }
            },
            "type": "barpolar"
           }
          ],
          "carpet": [
           {
            "aaxis": {
             "endlinecolor": "#2a3f5f",
             "gridcolor": "white",
             "linecolor": "white",
             "minorgridcolor": "white",
             "startlinecolor": "#2a3f5f"
            },
            "baxis": {
             "endlinecolor": "#2a3f5f",
             "gridcolor": "white",
             "linecolor": "white",
             "minorgridcolor": "white",
             "startlinecolor": "#2a3f5f"
            },
            "type": "carpet"
           }
          ],
          "choropleth": [
           {
            "colorbar": {
             "outlinewidth": 0,
             "ticks": ""
            },
            "type": "choropleth"
           }
          ],
          "contour": [
           {
            "colorbar": {
             "outlinewidth": 0,
             "ticks": ""
            },
            "colorscale": [
             [
              0,
              "#0d0887"
             ],
             [
              0.1111111111111111,
              "#46039f"
             ],
             [
              0.2222222222222222,
              "#7201a8"
             ],
             [
              0.3333333333333333,
              "#9c179e"
             ],
             [
              0.4444444444444444,
              "#bd3786"
             ],
             [
              0.5555555555555556,
              "#d8576b"
             ],
             [
              0.6666666666666666,
              "#ed7953"
             ],
             [
              0.7777777777777778,
              "#fb9f3a"
             ],
             [
              0.8888888888888888,
              "#fdca26"
             ],
             [
              1,
              "#f0f921"
             ]
            ],
            "type": "contour"
           }
          ],
          "contourcarpet": [
           {
            "colorbar": {
             "outlinewidth": 0,
             "ticks": ""
            },
            "type": "contourcarpet"
           }
          ],
          "heatmap": [
           {
            "colorbar": {
             "outlinewidth": 0,
             "ticks": ""
            },
            "colorscale": [
             [
              0,
              "#0d0887"
             ],
             [
              0.1111111111111111,
              "#46039f"
             ],
             [
              0.2222222222222222,
              "#7201a8"
             ],
             [
              0.3333333333333333,
              "#9c179e"
             ],
             [
              0.4444444444444444,
              "#bd3786"
             ],
             [
              0.5555555555555556,
              "#d8576b"
             ],
             [
              0.6666666666666666,
              "#ed7953"
             ],
             [
              0.7777777777777778,
              "#fb9f3a"
             ],
             [
              0.8888888888888888,
              "#fdca26"
             ],
             [
              1,
              "#f0f921"
             ]
            ],
            "type": "heatmap"
           }
          ],
          "heatmapgl": [
           {
            "colorbar": {
             "outlinewidth": 0,
             "ticks": ""
            },
            "colorscale": [
             [
              0,
              "#0d0887"
             ],
             [
              0.1111111111111111,
              "#46039f"
             ],
             [
              0.2222222222222222,
              "#7201a8"
             ],
             [
              0.3333333333333333,
              "#9c179e"
             ],
             [
              0.4444444444444444,
              "#bd3786"
             ],
             [
              0.5555555555555556,
              "#d8576b"
             ],
             [
              0.6666666666666666,
              "#ed7953"
             ],
             [
              0.7777777777777778,
              "#fb9f3a"
             ],
             [
              0.8888888888888888,
              "#fdca26"
             ],
             [
              1,
              "#f0f921"
             ]
            ],
            "type": "heatmapgl"
           }
          ],
          "histogram": [
           {
            "marker": {
             "pattern": {
              "fillmode": "overlay",
              "size": 10,
              "solidity": 0.2
             }
            },
            "type": "histogram"
           }
          ],
          "histogram2d": [
           {
            "colorbar": {
             "outlinewidth": 0,
             "ticks": ""
            },
            "colorscale": [
             [
              0,
              "#0d0887"
             ],
             [
              0.1111111111111111,
              "#46039f"
             ],
             [
              0.2222222222222222,
              "#7201a8"
             ],
             [
              0.3333333333333333,
              "#9c179e"
             ],
             [
              0.4444444444444444,
              "#bd3786"
             ],
             [
              0.5555555555555556,
              "#d8576b"
             ],
             [
              0.6666666666666666,
              "#ed7953"
             ],
             [
              0.7777777777777778,
              "#fb9f3a"
             ],
             [
              0.8888888888888888,
              "#fdca26"
             ],
             [
              1,
              "#f0f921"
             ]
            ],
            "type": "histogram2d"
           }
          ],
          "histogram2dcontour": [
           {
            "colorbar": {
             "outlinewidth": 0,
             "ticks": ""
            },
            "colorscale": [
             [
              0,
              "#0d0887"
             ],
             [
              0.1111111111111111,
              "#46039f"
             ],
             [
              0.2222222222222222,
              "#7201a8"
             ],
             [
              0.3333333333333333,
              "#9c179e"
             ],
             [
              0.4444444444444444,
              "#bd3786"
             ],
             [
              0.5555555555555556,
              "#d8576b"
             ],
             [
              0.6666666666666666,
              "#ed7953"
             ],
             [
              0.7777777777777778,
              "#fb9f3a"
             ],
             [
              0.8888888888888888,
              "#fdca26"
             ],
             [
              1,
              "#f0f921"
             ]
            ],
            "type": "histogram2dcontour"
           }
          ],
          "mesh3d": [
           {
            "colorbar": {
             "outlinewidth": 0,
             "ticks": ""
            },
            "type": "mesh3d"
           }
          ],
          "parcoords": [
           {
            "line": {
             "colorbar": {
              "outlinewidth": 0,
              "ticks": ""
             }
            },
            "type": "parcoords"
           }
          ],
          "pie": [
           {
            "automargin": true,
            "type": "pie"
           }
          ],
          "scatter": [
           {
            "marker": {
             "colorbar": {
              "outlinewidth": 0,
              "ticks": ""
             }
            },
            "type": "scatter"
           }
          ],
          "scatter3d": [
           {
            "line": {
             "colorbar": {
              "outlinewidth": 0,
              "ticks": ""
             }
            },
            "marker": {
             "colorbar": {
              "outlinewidth": 0,
              "ticks": ""
             }
            },
            "type": "scatter3d"
           }
          ],
          "scattercarpet": [
           {
            "marker": {
             "colorbar": {
              "outlinewidth": 0,
              "ticks": ""
             }
            },
            "type": "scattercarpet"
           }
          ],
          "scattergeo": [
           {
            "marker": {
             "colorbar": {
              "outlinewidth": 0,
              "ticks": ""
             }
            },
            "type": "scattergeo"
           }
          ],
          "scattergl": [
           {
            "marker": {
             "colorbar": {
              "outlinewidth": 0,
              "ticks": ""
             }
            },
            "type": "scattergl"
           }
          ],
          "scattermapbox": [
           {
            "marker": {
             "colorbar": {
              "outlinewidth": 0,
              "ticks": ""
             }
            },
            "type": "scattermapbox"
           }
          ],
          "scatterpolar": [
           {
            "marker": {
             "colorbar": {
              "outlinewidth": 0,
              "ticks": ""
             }
            },
            "type": "scatterpolar"
           }
          ],
          "scatterpolargl": [
           {
            "marker": {
             "colorbar": {
              "outlinewidth": 0,
              "ticks": ""
             }
            },
            "type": "scatterpolargl"
           }
          ],
          "scatterternary": [
           {
            "marker": {
             "colorbar": {
              "outlinewidth": 0,
              "ticks": ""
             }
            },
            "type": "scatterternary"
           }
          ],
          "surface": [
           {
            "colorbar": {
             "outlinewidth": 0,
             "ticks": ""
            },
            "colorscale": [
             [
              0,
              "#0d0887"
             ],
             [
              0.1111111111111111,
              "#46039f"
             ],
             [
              0.2222222222222222,
              "#7201a8"
             ],
             [
              0.3333333333333333,
              "#9c179e"
             ],
             [
              0.4444444444444444,
              "#bd3786"
             ],
             [
              0.5555555555555556,
              "#d8576b"
             ],
             [
              0.6666666666666666,
              "#ed7953"
             ],
             [
              0.7777777777777778,
              "#fb9f3a"
             ],
             [
              0.8888888888888888,
              "#fdca26"
             ],
             [
              1,
              "#f0f921"
             ]
            ],
            "type": "surface"
           }
          ],
          "table": [
           {
            "cells": {
             "fill": {
              "color": "#EBF0F8"
             },
             "line": {
              "color": "white"
             }
            },
            "header": {
             "fill": {
              "color": "#C8D4E3"
             },
             "line": {
              "color": "white"
             }
            },
            "type": "table"
           }
          ]
         },
         "layout": {
          "annotationdefaults": {
           "arrowcolor": "#2a3f5f",
           "arrowhead": 0,
           "arrowwidth": 1
          },
          "autotypenumbers": "strict",
          "coloraxis": {
           "colorbar": {
            "outlinewidth": 0,
            "ticks": ""
           }
          },
          "colorscale": {
           "diverging": [
            [
             0,
             "#8e0152"
            ],
            [
             0.1,
             "#c51b7d"
            ],
            [
             0.2,
             "#de77ae"
            ],
            [
             0.3,
             "#f1b6da"
            ],
            [
             0.4,
             "#fde0ef"
            ],
            [
             0.5,
             "#f7f7f7"
            ],
            [
             0.6,
             "#e6f5d0"
            ],
            [
             0.7,
             "#b8e186"
            ],
            [
             0.8,
             "#7fbc41"
            ],
            [
             0.9,
             "#4d9221"
            ],
            [
             1,
             "#276419"
            ]
           ],
           "sequential": [
            [
             0,
             "#0d0887"
            ],
            [
             0.1111111111111111,
             "#46039f"
            ],
            [
             0.2222222222222222,
             "#7201a8"
            ],
            [
             0.3333333333333333,
             "#9c179e"
            ],
            [
             0.4444444444444444,
             "#bd3786"
            ],
            [
             0.5555555555555556,
             "#d8576b"
            ],
            [
             0.6666666666666666,
             "#ed7953"
            ],
            [
             0.7777777777777778,
             "#fb9f3a"
            ],
            [
             0.8888888888888888,
             "#fdca26"
            ],
            [
             1,
             "#f0f921"
            ]
           ],
           "sequentialminus": [
            [
             0,
             "#0d0887"
            ],
            [
             0.1111111111111111,
             "#46039f"
            ],
            [
             0.2222222222222222,
             "#7201a8"
            ],
            [
             0.3333333333333333,
             "#9c179e"
            ],
            [
             0.4444444444444444,
             "#bd3786"
            ],
            [
             0.5555555555555556,
             "#d8576b"
            ],
            [
             0.6666666666666666,
             "#ed7953"
            ],
            [
             0.7777777777777778,
             "#fb9f3a"
            ],
            [
             0.8888888888888888,
             "#fdca26"
            ],
            [
             1,
             "#f0f921"
            ]
           ]
          },
          "colorway": [
           "#636efa",
           "#EF553B",
           "#00cc96",
           "#ab63fa",
           "#FFA15A",
           "#19d3f3",
           "#FF6692",
           "#B6E880",
           "#FF97FF",
           "#FECB52"
          ],
          "font": {
           "color": "#2a3f5f"
          },
          "geo": {
           "bgcolor": "white",
           "lakecolor": "white",
           "landcolor": "#E5ECF6",
           "showlakes": true,
           "showland": true,
           "subunitcolor": "white"
          },
          "hoverlabel": {
           "align": "left"
          },
          "hovermode": "closest",
          "mapbox": {
           "style": "light"
          },
          "paper_bgcolor": "white",
          "plot_bgcolor": "#E5ECF6",
          "polar": {
           "angularaxis": {
            "gridcolor": "white",
            "linecolor": "white",
            "ticks": ""
           },
           "bgcolor": "#E5ECF6",
           "radialaxis": {
            "gridcolor": "white",
            "linecolor": "white",
            "ticks": ""
           }
          },
          "scene": {
           "xaxis": {
            "backgroundcolor": "#E5ECF6",
            "gridcolor": "white",
            "gridwidth": 2,
            "linecolor": "white",
            "showbackground": true,
            "ticks": "",
            "zerolinecolor": "white"
           },
           "yaxis": {
            "backgroundcolor": "#E5ECF6",
            "gridcolor": "white",
            "gridwidth": 2,
            "linecolor": "white",
            "showbackground": true,
            "ticks": "",
            "zerolinecolor": "white"
           },
           "zaxis": {
            "backgroundcolor": "#E5ECF6",
            "gridcolor": "white",
            "gridwidth": 2,
            "linecolor": "white",
            "showbackground": true,
            "ticks": "",
            "zerolinecolor": "white"
           }
          },
          "shapedefaults": {
           "line": {
            "color": "#2a3f5f"
           }
          },
          "ternary": {
           "aaxis": {
            "gridcolor": "white",
            "linecolor": "white",
            "ticks": ""
           },
           "baxis": {
            "gridcolor": "white",
            "linecolor": "white",
            "ticks": ""
           },
           "bgcolor": "#E5ECF6",
           "caxis": {
            "gridcolor": "white",
            "linecolor": "white",
            "ticks": ""
           }
          },
          "title": {
           "x": 0.05
          },
          "xaxis": {
           "automargin": true,
           "gridcolor": "white",
           "linecolor": "white",
           "ticks": "",
           "title": {
            "standoff": 15
           },
           "zerolinecolor": "white",
           "zerolinewidth": 2
          },
          "yaxis": {
           "automargin": true,
           "gridcolor": "white",
           "linecolor": "white",
           "ticks": "",
           "title": {
            "standoff": 15
           },
           "zerolinecolor": "white",
           "zerolinewidth": 2
          }
         }
        },
        "title": {
         "text": "Netflix Content Library Growth Over Years"
        },
        "xaxis": {
         "anchor": "y",
         "domain": [
          0,
          1
         ],
         "title": {
          "text": "Release Year"
         }
        },
        "yaxis": {
         "anchor": "x",
         "domain": [
          0,
          1
         ],
         "title": {
          "text": "Number of Titles"
         }
        }
       }
      }
     },
     "metadata": {},
     "output_type": "display_data"
    }
   ],
   "source": [
    "netflix_growth = df[df['Netflix'] == 1].groupby('Year').size().reset_index(name='count')\n",
    "\n",
    "fig = px.line(netflix_growth, x='Year', y='count',\n",
    "              title='Netflix Content Library Growth Over Years',\n",
    "              labels={'count': 'Number of Titles', 'Year': 'Release Year'})\n",
    "\n",
    "fig.update_layout(showlegend=False)\n",
    "fig.show()"
   ]
  },
  {
   "cell_type": "markdown",
   "id": "8b62cce4",
   "metadata": {},
   "source": [
    "## Content by Country"
   ]
  },
  {
   "cell_type": "code",
   "execution_count": null,
   "id": "3891de0f",
   "metadata": {},
   "outputs": [
    {
     "data": {
      "application/vnd.plotly.v1+json": {
       "config": {
        "plotlyServerURL": "https://plot.ly"
       },
       "data": [
        {
         "name": "Netflix",
         "orientation": "h",
         "showlegend": false,
         "type": "bar",
         "x": [
          264,
          47,
          24,
          20,
          20,
          6,
          6,
          5,
          5,
          5
         ],
         "xaxis": "x",
         "y": [
          "United States of America",
          "United Kingdom",
          "France",
          "Germany",
          "Canada",
          "India",
          "Australia",
          "Spain",
          "Italy",
          "Czech Republic"
         ],
         "yaxis": "y"
        },
        {
         "name": "Hulu",
         "orientation": "h",
         "showlegend": false,
         "type": "bar",
         "x": [
          205,
          34,
          17,
          14,
          8,
          5,
          4,
          3,
          3,
          3
         ],
         "xaxis": "x2",
         "y": [
          "United States of America",
          "United Kingdom",
          "Germany",
          "France",
          "Canada",
          "Australia",
          "Italy",
          "Japan",
          "China",
          "India"
         ],
         "yaxis": "y2"
        },
        {
         "name": "Prime Video",
         "orientation": "h",
         "showlegend": false,
         "type": "bar",
         "x": [
          299,
          55,
          26,
          23,
          22,
          14,
          12,
          6,
          5,
          4
         ],
         "xaxis": "x3",
         "y": [
          "United States of America",
          "United Kingdom",
          "France",
          "Germany",
          "Canada",
          "Australia",
          "Spain",
          "India",
          "Ireland",
          "Belgium"
         ],
         "yaxis": "y3"
        },
        {
         "name": "Disney+",
         "orientation": "h",
         "showlegend": false,
         "type": "bar",
         "x": [
          178,
          19,
          6,
          5,
          3,
          2,
          1,
          1,
          1,
          1
         ],
         "xaxis": "x4",
         "y": [
          "United States of America",
          "United Kingdom",
          "Canada",
          "Germany",
          "Australia",
          "France",
          "India",
          "Norway",
          "Switzerland",
          "Spain"
         ],
         "yaxis": "y4"
        }
       ],
       "layout": {
        "annotations": [
         {
          "font": {
           "size": 16
          },
          "showarrow": false,
          "text": "Netflix",
          "x": 0.225,
          "xanchor": "center",
          "xref": "paper",
          "y": 1,
          "yanchor": "bottom",
          "yref": "paper"
         },
         {
          "font": {
           "size": 16
          },
          "showarrow": false,
          "text": "Hulu",
          "x": 0.775,
          "xanchor": "center",
          "xref": "paper",
          "y": 1,
          "yanchor": "bottom",
          "yref": "paper"
         },
         {
          "font": {
           "size": 16
          },
          "showarrow": false,
          "text": "Prime Video",
          "x": 0.225,
          "xanchor": "center",
          "xref": "paper",
          "y": 0.425,
          "yanchor": "bottom",
          "yref": "paper"
         },
         {
          "font": {
           "size": 16
          },
          "showarrow": false,
          "text": "Disney+",
          "x": 0.775,
          "xanchor": "center",
          "xref": "paper",
          "y": 0.425,
          "yanchor": "bottom",
          "yref": "paper"
         }
        ],
        "height": 800,
        "showlegend": false,
        "template": {
         "data": {
          "bar": [
           {
            "error_x": {
             "color": "#2a3f5f"
            },
            "error_y": {
             "color": "#2a3f5f"
            },
            "marker": {
             "line": {
              "color": "#E5ECF6",
              "width": 0.5
             },
             "pattern": {
              "fillmode": "overlay",
              "size": 10,
              "solidity": 0.2
             }
            },
            "type": "bar"
           }
          ],
          "barpolar": [
           {
            "marker": {
             "line": {
              "color": "#E5ECF6",
              "width": 0.5
             },
             "pattern": {
              "fillmode": "overlay",
              "size": 10,
              "solidity": 0.2
             }
            },
            "type": "barpolar"
           }
          ],
          "carpet": [
           {
            "aaxis": {
             "endlinecolor": "#2a3f5f",
             "gridcolor": "white",
             "linecolor": "white",
             "minorgridcolor": "white",
             "startlinecolor": "#2a3f5f"
            },
            "baxis": {
             "endlinecolor": "#2a3f5f",
             "gridcolor": "white",
             "linecolor": "white",
             "minorgridcolor": "white",
             "startlinecolor": "#2a3f5f"
            },
            "type": "carpet"
           }
          ],
          "choropleth": [
           {
            "colorbar": {
             "outlinewidth": 0,
             "ticks": ""
            },
            "type": "choropleth"
           }
          ],
          "contour": [
           {
            "colorbar": {
             "outlinewidth": 0,
             "ticks": ""
            },
            "colorscale": [
             [
              0,
              "#0d0887"
             ],
             [
              0.1111111111111111,
              "#46039f"
             ],
             [
              0.2222222222222222,
              "#7201a8"
             ],
             [
              0.3333333333333333,
              "#9c179e"
             ],
             [
              0.4444444444444444,
              "#bd3786"
             ],
             [
              0.5555555555555556,
              "#d8576b"
             ],
             [
              0.6666666666666666,
              "#ed7953"
             ],
             [
              0.7777777777777778,
              "#fb9f3a"
             ],
             [
              0.8888888888888888,
              "#fdca26"
             ],
             [
              1,
              "#f0f921"
             ]
            ],
            "type": "contour"
           }
          ],
          "contourcarpet": [
           {
            "colorbar": {
             "outlinewidth": 0,
             "ticks": ""
            },
            "type": "contourcarpet"
           }
          ],
          "heatmap": [
           {
            "colorbar": {
             "outlinewidth": 0,
             "ticks": ""
            },
            "colorscale": [
             [
              0,
              "#0d0887"
             ],
             [
              0.1111111111111111,
              "#46039f"
             ],
             [
              0.2222222222222222,
              "#7201a8"
             ],
             [
              0.3333333333333333,
              "#9c179e"
             ],
             [
              0.4444444444444444,
              "#bd3786"
             ],
             [
              0.5555555555555556,
              "#d8576b"
             ],
             [
              0.6666666666666666,
              "#ed7953"
             ],
             [
              0.7777777777777778,
              "#fb9f3a"
             ],
             [
              0.8888888888888888,
              "#fdca26"
             ],
             [
              1,
              "#f0f921"
             ]
            ],
            "type": "heatmap"
           }
          ],
          "heatmapgl": [
           {
            "colorbar": {
             "outlinewidth": 0,
             "ticks": ""
            },
            "colorscale": [
             [
              0,
              "#0d0887"
             ],
             [
              0.1111111111111111,
              "#46039f"
             ],
             [
              0.2222222222222222,
              "#7201a8"
             ],
             [
              0.3333333333333333,
              "#9c179e"
             ],
             [
              0.4444444444444444,
              "#bd3786"
             ],
             [
              0.5555555555555556,
              "#d8576b"
             ],
             [
              0.6666666666666666,
              "#ed7953"
             ],
             [
              0.7777777777777778,
              "#fb9f3a"
             ],
             [
              0.8888888888888888,
              "#fdca26"
             ],
             [
              1,
              "#f0f921"
             ]
            ],
            "type": "heatmapgl"
           }
          ],
          "histogram": [
           {
            "marker": {
             "pattern": {
              "fillmode": "overlay",
              "size": 10,
              "solidity": 0.2
             }
            },
            "type": "histogram"
           }
          ],
          "histogram2d": [
           {
            "colorbar": {
             "outlinewidth": 0,
             "ticks": ""
            },
            "colorscale": [
             [
              0,
              "#0d0887"
             ],
             [
              0.1111111111111111,
              "#46039f"
             ],
             [
              0.2222222222222222,
              "#7201a8"
             ],
             [
              0.3333333333333333,
              "#9c179e"
             ],
             [
              0.4444444444444444,
              "#bd3786"
             ],
             [
              0.5555555555555556,
              "#d8576b"
             ],
             [
              0.6666666666666666,
              "#ed7953"
             ],
             [
              0.7777777777777778,
              "#fb9f3a"
             ],
             [
              0.8888888888888888,
              "#fdca26"
             ],
             [
              1,
              "#f0f921"
             ]
            ],
            "type": "histogram2d"
           }
          ],
          "histogram2dcontour": [
           {
            "colorbar": {
             "outlinewidth": 0,
             "ticks": ""
            },
            "colorscale": [
             [
              0,
              "#0d0887"
             ],
             [
              0.1111111111111111,
              "#46039f"
             ],
             [
              0.2222222222222222,
              "#7201a8"
             ],
             [
              0.3333333333333333,
              "#9c179e"
             ],
             [
              0.4444444444444444,
              "#bd3786"
             ],
             [
              0.5555555555555556,
              "#d8576b"
             ],
             [
              0.6666666666666666,
              "#ed7953"
             ],
             [
              0.7777777777777778,
              "#fb9f3a"
             ],
             [
              0.8888888888888888,
              "#fdca26"
             ],
             [
              1,
              "#f0f921"
             ]
            ],
            "type": "histogram2dcontour"
           }
          ],
          "mesh3d": [
           {
            "colorbar": {
             "outlinewidth": 0,
             "ticks": ""
            },
            "type": "mesh3d"
           }
          ],
          "parcoords": [
           {
            "line": {
             "colorbar": {
              "outlinewidth": 0,
              "ticks": ""
             }
            },
            "type": "parcoords"
           }
          ],
          "pie": [
           {
            "automargin": true,
            "type": "pie"
           }
          ],
          "scatter": [
           {
            "marker": {
             "colorbar": {
              "outlinewidth": 0,
              "ticks": ""
             }
            },
            "type": "scatter"
           }
          ],
          "scatter3d": [
           {
            "line": {
             "colorbar": {
              "outlinewidth": 0,
              "ticks": ""
             }
            },
            "marker": {
             "colorbar": {
              "outlinewidth": 0,
              "ticks": ""
             }
            },
            "type": "scatter3d"
           }
          ],
          "scattercarpet": [
           {
            "marker": {
             "colorbar": {
              "outlinewidth": 0,
              "ticks": ""
             }
            },
            "type": "scattercarpet"
           }
          ],
          "scattergeo": [
           {
            "marker": {
             "colorbar": {
              "outlinewidth": 0,
              "ticks": ""
             }
            },
            "type": "scattergeo"
           }
          ],
          "scattergl": [
           {
            "marker": {
             "colorbar": {
              "outlinewidth": 0,
              "ticks": ""
             }
            },
            "type": "scattergl"
           }
          ],
          "scattermapbox": [
           {
            "marker": {
             "colorbar": {
              "outlinewidth": 0,
              "ticks": ""
             }
            },
            "type": "scattermapbox"
           }
          ],
          "scatterpolar": [
           {
            "marker": {
             "colorbar": {
              "outlinewidth": 0,
              "ticks": ""
             }
            },
            "type": "scatterpolar"
           }
          ],
          "scatterpolargl": [
           {
            "marker": {
             "colorbar": {
              "outlinewidth": 0,
              "ticks": ""
             }
            },
            "type": "scatterpolargl"
           }
          ],
          "scatterternary": [
           {
            "marker": {
             "colorbar": {
              "outlinewidth": 0,
              "ticks": ""
             }
            },
            "type": "scatterternary"
           }
          ],
          "surface": [
           {
            "colorbar": {
             "outlinewidth": 0,
             "ticks": ""
            },
            "colorscale": [
             [
              0,
              "#0d0887"
             ],
             [
              0.1111111111111111,
              "#46039f"
             ],
             [
              0.2222222222222222,
              "#7201a8"
             ],
             [
              0.3333333333333333,
              "#9c179e"
             ],
             [
              0.4444444444444444,
              "#bd3786"
             ],
             [
              0.5555555555555556,
              "#d8576b"
             ],
             [
              0.6666666666666666,
              "#ed7953"
             ],
             [
              0.7777777777777778,
              "#fb9f3a"
             ],
             [
              0.8888888888888888,
              "#fdca26"
             ],
             [
              1,
              "#f0f921"
             ]
            ],
            "type": "surface"
           }
          ],
          "table": [
           {
            "cells": {
             "fill": {
              "color": "#EBF0F8"
             },
             "line": {
              "color": "white"
             }
            },
            "header": {
             "fill": {
              "color": "#C8D4E3"
             },
             "line": {
              "color": "white"
             }
            },
            "type": "table"
           }
          ]
         },
         "layout": {
          "annotationdefaults": {
           "arrowcolor": "#2a3f5f",
           "arrowhead": 0,
           "arrowwidth": 1
          },
          "autotypenumbers": "strict",
          "coloraxis": {
           "colorbar": {
            "outlinewidth": 0,
            "ticks": ""
           }
          },
          "colorscale": {
           "diverging": [
            [
             0,
             "#8e0152"
            ],
            [
             0.1,
             "#c51b7d"
            ],
            [
             0.2,
             "#de77ae"
            ],
            [
             0.3,
             "#f1b6da"
            ],
            [
             0.4,
             "#fde0ef"
            ],
            [
             0.5,
             "#f7f7f7"
            ],
            [
             0.6,
             "#e6f5d0"
            ],
            [
             0.7,
             "#b8e186"
            ],
            [
             0.8,
             "#7fbc41"
            ],
            [
             0.9,
             "#4d9221"
            ],
            [
             1,
             "#276419"
            ]
           ],
           "sequential": [
            [
             0,
             "#0d0887"
            ],
            [
             0.1111111111111111,
             "#46039f"
            ],
            [
             0.2222222222222222,
             "#7201a8"
            ],
            [
             0.3333333333333333,
             "#9c179e"
            ],
            [
             0.4444444444444444,
             "#bd3786"
            ],
            [
             0.5555555555555556,
             "#d8576b"
            ],
            [
             0.6666666666666666,
             "#ed7953"
            ],
            [
             0.7777777777777778,
             "#fb9f3a"
            ],
            [
             0.8888888888888888,
             "#fdca26"
            ],
            [
             1,
             "#f0f921"
            ]
           ],
           "sequentialminus": [
            [
             0,
             "#0d0887"
            ],
            [
             0.1111111111111111,
             "#46039f"
            ],
            [
             0.2222222222222222,
             "#7201a8"
            ],
            [
             0.3333333333333333,
             "#9c179e"
            ],
            [
             0.4444444444444444,
             "#bd3786"
            ],
            [
             0.5555555555555556,
             "#d8576b"
            ],
            [
             0.6666666666666666,
             "#ed7953"
            ],
            [
             0.7777777777777778,
             "#fb9f3a"
            ],
            [
             0.8888888888888888,
             "#fdca26"
            ],
            [
             1,
             "#f0f921"
            ]
           ]
          },
          "colorway": [
           "#636efa",
           "#EF553B",
           "#00cc96",
           "#ab63fa",
           "#FFA15A",
           "#19d3f3",
           "#FF6692",
           "#B6E880",
           "#FF97FF",
           "#FECB52"
          ],
          "font": {
           "color": "#2a3f5f"
          },
          "geo": {
           "bgcolor": "white",
           "lakecolor": "white",
           "landcolor": "#E5ECF6",
           "showlakes": true,
           "showland": true,
           "subunitcolor": "white"
          },
          "hoverlabel": {
           "align": "left"
          },
          "hovermode": "closest",
          "mapbox": {
           "style": "light"
          },
          "paper_bgcolor": "white",
          "plot_bgcolor": "#E5ECF6",
          "polar": {
           "angularaxis": {
            "gridcolor": "white",
            "linecolor": "white",
            "ticks": ""
           },
           "bgcolor": "#E5ECF6",
           "radialaxis": {
            "gridcolor": "white",
            "linecolor": "white",
            "ticks": ""
           }
          },
          "scene": {
           "xaxis": {
            "backgroundcolor": "#E5ECF6",
            "gridcolor": "white",
            "gridwidth": 2,
            "linecolor": "white",
            "showbackground": true,
            "ticks": "",
            "zerolinecolor": "white"
           },
           "yaxis": {
            "backgroundcolor": "#E5ECF6",
            "gridcolor": "white",
            "gridwidth": 2,
            "linecolor": "white",
            "showbackground": true,
            "ticks": "",
            "zerolinecolor": "white"
           },
           "zaxis": {
            "backgroundcolor": "#E5ECF6",
            "gridcolor": "white",
            "gridwidth": 2,
            "linecolor": "white",
            "showbackground": true,
            "ticks": "",
            "zerolinecolor": "white"
           }
          },
          "shapedefaults": {
           "line": {
            "color": "#2a3f5f"
           }
          },
          "ternary": {
           "aaxis": {
            "gridcolor": "white",
            "linecolor": "white",
            "ticks": ""
           },
           "baxis": {
            "gridcolor": "white",
            "linecolor": "white",
            "ticks": ""
           },
           "bgcolor": "#E5ECF6",
           "caxis": {
            "gridcolor": "white",
            "linecolor": "white",
            "ticks": ""
           }
          },
          "title": {
           "x": 0.05
          },
          "xaxis": {
           "automargin": true,
           "gridcolor": "white",
           "linecolor": "white",
           "ticks": "",
           "title": {
            "standoff": 15
           },
           "zerolinecolor": "white",
           "zerolinewidth": 2
          },
          "yaxis": {
           "automargin": true,
           "gridcolor": "white",
           "linecolor": "white",
           "ticks": "",
           "title": {
            "standoff": 15
           },
           "zerolinecolor": "white",
           "zerolinewidth": 2
          }
         }
        },
        "title": {
         "text": "Top 10 Content Producing Countries by Platform"
        },
        "xaxis": {
         "anchor": "y",
         "domain": [
          0,
          0.45
         ],
         "title": {
          "text": "Number of Titles"
         }
        },
        "xaxis2": {
         "anchor": "y2",
         "domain": [
          0.55,
          1
         ],
         "title": {
          "text": "Number of Titles"
         }
        },
        "xaxis3": {
         "anchor": "y3",
         "domain": [
          0,
          0.45
         ],
         "title": {
          "text": "Number of Titles"
         }
        },
        "xaxis4": {
         "anchor": "y4",
         "domain": [
          0.55,
          1
         ],
         "title": {
          "text": "Number of Titles"
         }
        },
        "yaxis": {
         "anchor": "x",
         "domain": [
          0.575,
          1
         ]
        },
        "yaxis2": {
         "anchor": "x2",
         "domain": [
          0.575,
          1
         ]
        },
        "yaxis3": {
         "anchor": "x3",
         "domain": [
          0,
          0.425
         ]
        },
        "yaxis4": {
         "anchor": "x4",
         "domain": [
          0,
          0.425
         ]
        }
       }
      }
     },
     "metadata": {},
     "output_type": "display_data"
    },
    {
     "name": "stdout",
     "output_type": "stream",
     "text": [
      "\n",
      "Country Distribution Summary:\n",
      "Netflix: 29 unique countries, 431 total titles\n",
      "Hulu: 28 unique countries, 324 total titles\n",
      "Prime Video: 35 unique countries, 508 total titles\n",
      "Disney+: 21 unique countries, 228 total titles\n"
     ]
    }
   ],
   "source": [
    "# parse JSON strings to extract country names\n",
    "def extract_country_names(countries_json):\n",
    "    try:\n",
    "        if pd.isna(countries_json) or countries_json == '[]':\n",
    "            return []\n",
    "        countries = json.loads(countries_json)\n",
    "        return [country['name'] for country in countries]\n",
    "    except:\n",
    "        return []\n",
    "\n",
    "def extract_language_names(languages_json):\n",
    "    try:\n",
    "        if pd.isna(languages_json) or languages_json == '[]':\n",
    "            return []\n",
    "        languages = json.loads(languages_json)\n",
    "        return [lang['name'] for lang in languages]\n",
    "    except:\n",
    "        return []\n",
    "\n",
    "df['country_names'] = df['production_countries'].apply(extract_country_names)\n",
    "df['language_names'] = df['spoken_languages'].apply(extract_language_names)\n",
    "\n",
    "# expand data so each country gets its own row\n",
    "countries_expanded = []\n",
    "for idx, row in df.iterrows():\n",
    "    for country in row['country_names']:\n",
    "        new_row = row.copy()\n",
    "        new_row['country'] = country\n",
    "        countries_expanded.append(new_row)\n",
    "\n",
    "countries_df = pd.DataFrame(countries_expanded)\n",
    "\n",
    "def get_top_countries_by_platform(platform_column, top_n=10):\n",
    "    if len(countries_df[countries_df[platform_column] == 1]) == 0:\n",
    "        return pd.Series(dtype='int64')\n",
    "    return countries_df[countries_df[platform_column] == 1]['country'].value_counts().head(top_n)\n",
    "\n",
    "platforms = ['Netflix', 'Hulu', 'Prime Video', 'Disney+']\n",
    "fig = make_subplots(rows=2, cols=2, \n",
    "                    subplot_titles=platforms,\n",
    "                    vertical_spacing=0.15)\n",
    "\n",
    "for idx, platform in enumerate(platforms, 1):\n",
    "    row = (idx-1)//2 + 1\n",
    "    col = (idx-1)%2 + 1\n",
    "    \n",
    "    top_countries = get_top_countries_by_platform(platform)\n",
    "    \n",
    "    if len(top_countries) > 0:\n",
    "        fig.add_trace(\n",
    "            go.Bar(x=top_countries.values, \n",
    "                   y=top_countries.index, \n",
    "                   orientation='h',\n",
    "                   showlegend=False),\n",
    "            row=row, col=col\n",
    "        )\n",
    "\n",
    "fig.update_layout(height=800, title_text=\"Top Countries by Platform\")\n",
    "fig.update_xaxes(title_text=\"Number of Titles\")\n",
    "fig.show()\n",
    "\n",
    "# quick stats\n",
    "print(\"\\nCountry stats:\")\n",
    "for platform in platforms:\n",
    "    platform_countries = countries_df[countries_df[platform] == 1]['country'].nunique()\n",
    "    total_titles = len(countries_df[countries_df[platform] == 1])\n",
    "    print(f\"{platform}: {platform_countries} countries, {total_titles} titles\")"
   ]
  },
  {
   "cell_type": "markdown",
   "id": "aff2d4dc",
   "metadata": {},
   "source": [
    "## Genre Analysis"
   ]
  },
  {
   "cell_type": "code",
   "execution_count": null,
   "id": "643fcf4e",
   "metadata": {},
   "outputs": [
    {
     "data": {
      "application/vnd.plotly.v1+json": {
       "config": {
        "plotlyServerURL": "https://plot.ly"
       },
       "data": [
        {
         "name": "Average Rating",
         "type": "bar",
         "x": [
          "Drama Action Crime Thriller",
          "Drama Comedy Animation Family",
          "Drama Family Fantasy",
          "Family Animation Drama",
          "Action Science Fiction Adventure",
          "Mystery Thriller Drama",
          "Adventure Comedy Fantasy",
          "Adventure Family Animation Action Comedy",
          "Comedy Drama Science Fiction",
          "Documentary Drama History"
         ],
         "xaxis": "x",
         "y": [
          8.2,
          8,
          8,
          8,
          7.9,
          7.9,
          7.8,
          7.8,
          7.8,
          7.8
         ],
         "yaxis": "y"
        },
        {
         "name": "Total Votes",
         "type": "bar",
         "x": [
          "Action Adventure Science Fiction",
          "Drama",
          "Animation Family",
          "Comedy",
          "Adventure Fantasy Action",
          "Adventure Action Science Fiction",
          "Animation Comedy Family",
          "Action Adventure Fantasy Science Fiction",
          "Science Fiction Action Adventure",
          "Drama Romance"
         ],
         "xaxis": "x2",
         "y": [
          40085,
          39745,
          29919,
          27708,
          23256,
          22514,
          21652,
          17832,
          17656,
          15474
         ],
         "yaxis": "y2"
        }
       ],
       "layout": {
        "annotations": [
         {
          "font": {
           "size": 16
          },
          "showarrow": false,
          "text": "Average Rating by Genre",
          "x": 0.225,
          "xanchor": "center",
          "xref": "paper",
          "y": 1,
          "yanchor": "bottom",
          "yref": "paper"
         },
         {
          "font": {
           "size": 16
          },
          "showarrow": false,
          "text": "Total Votes by Genre",
          "x": 0.775,
          "xanchor": "center",
          "xref": "paper",
          "y": 1,
          "yanchor": "bottom",
          "yref": "paper"
         }
        ],
        "height": 500,
        "showlegend": false,
        "template": {
         "data": {
          "bar": [
           {
            "error_x": {
             "color": "#2a3f5f"
            },
            "error_y": {
             "color": "#2a3f5f"
            },
            "marker": {
             "line": {
              "color": "#E5ECF6",
              "width": 0.5
             },
             "pattern": {
              "fillmode": "overlay",
              "size": 10,
              "solidity": 0.2
             }
            },
            "type": "bar"
           }
          ],
          "barpolar": [
           {
            "marker": {
             "line": {
              "color": "#E5ECF6",
              "width": 0.5
             },
             "pattern": {
              "fillmode": "overlay",
              "size": 10,
              "solidity": 0.2
             }
            },
            "type": "barpolar"
           }
          ],
          "carpet": [
           {
            "aaxis": {
             "endlinecolor": "#2a3f5f",
             "gridcolor": "white",
             "linecolor": "white",
             "minorgridcolor": "white",
             "startlinecolor": "#2a3f5f"
            },
            "baxis": {
             "endlinecolor": "#2a3f5f",
             "gridcolor": "white",
             "linecolor": "white",
             "minorgridcolor": "white",
             "startlinecolor": "#2a3f5f"
            },
            "type": "carpet"
           }
          ],
          "choropleth": [
           {
            "colorbar": {
             "outlinewidth": 0,
             "ticks": ""
            },
            "type": "choropleth"
           }
          ],
          "contour": [
           {
            "colorbar": {
             "outlinewidth": 0,
             "ticks": ""
            },
            "colorscale": [
             [
              0,
              "#0d0887"
             ],
             [
              0.1111111111111111,
              "#46039f"
             ],
             [
              0.2222222222222222,
              "#7201a8"
             ],
             [
              0.3333333333333333,
              "#9c179e"
             ],
             [
              0.4444444444444444,
              "#bd3786"
             ],
             [
              0.5555555555555556,
              "#d8576b"
             ],
             [
              0.6666666666666666,
              "#ed7953"
             ],
             [
              0.7777777777777778,
              "#fb9f3a"
             ],
             [
              0.8888888888888888,
              "#fdca26"
             ],
             [
              1,
              "#f0f921"
             ]
            ],
            "type": "contour"
           }
          ],
          "contourcarpet": [
           {
            "colorbar": {
             "outlinewidth": 0,
             "ticks": ""
            },
            "type": "contourcarpet"
           }
          ],
          "heatmap": [
           {
            "colorbar": {
             "outlinewidth": 0,
             "ticks": ""
            },
            "colorscale": [
             [
              0,
              "#0d0887"
             ],
             [
              0.1111111111111111,
              "#46039f"
             ],
             [
              0.2222222222222222,
              "#7201a8"
             ],
             [
              0.3333333333333333,
              "#9c179e"
             ],
             [
              0.4444444444444444,
              "#bd3786"
             ],
             [
              0.5555555555555556,
              "#d8576b"
             ],
             [
              0.6666666666666666,
              "#ed7953"
             ],
             [
              0.7777777777777778,
              "#fb9f3a"
             ],
             [
              0.8888888888888888,
              "#fdca26"
             ],
             [
              1,
              "#f0f921"
             ]
            ],
            "type": "heatmap"
           }
          ],
          "heatmapgl": [
           {
            "colorbar": {
             "outlinewidth": 0,
             "ticks": ""
            },
            "colorscale": [
             [
              0,
              "#0d0887"
             ],
             [
              0.1111111111111111,
              "#46039f"
             ],
             [
              0.2222222222222222,
              "#7201a8"
             ],
             [
              0.3333333333333333,
              "#9c179e"
             ],
             [
              0.4444444444444444,
              "#bd3786"
             ],
             [
              0.5555555555555556,
              "#d8576b"
             ],
             [
              0.6666666666666666,
              "#ed7953"
             ],
             [
              0.7777777777777778,
              "#fb9f3a"
             ],
             [
              0.8888888888888888,
              "#fdca26"
             ],
             [
              1,
              "#f0f921"
             ]
            ],
            "type": "heatmapgl"
           }
          ],
          "histogram": [
           {
            "marker": {
             "pattern": {
              "fillmode": "overlay",
              "size": 10,
              "solidity": 0.2
             }
            },
            "type": "histogram"
           }
          ],
          "histogram2d": [
           {
            "colorbar": {
             "outlinewidth": 0,
             "ticks": ""
            },
            "colorscale": [
             [
              0,
              "#0d0887"
             ],
             [
              0.1111111111111111,
              "#46039f"
             ],
             [
              0.2222222222222222,
              "#7201a8"
             ],
             [
              0.3333333333333333,
              "#9c179e"
             ],
             [
              0.4444444444444444,
              "#bd3786"
             ],
             [
              0.5555555555555556,
              "#d8576b"
             ],
             [
              0.6666666666666666,
              "#ed7953"
             ],
             [
              0.7777777777777778,
              "#fb9f3a"
             ],
             [
              0.8888888888888888,
              "#fdca26"
             ],
             [
              1,
              "#f0f921"
             ]
            ],
            "type": "histogram2d"
           }
          ],
          "histogram2dcontour": [
           {
            "colorbar": {
             "outlinewidth": 0,
             "ticks": ""
            },
            "colorscale": [
             [
              0,
              "#0d0887"
             ],
             [
              0.1111111111111111,
              "#46039f"
             ],
             [
              0.2222222222222222,
              "#7201a8"
             ],
             [
              0.3333333333333333,
              "#9c179e"
             ],
             [
              0.4444444444444444,
              "#bd3786"
             ],
             [
              0.5555555555555556,
              "#d8576b"
             ],
             [
              0.6666666666666666,
              "#ed7953"
             ],
             [
              0.7777777777777778,
              "#fb9f3a"
             ],
             [
              0.8888888888888888,
              "#fdca26"
             ],
             [
              1,
              "#f0f921"
             ]
            ],
            "type": "histogram2dcontour"
           }
          ],
          "mesh3d": [
           {
            "colorbar": {
             "outlinewidth": 0,
             "ticks": ""
            },
            "type": "mesh3d"
           }
          ],
          "parcoords": [
           {
            "line": {
             "colorbar": {
              "outlinewidth": 0,
              "ticks": ""
             }
            },
            "type": "parcoords"
           }
          ],
          "pie": [
           {
            "automargin": true,
            "type": "pie"
           }
          ],
          "scatter": [
           {
            "marker": {
             "colorbar": {
              "outlinewidth": 0,
              "ticks": ""
             }
            },
            "type": "scatter"
           }
          ],
          "scatter3d": [
           {
            "line": {
             "colorbar": {
              "outlinewidth": 0,
              "ticks": ""
             }
            },
            "marker": {
             "colorbar": {
              "outlinewidth": 0,
              "ticks": ""
             }
            },
            "type": "scatter3d"
           }
          ],
          "scattercarpet": [
           {
            "marker": {
             "colorbar": {
              "outlinewidth": 0,
              "ticks": ""
             }
            },
            "type": "scattercarpet"
           }
          ],
          "scattergeo": [
           {
            "marker": {
             "colorbar": {
              "outlinewidth": 0,
              "ticks": ""
             }
            },
            "type": "scattergeo"
           }
          ],
          "scattergl": [
           {
            "marker": {
             "colorbar": {
              "outlinewidth": 0,
              "ticks": ""
             }
            },
            "type": "scattergl"
           }
          ],
          "scattermapbox": [
           {
            "marker": {
             "colorbar": {
              "outlinewidth": 0,
              "ticks": ""
             }
            },
            "type": "scattermapbox"
           }
          ],
          "scatterpolar": [
           {
            "marker": {
             "colorbar": {
              "outlinewidth": 0,
              "ticks": ""
             }
            },
            "type": "scatterpolar"
           }
          ],
          "scatterpolargl": [
           {
            "marker": {
             "colorbar": {
              "outlinewidth": 0,
              "ticks": ""
             }
            },
            "type": "scatterpolargl"
           }
          ],
          "scatterternary": [
           {
            "marker": {
             "colorbar": {
              "outlinewidth": 0,
              "ticks": ""
             }
            },
            "type": "scatterternary"
           }
          ],
          "surface": [
           {
            "colorbar": {
             "outlinewidth": 0,
             "ticks": ""
            },
            "colorscale": [
             [
              0,
              "#0d0887"
             ],
             [
              0.1111111111111111,
              "#46039f"
             ],
             [
              0.2222222222222222,
              "#7201a8"
             ],
             [
              0.3333333333333333,
              "#9c179e"
             ],
             [
              0.4444444444444444,
              "#bd3786"
             ],
             [
              0.5555555555555556,
              "#d8576b"
             ],
             [
              0.6666666666666666,
              "#ed7953"
             ],
             [
              0.7777777777777778,
              "#fb9f3a"
             ],
             [
              0.8888888888888888,
              "#fdca26"
             ],
             [
              1,
              "#f0f921"
             ]
            ],
            "type": "surface"
           }
          ],
          "table": [
           {
            "cells": {
             "fill": {
              "color": "#EBF0F8"
             },
             "line": {
              "color": "white"
             }
            },
            "header": {
             "fill": {
              "color": "#C8D4E3"
             },
             "line": {
              "color": "white"
             }
            },
            "type": "table"
           }
          ]
         },
         "layout": {
          "annotationdefaults": {
           "arrowcolor": "#2a3f5f",
           "arrowhead": 0,
           "arrowwidth": 1
          },
          "autotypenumbers": "strict",
          "coloraxis": {
           "colorbar": {
            "outlinewidth": 0,
            "ticks": ""
           }
          },
          "colorscale": {
           "diverging": [
            [
             0,
             "#8e0152"
            ],
            [
             0.1,
             "#c51b7d"
            ],
            [
             0.2,
             "#de77ae"
            ],
            [
             0.3,
             "#f1b6da"
            ],
            [
             0.4,
             "#fde0ef"
            ],
            [
             0.5,
             "#f7f7f7"
            ],
            [
             0.6,
             "#e6f5d0"
            ],
            [
             0.7,
             "#b8e186"
            ],
            [
             0.8,
             "#7fbc41"
            ],
            [
             0.9,
             "#4d9221"
            ],
            [
             1,
             "#276419"
            ]
           ],
           "sequential": [
            [
             0,
             "#0d0887"
            ],
            [
             0.1111111111111111,
             "#46039f"
            ],
            [
             0.2222222222222222,
             "#7201a8"
            ],
            [
             0.3333333333333333,
             "#9c179e"
            ],
            [
             0.4444444444444444,
             "#bd3786"
            ],
            [
             0.5555555555555556,
             "#d8576b"
            ],
            [
             0.6666666666666666,
             "#ed7953"
            ],
            [
             0.7777777777777778,
             "#fb9f3a"
            ],
            [
             0.8888888888888888,
             "#fdca26"
            ],
            [
             1,
             "#f0f921"
            ]
           ],
           "sequentialminus": [
            [
             0,
             "#0d0887"
            ],
            [
             0.1111111111111111,
             "#46039f"
            ],
            [
             0.2222222222222222,
             "#7201a8"
            ],
            [
             0.3333333333333333,
             "#9c179e"
            ],
            [
             0.4444444444444444,
             "#bd3786"
            ],
            [
             0.5555555555555556,
             "#d8576b"
            ],
            [
             0.6666666666666666,
             "#ed7953"
            ],
            [
             0.7777777777777778,
             "#fb9f3a"
            ],
            [
             0.8888888888888888,
             "#fdca26"
            ],
            [
             1,
             "#f0f921"
            ]
           ]
          },
          "colorway": [
           "#636efa",
           "#EF553B",
           "#00cc96",
           "#ab63fa",
           "#FFA15A",
           "#19d3f3",
           "#FF6692",
           "#B6E880",
           "#FF97FF",
           "#FECB52"
          ],
          "font": {
           "color": "#2a3f5f"
          },
          "geo": {
           "bgcolor": "white",
           "lakecolor": "white",
           "landcolor": "#E5ECF6",
           "showlakes": true,
           "showland": true,
           "subunitcolor": "white"
          },
          "hoverlabel": {
           "align": "left"
          },
          "hovermode": "closest",
          "mapbox": {
           "style": "light"
          },
          "paper_bgcolor": "white",
          "plot_bgcolor": "#E5ECF6",
          "polar": {
           "angularaxis": {
            "gridcolor": "white",
            "linecolor": "white",
            "ticks": ""
           },
           "bgcolor": "#E5ECF6",
           "radialaxis": {
            "gridcolor": "white",
            "linecolor": "white",
            "ticks": ""
           }
          },
          "scene": {
           "xaxis": {
            "backgroundcolor": "#E5ECF6",
            "gridcolor": "white",
            "gridwidth": 2,
            "linecolor": "white",
            "showbackground": true,
            "ticks": "",
            "zerolinecolor": "white"
           },
           "yaxis": {
            "backgroundcolor": "#E5ECF6",
            "gridcolor": "white",
            "gridwidth": 2,
            "linecolor": "white",
            "showbackground": true,
            "ticks": "",
            "zerolinecolor": "white"
           },
           "zaxis": {
            "backgroundcolor": "#E5ECF6",
            "gridcolor": "white",
            "gridwidth": 2,
            "linecolor": "white",
            "showbackground": true,
            "ticks": "",
            "zerolinecolor": "white"
           }
          },
          "shapedefaults": {
           "line": {
            "color": "#2a3f5f"
           }
          },
          "ternary": {
           "aaxis": {
            "gridcolor": "white",
            "linecolor": "white",
            "ticks": ""
           },
           "baxis": {
            "gridcolor": "white",
            "linecolor": "white",
            "ticks": ""
           },
           "bgcolor": "#E5ECF6",
           "caxis": {
            "gridcolor": "white",
            "linecolor": "white",
            "ticks": ""
           }
          },
          "title": {
           "x": 0.05
          },
          "xaxis": {
           "automargin": true,
           "gridcolor": "white",
           "linecolor": "white",
           "ticks": "",
           "title": {
            "standoff": 15
           },
           "zerolinecolor": "white",
           "zerolinewidth": 2
          },
          "yaxis": {
           "automargin": true,
           "gridcolor": "white",
           "linecolor": "white",
           "ticks": "",
           "title": {
            "standoff": 15
           },
           "zerolinecolor": "white",
           "zerolinewidth": 2
          }
         }
        },
        "title": {
         "text": "Genre Popularity: Ratings vs Viewership"
        },
        "xaxis": {
         "anchor": "y",
         "domain": [
          0,
          0.45
         ]
        },
        "xaxis2": {
         "anchor": "y2",
         "domain": [
          0.55,
          1
         ]
        },
        "yaxis": {
         "anchor": "x",
         "domain": [
          0,
          1
         ]
        },
        "yaxis2": {
         "anchor": "x2",
         "domain": [
          0,
          1
         ]
        }
       }
      }
     },
     "metadata": {},
     "output_type": "display_data"
    },
    {
     "name": "stdout",
     "output_type": "stream",
     "text": [
      "\n",
      "Correlation between ratings and vote count: 0.38\n"
     ]
    }
   ],
   "source": [
    "genre_stats = df.groupby('genres').agg({\n",
    "    'vote_average': 'mean',\n",
    "    'vote_count': 'sum'\n",
    "}).reset_index()\n",
    "\n",
    "fig = make_subplots(rows=1, cols=2, subplot_titles=('Average Rating', 'Total Votes'))\n",
    "\n",
    "top_rated = genre_stats.nlargest(10, 'vote_average')\n",
    "most_votes = genre_stats.nlargest(10, 'vote_count')\n",
    "\n",
    "fig.add_trace(\n",
    "    go.Bar(x=top_rated['genres'], y=top_rated['vote_average']),\n",
    "    row=1, col=1\n",
    ")\n",
    "fig.add_trace(\n",
    "    go.Bar(x=most_votes['genres'], y=most_votes['vote_count']),\n",
    "    row=1, col=2\n",
    ")\n",
    "\n",
    "fig.update_layout(height=500, showlegend=False)\n",
    "fig.show()\n",
    "\n",
    "correlation = df['vote_average'].corr(df['vote_count'])\n",
    "print(f\"Rating vs votes correlation: {correlation:.2f}\")"
   ]
  },
  {
   "cell_type": "markdown",
   "id": "3524ff82",
   "metadata": {},
   "source": [
    "## Platform Comparison"
   ]
  },
  {
   "cell_type": "code",
   "execution_count": null,
   "id": "d8bab062",
   "metadata": {},
   "outputs": [
    {
     "name": "stdout",
     "output_type": "stream",
     "text": [
      "Platform Comparison Summary:\n",
      "      Platform  Total_Titles  Avg_Rating  Avg_Votes  Max_Rating  Min_Rating\n",
      "0      Netflix           299        6.29     977.84         8.2         0.0\n",
      "1         Hulu           225        6.31    1029.02         8.2         3.5\n",
      "2  Prime Video           371        6.10     484.41        10.0         0.0\n",
      "3      Disney+           181        6.46    1969.35         8.0         4.1\n"
     ]
    },
    {
     "data": {
      "application/vnd.plotly.v1+json": {
       "config": {
        "plotlyServerURL": "https://plot.ly"
       },
       "data": [
        {
         "boxpoints": "outliers",
         "name": "Netflix",
         "type": "box",
         "y": [
          7.9,
          7.7,
          7.8,
          7.8,
          7.8,
          8,
          7.6,
          7.3,
          7.6,
          7.7,
          7.2,
          7.9,
          7.7,
          7.1,
          7.8,
          6.9,
          7.6,
          5.9,
          7.6,
          7.4,
          7.8,
          6.9,
          7,
          7.6,
          7.8,
          7,
          7.2,
          7.6,
          7,
          7.3,
          7.5,
          7.1,
          6.7,
          7,
          7.7,
          7.6,
          7.5,
          7.1,
          7.1,
          7.3,
          7,
          7,
          6.7,
          6.6,
          6.9,
          6.8,
          7.5,
          6.5,
          7.1,
          6.6,
          6.5,
          6.8,
          6.6,
          7.3,
          6.1,
          7,
          7,
          7.4,
          6.5,
          6.9,
          7.2,
          7.6,
          7.3,
          6.6,
          6.5,
          6.4,
          7.2,
          6.9,
          6.2,
          7.3,
          6.3,
          5.8,
          6.8,
          6.5,
          6.2,
          6.2,
          6.7,
          6.7,
          6.6,
          6.5,
          7.4,
          6.1,
          6.7,
          6.2,
          6.8,
          6.4,
          6.4,
          5.6,
          6.1,
          7.4,
          7.2,
          7.3,
          6.8,
          6.1,
          6.9,
          6.2,
          6.6,
          6.2,
          6.1,
          6.8,
          6.2,
          6.4,
          5.9,
          6.7,
          5.8,
          6.1,
          6.1,
          6,
          5.8,
          6.3,
          6.7,
          6.2,
          6.4,
          6.9,
          6.7,
          6.8,
          6.2,
          6.5,
          5.9,
          6.2,
          6.3,
          6,
          5.9,
          6.9,
          6.6,
          6.9,
          6.4,
          6.1,
          5.6,
          5.7,
          6.3,
          6.3,
          6,
          5.3,
          5.9,
          6.1,
          6.3,
          5.7,
          5.6,
          6.1,
          6.2,
          5.2,
          5.8,
          6.7,
          6.5,
          7.2,
          5.8,
          6.4,
          6.1,
          6.2,
          6.5,
          5.7,
          5.5,
          6,
          6,
          5.9,
          5.6,
          5.8,
          5.6,
          5.8,
          5.6,
          5.8,
          6.3,
          6.2,
          5.5,
          5.9,
          5.9,
          6.1,
          6,
          5.4,
          6.6,
          6.1,
          5.9,
          6,
          5.6,
          6.2,
          5.6,
          6.7,
          5,
          5.8,
          6,
          5.9,
          5.2,
          5.6,
          6.4,
          6.3,
          5.8,
          5.5,
          5.8,
          5.9,
          6.4,
          5.8,
          5.3,
          5.7,
          5.2,
          6.3,
          5.5,
          6.2,
          6.5,
          7.8,
          5.5,
          5.3,
          5.8,
          6.5,
          5.3,
          5.6,
          7.2,
          5.5,
          5,
          6.7,
          6.6,
          6.6,
          5.4,
          5.3,
          5.9,
          5,
          5.5,
          5.4,
          6.5,
          5.6,
          6.6,
          5.8,
          5.5,
          4.4,
          4.6,
          5.5,
          5.7,
          5.7,
          6.7,
          5.7,
          6,
          6.3,
          6.5,
          4.8,
          8.1,
          5.4,
          6.3,
          5.6,
          5.7,
          4.9,
          5.4,
          4.9,
          4.9,
          5.4,
          6,
          4.7,
          7,
          5.2,
          7.7,
          0,
          7.1,
          5.1,
          5.6,
          5.8,
          6.5,
          6.1,
          5.8,
          5.4,
          6.6,
          4.6,
          7.8,
          5.9,
          6.3,
          5.9,
          5.4,
          5.6,
          5.7,
          7,
          6.4,
          7.1,
          6.4,
          4.8,
          4.4,
          4.8,
          7.4,
          6.6,
          5.6,
          6.3,
          4.2,
          8.2,
          6.8,
          4.8,
          5.7,
          5.8,
          6.7,
          3,
          4.1,
          7.4,
          7.2,
          6.1,
          7.2,
          6.7,
          6.8,
          3.1,
          8,
          6,
          6.1,
          6.5,
          7.2
         ]
        },
        {
         "boxpoints": "outliers",
         "name": "Hulu",
         "type": "box",
         "y": [
          7.1,
          7.3,
          6.6,
          6.5,
          6.5,
          6.5,
          5.6,
          6.1,
          6.1,
          6.1,
          5.8,
          6.7,
          5.9,
          5.4,
          5.2,
          7.4,
          8.2,
          7.5,
          7.9,
          7.7,
          7.3,
          7.9,
          7.3,
          7.9,
          7.6,
          6.9,
          7.8,
          7.2,
          7.6,
          7.1,
          7.2,
          7.1,
          8.1,
          7.3,
          7.1,
          7.6,
          7,
          7.1,
          7.4,
          7,
          6.8,
          7.8,
          6.7,
          5.7,
          6.6,
          6.3,
          7,
          6.5,
          6.5,
          6.6,
          7.2,
          6.5,
          7,
          6.9,
          6.6,
          6.5,
          7.4,
          5.3,
          7.1,
          7.4,
          7.2,
          7.3,
          6.7,
          7,
          6.2,
          6.7,
          7.5,
          6,
          6.7,
          6.6,
          7,
          6.4,
          7.1,
          6.6,
          7.1,
          6.7,
          7.5,
          6.4,
          6.7,
          6,
          7.2,
          6.6,
          6.3,
          6.9,
          5.9,
          7.4,
          5.9,
          7,
          5.7,
          6.3,
          6.3,
          6,
          6.1,
          6.2,
          6.7,
          5.9,
          6.7,
          6.7,
          6.8,
          5.9,
          6.7,
          6.3,
          6.9,
          6.2,
          5.9,
          7.1,
          6.4,
          6.4,
          6.9,
          6.5,
          6.7,
          6.1,
          6.4,
          6.4,
          6.2,
          7.2,
          5.3,
          6.1,
          6.4,
          6,
          6.3,
          6.7,
          5.6,
          6,
          5.4,
          6.2,
          6.1,
          6.2,
          7.5,
          5.8,
          5.7,
          6.2,
          6.3,
          6.5,
          5.8,
          5.8,
          6.6,
          6.3,
          6.4,
          6,
          6,
          6.5,
          5.6,
          6.8,
          6,
          6.4,
          6.6,
          6.6,
          6.7,
          5.9,
          5.6,
          7.1,
          5.9,
          6.3,
          5.4,
          6,
          6.1,
          6.4,
          5.4,
          6.1,
          6,
          5.8,
          6.1,
          5.9,
          6.2,
          5.4,
          6.6,
          5.4,
          5.4,
          5.4,
          6.7,
          5.9,
          6.7,
          5.3,
          6.8,
          6.9,
          5.6,
          5.8,
          5.3,
          5.5,
          6.6,
          6,
          6.6,
          5.4,
          6.5,
          6,
          6.1,
          7.2,
          5.2,
          4.6,
          5.3,
          5.7,
          5.1,
          6.8,
          4.9,
          5.3,
          5.6,
          4.2,
          5.4,
          5.4,
          5.3,
          5.7,
          5.7,
          6.2,
          5.2,
          4.9,
          4.9,
          4.3,
          4.9,
          5.2,
          5.7,
          5.7,
          6.9,
          5.9,
          4.4,
          6.4,
          4.4,
          7.1,
          5.6,
          3.5,
          6.5,
          4.6,
          5.3,
          3.7,
          5.4
         ]
        },
        {
         "boxpoints": "outliers",
         "name": "Prime Video",
         "type": "box",
         "y": [
          7,
          7.5,
          7.1,
          6.6,
          6.4,
          6.8,
          6.1,
          6.1,
          6.7,
          5.8,
          5.9,
          6.2,
          6.3,
          5.9,
          5.8,
          6,
          5.9,
          5.6,
          5.5,
          6.1,
          6,
          6,
          5.2,
          5.9,
          5.6,
          6.6,
          5.4,
          5.3,
          5.9,
          6.3,
          6,
          7,
          5.8,
          6.1,
          7.8,
          5.9,
          7,
          4.8,
          5.7,
          7.2,
          7.2,
          7.6,
          7,
          7,
          7.4,
          7.1,
          7.2,
          6.7,
          6.4,
          7.1,
          7.2,
          5.9,
          6.1,
          6.2,
          6.8,
          7.5,
          6.3,
          6.8,
          5.7,
          4.9,
          5.4,
          5.7,
          4.9,
          7.1,
          8.3,
          7.9,
          7.7,
          8,
          7.3,
          7.4,
          7.2,
          6.7,
          6.9,
          7.3,
          7.5,
          7.9,
          6.5,
          7.6,
          7.3,
          6.8,
          7,
          8,
          7.1,
          6.5,
          7.1,
          6.5,
          6.9,
          6.8,
          7.3,
          7.4,
          6.4,
          7.4,
          7.2,
          7,
          6.2,
          7,
          6.8,
          6.5,
          7.2,
          7.6,
          6.7,
          6.8,
          6.3,
          6.8,
          6.8,
          6.3,
          7,
          6.9,
          7.6,
          6.3,
          7,
          6.6,
          6.7,
          7,
          6.2,
          6.6,
          7,
          6.7,
          6.9,
          5.1,
          6.7,
          6.6,
          7,
          6.5,
          6.5,
          6.9,
          6.4,
          6.1,
          6,
          6.7,
          6.2,
          7,
          6.1,
          7,
          6.5,
          5.9,
          5.8,
          5.5,
          7.2,
          6.4,
          6.4,
          7.2,
          6.2,
          6,
          6,
          5.6,
          5.5,
          6.2,
          6.6,
          7,
          6.1,
          6.6,
          6.6,
          6.9,
          7.4,
          6.2,
          5.4,
          5.6,
          5.7,
          7.1,
          5.9,
          6.8,
          6.8,
          5.6,
          6.7,
          5,
          6.4,
          6.8,
          5.4,
          6.6,
          6.1,
          6.8,
          5.8,
          5.6,
          7,
          5.8,
          5.8,
          6.1,
          5.5,
          6.5,
          6.1,
          6.1,
          7,
          6.9,
          5.5,
          7.3,
          7.4,
          6.7,
          7.3,
          6.3,
          6.5,
          6.7,
          6.3,
          6.1,
          6.5,
          5.7,
          6.5,
          6.1,
          5.7,
          7.2,
          6,
          6.7,
          5.2,
          5.5,
          5.8,
          6.6,
          5.4,
          6.7,
          6.5,
          5.2,
          5.3,
          5.9,
          6.4,
          5.7,
          5.3,
          6.2,
          6.5,
          5.8,
          5.2,
          6,
          5.4,
          5.7,
          5.4,
          7.3,
          4.6,
          5.8,
          5.7,
          5.7,
          5.9,
          5.6,
          7.3,
          6.4,
          7.1,
          6.6,
          5.3,
          5.4,
          5.7,
          5.4,
          4.7,
          6,
          6.8,
          5.3,
          6.3,
          5.9,
          6.1,
          6.2,
          6.3,
          5.1,
          5.6,
          5.6,
          4.7,
          5.7,
          5.1,
          6.2,
          6.3,
          5.9,
          5.3,
          6.7,
          4.7,
          6,
          5.5,
          5.6,
          5.2,
          5.9,
          6.8,
          5.9,
          6.8,
          5.4,
          6.4,
          6.5,
          6.2,
          6.5,
          5.9,
          6.2,
          5.6,
          5.7,
          5.4,
          4.6,
          5.5,
          6.3,
          4.1,
          6.4,
          4.9,
          5.5,
          5.1,
          4.8,
          4.3,
          5.4,
          5.5,
          5.3,
          6.3,
          6,
          5.9,
          5.3,
          6.8,
          3.8,
          6.1,
          6.1,
          6.9,
          5.2,
          6.1,
          6,
          4.7,
          6,
          6.4,
          5.4,
          4.5,
          3.7,
          5.9,
          6.6,
          5.2,
          5.5,
          5.4,
          6.2,
          4.8,
          6.5,
          10,
          3.5,
          5.5,
          3.9,
          7.1,
          5.3,
          5.8,
          6.7,
          6.1,
          6.1,
          4.9,
          4.8,
          5,
          6.8,
          6.1,
          4.7,
          4.1,
          6,
          6.3,
          4.9,
          6,
          6.5,
          3.2,
          6.3,
          6.1,
          8,
          3.8,
          6.9,
          3.1,
          5.5,
          6.4,
          6.5,
          2.9,
          0,
          5,
          6,
          6.8,
          3,
          4.1,
          5.8,
          5.9,
          0,
          7.2,
          4.7,
          2.3,
          7.3,
          2,
          6.7,
          5.6,
          6.2,
          4.2,
          6.2,
          7.1,
          5,
          6.7
         ]
        },
        {
         "boxpoints": "outliers",
         "name": "Disney+",
         "type": "box",
         "y": [
          6.5,
          6.2,
          5.8,
          5.9,
          6,
          6.8,
          6.9,
          6.7,
          6.2,
          4.9,
          8,
          7.4,
          7.9,
          8,
          7.8,
          7.4,
          7.7,
          7.7,
          7.6,
          7.5,
          7.2,
          7.6,
          7.5,
          7.1,
          7.4,
          7.6,
          7.5,
          7.5,
          7.3,
          7.6,
          7.8,
          7.3,
          7.4,
          7,
          7.3,
          7.1,
          7.1,
          7.4,
          6.8,
          7.1,
          6.6,
          6.6,
          6.8,
          6.6,
          7,
          6.8,
          7.5,
          7.6,
          6.9,
          6.6,
          6.4,
          7,
          6.7,
          7.4,
          6.8,
          6.3,
          7.4,
          7.1,
          7.2,
          6.4,
          6.9,
          6.7,
          6.3,
          6.9,
          6.2,
          6.3,
          6.7,
          6.4,
          6.5,
          7.3,
          6.5,
          6.3,
          6.3,
          6.8,
          7.7,
          7.2,
          6.5,
          7.2,
          7.4,
          6.4,
          6.1,
          6.5,
          6.7,
          6.6,
          6.4,
          6.8,
          7.2,
          6.7,
          7.3,
          5.8,
          6.2,
          6.3,
          6.7,
          6.5,
          6.5,
          5.9,
          7.2,
          7,
          6.3,
          6.3,
          6,
          6.5,
          6.6,
          6.2,
          5.6,
          6.2,
          6,
          5.8,
          6.2,
          7,
          5.9,
          6.7,
          6.4,
          5.9,
          6.9,
          6.9,
          6.8,
          7,
          6.1,
          6.8,
          6.2,
          6,
          5.6,
          6,
          6.1,
          6.8,
          6.9,
          6,
          7.2,
          6.1,
          6.5,
          5.6,
          5.8,
          6.7,
          5.5,
          5.6,
          5.7,
          5.3,
          5.5,
          6.3,
          5.4,
          5.7,
          6,
          5.8,
          6.1,
          5.8,
          5.7,
          6.4,
          5.9,
          5.2,
          5.9,
          6.2,
          7.3,
          5.5,
          6.3,
          6.1,
          6.6,
          5.1,
          6,
          5.9,
          5.7,
          5.2,
          6.1,
          6,
          6.1,
          6.1,
          5.2,
          5.1,
          5.1,
          4.5,
          6.2,
          5.1,
          5.6,
          5.7,
          5.4,
          6.1,
          4.9,
          5.4,
          5.4,
          4.3,
          4.1
         ]
        }
       ],
       "layout": {
        "height": 500,
        "showlegend": true,
        "template": {
         "data": {
          "bar": [
           {
            "error_x": {
             "color": "#2a3f5f"
            },
            "error_y": {
             "color": "#2a3f5f"
            },
            "marker": {
             "line": {
              "color": "#E5ECF6",
              "width": 0.5
             },
             "pattern": {
              "fillmode": "overlay",
              "size": 10,
              "solidity": 0.2
             }
            },
            "type": "bar"
           }
          ],
          "barpolar": [
           {
            "marker": {
             "line": {
              "color": "#E5ECF6",
              "width": 0.5
             },
             "pattern": {
              "fillmode": "overlay",
              "size": 10,
              "solidity": 0.2
             }
            },
            "type": "barpolar"
           }
          ],
          "carpet": [
           {
            "aaxis": {
             "endlinecolor": "#2a3f5f",
             "gridcolor": "white",
             "linecolor": "white",
             "minorgridcolor": "white",
             "startlinecolor": "#2a3f5f"
            },
            "baxis": {
             "endlinecolor": "#2a3f5f",
             "gridcolor": "white",
             "linecolor": "white",
             "minorgridcolor": "white",
             "startlinecolor": "#2a3f5f"
            },
            "type": "carpet"
           }
          ],
          "choropleth": [
           {
            "colorbar": {
             "outlinewidth": 0,
             "ticks": ""
            },
            "type": "choropleth"
           }
          ],
          "contour": [
           {
            "colorbar": {
             "outlinewidth": 0,
             "ticks": ""
            },
            "colorscale": [
             [
              0,
              "#0d0887"
             ],
             [
              0.1111111111111111,
              "#46039f"
             ],
             [
              0.2222222222222222,
              "#7201a8"
             ],
             [
              0.3333333333333333,
              "#9c179e"
             ],
             [
              0.4444444444444444,
              "#bd3786"
             ],
             [
              0.5555555555555556,
              "#d8576b"
             ],
             [
              0.6666666666666666,
              "#ed7953"
             ],
             [
              0.7777777777777778,
              "#fb9f3a"
             ],
             [
              0.8888888888888888,
              "#fdca26"
             ],
             [
              1,
              "#f0f921"
             ]
            ],
            "type": "contour"
           }
          ],
          "contourcarpet": [
           {
            "colorbar": {
             "outlinewidth": 0,
             "ticks": ""
            },
            "type": "contourcarpet"
           }
          ],
          "heatmap": [
           {
            "colorbar": {
             "outlinewidth": 0,
             "ticks": ""
            },
            "colorscale": [
             [
              0,
              "#0d0887"
             ],
             [
              0.1111111111111111,
              "#46039f"
             ],
             [
              0.2222222222222222,
              "#7201a8"
             ],
             [
              0.3333333333333333,
              "#9c179e"
             ],
             [
              0.4444444444444444,
              "#bd3786"
             ],
             [
              0.5555555555555556,
              "#d8576b"
             ],
             [
              0.6666666666666666,
              "#ed7953"
             ],
             [
              0.7777777777777778,
              "#fb9f3a"
             ],
             [
              0.8888888888888888,
              "#fdca26"
             ],
             [
              1,
              "#f0f921"
             ]
            ],
            "type": "heatmap"
           }
          ],
          "heatmapgl": [
           {
            "colorbar": {
             "outlinewidth": 0,
             "ticks": ""
            },
            "colorscale": [
             [
              0,
              "#0d0887"
             ],
             [
              0.1111111111111111,
              "#46039f"
             ],
             [
              0.2222222222222222,
              "#7201a8"
             ],
             [
              0.3333333333333333,
              "#9c179e"
             ],
             [
              0.4444444444444444,
              "#bd3786"
             ],
             [
              0.5555555555555556,
              "#d8576b"
             ],
             [
              0.6666666666666666,
              "#ed7953"
             ],
             [
              0.7777777777777778,
              "#fb9f3a"
             ],
             [
              0.8888888888888888,
              "#fdca26"
             ],
             [
              1,
              "#f0f921"
             ]
            ],
            "type": "heatmapgl"
           }
          ],
          "histogram": [
           {
            "marker": {
             "pattern": {
              "fillmode": "overlay",
              "size": 10,
              "solidity": 0.2
             }
            },
            "type": "histogram"
           }
          ],
          "histogram2d": [
           {
            "colorbar": {
             "outlinewidth": 0,
             "ticks": ""
            },
            "colorscale": [
             [
              0,
              "#0d0887"
             ],
             [
              0.1111111111111111,
              "#46039f"
             ],
             [
              0.2222222222222222,
              "#7201a8"
             ],
             [
              0.3333333333333333,
              "#9c179e"
             ],
             [
              0.4444444444444444,
              "#bd3786"
             ],
             [
              0.5555555555555556,
              "#d8576b"
             ],
             [
              0.6666666666666666,
              "#ed7953"
             ],
             [
              0.7777777777777778,
              "#fb9f3a"
             ],
             [
              0.8888888888888888,
              "#fdca26"
             ],
             [
              1,
              "#f0f921"
             ]
            ],
            "type": "histogram2d"
           }
          ],
          "histogram2dcontour": [
           {
            "colorbar": {
             "outlinewidth": 0,
             "ticks": ""
            },
            "colorscale": [
             [
              0,
              "#0d0887"
             ],
             [
              0.1111111111111111,
              "#46039f"
             ],
             [
              0.2222222222222222,
              "#7201a8"
             ],
             [
              0.3333333333333333,
              "#9c179e"
             ],
             [
              0.4444444444444444,
              "#bd3786"
             ],
             [
              0.5555555555555556,
              "#d8576b"
             ],
             [
              0.6666666666666666,
              "#ed7953"
             ],
             [
              0.7777777777777778,
              "#fb9f3a"
             ],
             [
              0.8888888888888888,
              "#fdca26"
             ],
             [
              1,
              "#f0f921"
             ]
            ],
            "type": "histogram2dcontour"
           }
          ],
          "mesh3d": [
           {
            "colorbar": {
             "outlinewidth": 0,
             "ticks": ""
            },
            "type": "mesh3d"
           }
          ],
          "parcoords": [
           {
            "line": {
             "colorbar": {
              "outlinewidth": 0,
              "ticks": ""
             }
            },
            "type": "parcoords"
           }
          ],
          "pie": [
           {
            "automargin": true,
            "type": "pie"
           }
          ],
          "scatter": [
           {
            "marker": {
             "colorbar": {
              "outlinewidth": 0,
              "ticks": ""
             }
            },
            "type": "scatter"
           }
          ],
          "scatter3d": [
           {
            "line": {
             "colorbar": {
              "outlinewidth": 0,
              "ticks": ""
             }
            },
            "marker": {
             "colorbar": {
              "outlinewidth": 0,
              "ticks": ""
             }
            },
            "type": "scatter3d"
           }
          ],
          "scattercarpet": [
           {
            "marker": {
             "colorbar": {
              "outlinewidth": 0,
              "ticks": ""
             }
            },
            "type": "scattercarpet"
           }
          ],
          "scattergeo": [
           {
            "marker": {
             "colorbar": {
              "outlinewidth": 0,
              "ticks": ""
             }
            },
            "type": "scattergeo"
           }
          ],
          "scattergl": [
           {
            "marker": {
             "colorbar": {
              "outlinewidth": 0,
              "ticks": ""
             }
            },
            "type": "scattergl"
           }
          ],
          "scattermapbox": [
           {
            "marker": {
             "colorbar": {
              "outlinewidth": 0,
              "ticks": ""
             }
            },
            "type": "scattermapbox"
           }
          ],
          "scatterpolar": [
           {
            "marker": {
             "colorbar": {
              "outlinewidth": 0,
              "ticks": ""
             }
            },
            "type": "scatterpolar"
           }
          ],
          "scatterpolargl": [
           {
            "marker": {
             "colorbar": {
              "outlinewidth": 0,
              "ticks": ""
             }
            },
            "type": "scatterpolargl"
           }
          ],
          "scatterternary": [
           {
            "marker": {
             "colorbar": {
              "outlinewidth": 0,
              "ticks": ""
             }
            },
            "type": "scatterternary"
           }
          ],
          "surface": [
           {
            "colorbar": {
             "outlinewidth": 0,
             "ticks": ""
            },
            "colorscale": [
             [
              0,
              "#0d0887"
             ],
             [
              0.1111111111111111,
              "#46039f"
             ],
             [
              0.2222222222222222,
              "#7201a8"
             ],
             [
              0.3333333333333333,
              "#9c179e"
             ],
             [
              0.4444444444444444,
              "#bd3786"
             ],
             [
              0.5555555555555556,
              "#d8576b"
             ],
             [
              0.6666666666666666,
              "#ed7953"
             ],
             [
              0.7777777777777778,
              "#fb9f3a"
             ],
             [
              0.8888888888888888,
              "#fdca26"
             ],
             [
              1,
              "#f0f921"
             ]
            ],
            "type": "surface"
           }
          ],
          "table": [
           {
            "cells": {
             "fill": {
              "color": "#EBF0F8"
             },
             "line": {
              "color": "white"
             }
            },
            "header": {
             "fill": {
              "color": "#C8D4E3"
             },
             "line": {
              "color": "white"
             }
            },
            "type": "table"
           }
          ]
         },
         "layout": {
          "annotationdefaults": {
           "arrowcolor": "#2a3f5f",
           "arrowhead": 0,
           "arrowwidth": 1
          },
          "autotypenumbers": "strict",
          "coloraxis": {
           "colorbar": {
            "outlinewidth": 0,
            "ticks": ""
           }
          },
          "colorscale": {
           "diverging": [
            [
             0,
             "#8e0152"
            ],
            [
             0.1,
             "#c51b7d"
            ],
            [
             0.2,
             "#de77ae"
            ],
            [
             0.3,
             "#f1b6da"
            ],
            [
             0.4,
             "#fde0ef"
            ],
            [
             0.5,
             "#f7f7f7"
            ],
            [
             0.6,
             "#e6f5d0"
            ],
            [
             0.7,
             "#b8e186"
            ],
            [
             0.8,
             "#7fbc41"
            ],
            [
             0.9,
             "#4d9221"
            ],
            [
             1,
             "#276419"
            ]
           ],
           "sequential": [
            [
             0,
             "#0d0887"
            ],
            [
             0.1111111111111111,
             "#46039f"
            ],
            [
             0.2222222222222222,
             "#7201a8"
            ],
            [
             0.3333333333333333,
             "#9c179e"
            ],
            [
             0.4444444444444444,
             "#bd3786"
            ],
            [
             0.5555555555555556,
             "#d8576b"
            ],
            [
             0.6666666666666666,
             "#ed7953"
            ],
            [
             0.7777777777777778,
             "#fb9f3a"
            ],
            [
             0.8888888888888888,
             "#fdca26"
            ],
            [
             1,
             "#f0f921"
            ]
           ],
           "sequentialminus": [
            [
             0,
             "#0d0887"
            ],
            [
             0.1111111111111111,
             "#46039f"
            ],
            [
             0.2222222222222222,
             "#7201a8"
            ],
            [
             0.3333333333333333,
             "#9c179e"
            ],
            [
             0.4444444444444444,
             "#bd3786"
            ],
            [
             0.5555555555555556,
             "#d8576b"
            ],
            [
             0.6666666666666666,
             "#ed7953"
            ],
            [
             0.7777777777777778,
             "#fb9f3a"
            ],
            [
             0.8888888888888888,
             "#fdca26"
            ],
            [
             1,
             "#f0f921"
            ]
           ]
          },
          "colorway": [
           "#636efa",
           "#EF553B",
           "#00cc96",
           "#ab63fa",
           "#FFA15A",
           "#19d3f3",
           "#FF6692",
           "#B6E880",
           "#FF97FF",
           "#FECB52"
          ],
          "font": {
           "color": "#2a3f5f"
          },
          "geo": {
           "bgcolor": "white",
           "lakecolor": "white",
           "landcolor": "#E5ECF6",
           "showlakes": true,
           "showland": true,
           "subunitcolor": "white"
          },
          "hoverlabel": {
           "align": "left"
          },
          "hovermode": "closest",
          "mapbox": {
           "style": "light"
          },
          "paper_bgcolor": "white",
          "plot_bgcolor": "#E5ECF6",
          "polar": {
           "angularaxis": {
            "gridcolor": "white",
            "linecolor": "white",
            "ticks": ""
           },
           "bgcolor": "#E5ECF6",
           "radialaxis": {
            "gridcolor": "white",
            "linecolor": "white",
            "ticks": ""
           }
          },
          "scene": {
           "xaxis": {
            "backgroundcolor": "#E5ECF6",
            "gridcolor": "white",
            "gridwidth": 2,
            "linecolor": "white",
            "showbackground": true,
            "ticks": "",
            "zerolinecolor": "white"
           },
           "yaxis": {
            "backgroundcolor": "#E5ECF6",
            "gridcolor": "white",
            "gridwidth": 2,
            "linecolor": "white",
            "showbackground": true,
            "ticks": "",
            "zerolinecolor": "white"
           },
           "zaxis": {
            "backgroundcolor": "#E5ECF6",
            "gridcolor": "white",
            "gridwidth": 2,
            "linecolor": "white",
            "showbackground": true,
            "ticks": "",
            "zerolinecolor": "white"
           }
          },
          "shapedefaults": {
           "line": {
            "color": "#2a3f5f"
           }
          },
          "ternary": {
           "aaxis": {
            "gridcolor": "white",
            "linecolor": "white",
            "ticks": ""
           },
           "baxis": {
            "gridcolor": "white",
            "linecolor": "white",
            "ticks": ""
           },
           "bgcolor": "#E5ECF6",
           "caxis": {
            "gridcolor": "white",
            "linecolor": "white",
            "ticks": ""
           }
          },
          "title": {
           "x": 0.05
          },
          "xaxis": {
           "automargin": true,
           "gridcolor": "white",
           "linecolor": "white",
           "ticks": "",
           "title": {
            "standoff": 15
           },
           "zerolinecolor": "white",
           "zerolinewidth": 2
          },
          "yaxis": {
           "automargin": true,
           "gridcolor": "white",
           "linecolor": "white",
           "ticks": "",
           "title": {
            "standoff": 15
           },
           "zerolinecolor": "white",
           "zerolinewidth": 2
          }
         }
        },
        "title": {
         "text": "Rating Distribution by Platform"
        },
        "yaxis": {
         "title": {
          "text": "Rating"
         }
        }
       }
      }
     },
     "metadata": {},
     "output_type": "display_data"
    },
    {
     "data": {
      "application/vnd.plotly.v1+json": {
       "config": {
        "plotlyServerURL": "https://plot.ly"
       },
       "data": [
        {
         "coloraxis": "coloraxis",
         "hovertemplate": "Platform: %{x}<br>Genre: %{y}<br>Number of Titles: %{z}<extra></extra>",
         "name": "0",
         "type": "heatmap",
         "x": [
          "Netflix",
          "Hulu",
          "Prime Video",
          "Disney+"
         ],
         "xaxis": "x",
         "y": [
          "Drama",
          "Comedy",
          "Drama Romance",
          "Comedy Drama",
          "Comedy Drama Romance",
          "Animation Family",
          "Horror Thriller",
          "Comedy Romance",
          "Comedy Family",
          "Animation Comedy Family"
         ],
         "yaxis": "y",
         "z": [
          [
           22,
           12,
           40,
           5
          ],
          [
           13,
           18,
           28,
           8
          ],
          [
           10,
           7,
           14,
           0
          ],
          [
           5,
           9,
           12,
           0
          ],
          [
           4,
           7,
           9,
           1
          ],
          [
           5,
           0,
           2,
           12
          ],
          [
           6,
           4,
           7,
           0
          ],
          [
           6,
           2,
           7,
           1
          ],
          [
           3,
           2,
           2,
           6
          ],
          [
           2,
           0,
           2,
           8
          ]
         ]
        }
       ],
       "layout": {
        "coloraxis": {
         "colorbar": {
          "title": {
           "text": "Number of Titles"
          }
         },
         "colorscale": [
          [
           0,
           "#0d0887"
          ],
          [
           0.1111111111111111,
           "#46039f"
          ],
          [
           0.2222222222222222,
           "#7201a8"
          ],
          [
           0.3333333333333333,
           "#9c179e"
          ],
          [
           0.4444444444444444,
           "#bd3786"
          ],
          [
           0.5555555555555556,
           "#d8576b"
          ],
          [
           0.6666666666666666,
           "#ed7953"
          ],
          [
           0.7777777777777778,
           "#fb9f3a"
          ],
          [
           0.8888888888888888,
           "#fdca26"
          ],
          [
           1,
           "#f0f921"
          ]
         ]
        },
        "height": 600,
        "template": {
         "data": {
          "bar": [
           {
            "error_x": {
             "color": "#2a3f5f"
            },
            "error_y": {
             "color": "#2a3f5f"
            },
            "marker": {
             "line": {
              "color": "#E5ECF6",
              "width": 0.5
             },
             "pattern": {
              "fillmode": "overlay",
              "size": 10,
              "solidity": 0.2
             }
            },
            "type": "bar"
           }
          ],
          "barpolar": [
           {
            "marker": {
             "line": {
              "color": "#E5ECF6",
              "width": 0.5
             },
             "pattern": {
              "fillmode": "overlay",
              "size": 10,
              "solidity": 0.2
             }
            },
            "type": "barpolar"
           }
          ],
          "carpet": [
           {
            "aaxis": {
             "endlinecolor": "#2a3f5f",
             "gridcolor": "white",
             "linecolor": "white",
             "minorgridcolor": "white",
             "startlinecolor": "#2a3f5f"
            },
            "baxis": {
             "endlinecolor": "#2a3f5f",
             "gridcolor": "white",
             "linecolor": "white",
             "minorgridcolor": "white",
             "startlinecolor": "#2a3f5f"
            },
            "type": "carpet"
           }
          ],
          "choropleth": [
           {
            "colorbar": {
             "outlinewidth": 0,
             "ticks": ""
            },
            "type": "choropleth"
           }
          ],
          "contour": [
           {
            "colorbar": {
             "outlinewidth": 0,
             "ticks": ""
            },
            "colorscale": [
             [
              0,
              "#0d0887"
             ],
             [
              0.1111111111111111,
              "#46039f"
             ],
             [
              0.2222222222222222,
              "#7201a8"
             ],
             [
              0.3333333333333333,
              "#9c179e"
             ],
             [
              0.4444444444444444,
              "#bd3786"
             ],
             [
              0.5555555555555556,
              "#d8576b"
             ],
             [
              0.6666666666666666,
              "#ed7953"
             ],
             [
              0.7777777777777778,
              "#fb9f3a"
             ],
             [
              0.8888888888888888,
              "#fdca26"
             ],
             [
              1,
              "#f0f921"
             ]
            ],
            "type": "contour"
           }
          ],
          "contourcarpet": [
           {
            "colorbar": {
             "outlinewidth": 0,
             "ticks": ""
            },
            "type": "contourcarpet"
           }
          ],
          "heatmap": [
           {
            "colorbar": {
             "outlinewidth": 0,
             "ticks": ""
            },
            "colorscale": [
             [
              0,
              "#0d0887"
             ],
             [
              0.1111111111111111,
              "#46039f"
             ],
             [
              0.2222222222222222,
              "#7201a8"
             ],
             [
              0.3333333333333333,
              "#9c179e"
             ],
             [
              0.4444444444444444,
              "#bd3786"
             ],
             [
              0.5555555555555556,
              "#d8576b"
             ],
             [
              0.6666666666666666,
              "#ed7953"
             ],
             [
              0.7777777777777778,
              "#fb9f3a"
             ],
             [
              0.8888888888888888,
              "#fdca26"
             ],
             [
              1,
              "#f0f921"
             ]
            ],
            "type": "heatmap"
           }
          ],
          "heatmapgl": [
           {
            "colorbar": {
             "outlinewidth": 0,
             "ticks": ""
            },
            "colorscale": [
             [
              0,
              "#0d0887"
             ],
             [
              0.1111111111111111,
              "#46039f"
             ],
             [
              0.2222222222222222,
              "#7201a8"
             ],
             [
              0.3333333333333333,
              "#9c179e"
             ],
             [
              0.4444444444444444,
              "#bd3786"
             ],
             [
              0.5555555555555556,
              "#d8576b"
             ],
             [
              0.6666666666666666,
              "#ed7953"
             ],
             [
              0.7777777777777778,
              "#fb9f3a"
             ],
             [
              0.8888888888888888,
              "#fdca26"
             ],
             [
              1,
              "#f0f921"
             ]
            ],
            "type": "heatmapgl"
           }
          ],
          "histogram": [
           {
            "marker": {
             "pattern": {
              "fillmode": "overlay",
              "size": 10,
              "solidity": 0.2
             }
            },
            "type": "histogram"
           }
          ],
          "histogram2d": [
           {
            "colorbar": {
             "outlinewidth": 0,
             "ticks": ""
            },
            "colorscale": [
             [
              0,
              "#0d0887"
             ],
             [
              0.1111111111111111,
              "#46039f"
             ],
             [
              0.2222222222222222,
              "#7201a8"
             ],
             [
              0.3333333333333333,
              "#9c179e"
             ],
             [
              0.4444444444444444,
              "#bd3786"
             ],
             [
              0.5555555555555556,
              "#d8576b"
             ],
             [
              0.6666666666666666,
              "#ed7953"
             ],
             [
              0.7777777777777778,
              "#fb9f3a"
             ],
             [
              0.8888888888888888,
              "#fdca26"
             ],
             [
              1,
              "#f0f921"
             ]
            ],
            "type": "histogram2d"
           }
          ],
          "histogram2dcontour": [
           {
            "colorbar": {
             "outlinewidth": 0,
             "ticks": ""
            },
            "colorscale": [
             [
              0,
              "#0d0887"
             ],
             [
              0.1111111111111111,
              "#46039f"
             ],
             [
              0.2222222222222222,
              "#7201a8"
             ],
             [
              0.3333333333333333,
              "#9c179e"
             ],
             [
              0.4444444444444444,
              "#bd3786"
             ],
             [
              0.5555555555555556,
              "#d8576b"
             ],
             [
              0.6666666666666666,
              "#ed7953"
             ],
             [
              0.7777777777777778,
              "#fb9f3a"
             ],
             [
              0.8888888888888888,
              "#fdca26"
             ],
             [
              1,
              "#f0f921"
             ]
            ],
            "type": "histogram2dcontour"
           }
          ],
          "mesh3d": [
           {
            "colorbar": {
             "outlinewidth": 0,
             "ticks": ""
            },
            "type": "mesh3d"
           }
          ],
          "parcoords": [
           {
            "line": {
             "colorbar": {
              "outlinewidth": 0,
              "ticks": ""
             }
            },
            "type": "parcoords"
           }
          ],
          "pie": [
           {
            "automargin": true,
            "type": "pie"
           }
          ],
          "scatter": [
           {
            "marker": {
             "colorbar": {
              "outlinewidth": 0,
              "ticks": ""
             }
            },
            "type": "scatter"
           }
          ],
          "scatter3d": [
           {
            "line": {
             "colorbar": {
              "outlinewidth": 0,
              "ticks": ""
             }
            },
            "marker": {
             "colorbar": {
              "outlinewidth": 0,
              "ticks": ""
             }
            },
            "type": "scatter3d"
           }
          ],
          "scattercarpet": [
           {
            "marker": {
             "colorbar": {
              "outlinewidth": 0,
              "ticks": ""
             }
            },
            "type": "scattercarpet"
           }
          ],
          "scattergeo": [
           {
            "marker": {
             "colorbar": {
              "outlinewidth": 0,
              "ticks": ""
             }
            },
            "type": "scattergeo"
           }
          ],
          "scattergl": [
           {
            "marker": {
             "colorbar": {
              "outlinewidth": 0,
              "ticks": ""
             }
            },
            "type": "scattergl"
           }
          ],
          "scattermapbox": [
           {
            "marker": {
             "colorbar": {
              "outlinewidth": 0,
              "ticks": ""
             }
            },
            "type": "scattermapbox"
           }
          ],
          "scatterpolar": [
           {
            "marker": {
             "colorbar": {
              "outlinewidth": 0,
              "ticks": ""
             }
            },
            "type": "scatterpolar"
           }
          ],
          "scatterpolargl": [
           {
            "marker": {
             "colorbar": {
              "outlinewidth": 0,
              "ticks": ""
             }
            },
            "type": "scatterpolargl"
           }
          ],
          "scatterternary": [
           {
            "marker": {
             "colorbar": {
              "outlinewidth": 0,
              "ticks": ""
             }
            },
            "type": "scatterternary"
           }
          ],
          "surface": [
           {
            "colorbar": {
             "outlinewidth": 0,
             "ticks": ""
            },
            "colorscale": [
             [
              0,
              "#0d0887"
             ],
             [
              0.1111111111111111,
              "#46039f"
             ],
             [
              0.2222222222222222,
              "#7201a8"
             ],
             [
              0.3333333333333333,
              "#9c179e"
             ],
             [
              0.4444444444444444,
              "#bd3786"
             ],
             [
              0.5555555555555556,
              "#d8576b"
             ],
             [
              0.6666666666666666,
              "#ed7953"
             ],
             [
              0.7777777777777778,
              "#fb9f3a"
             ],
             [
              0.8888888888888888,
              "#fdca26"
             ],
             [
              1,
              "#f0f921"
             ]
            ],
            "type": "surface"
           }
          ],
          "table": [
           {
            "cells": {
             "fill": {
              "color": "#EBF0F8"
             },
             "line": {
              "color": "white"
             }
            },
            "header": {
             "fill": {
              "color": "#C8D4E3"
             },
             "line": {
              "color": "white"
             }
            },
            "type": "table"
           }
          ]
         },
         "layout": {
          "annotationdefaults": {
           "arrowcolor": "#2a3f5f",
           "arrowhead": 0,
           "arrowwidth": 1
          },
          "autotypenumbers": "strict",
          "coloraxis": {
           "colorbar": {
            "outlinewidth": 0,
            "ticks": ""
           }
          },
          "colorscale": {
           "diverging": [
            [
             0,
             "#8e0152"
            ],
            [
             0.1,
             "#c51b7d"
            ],
            [
             0.2,
             "#de77ae"
            ],
            [
             0.3,
             "#f1b6da"
            ],
            [
             0.4,
             "#fde0ef"
            ],
            [
             0.5,
             "#f7f7f7"
            ],
            [
             0.6,
             "#e6f5d0"
            ],
            [
             0.7,
             "#b8e186"
            ],
            [
             0.8,
             "#7fbc41"
            ],
            [
             0.9,
             "#4d9221"
            ],
            [
             1,
             "#276419"
            ]
           ],
           "sequential": [
            [
             0,
             "#0d0887"
            ],
            [
             0.1111111111111111,
             "#46039f"
            ],
            [
             0.2222222222222222,
             "#7201a8"
            ],
            [
             0.3333333333333333,
             "#9c179e"
            ],
            [
             0.4444444444444444,
             "#bd3786"
            ],
            [
             0.5555555555555556,
             "#d8576b"
            ],
            [
             0.6666666666666666,
             "#ed7953"
            ],
            [
             0.7777777777777778,
             "#fb9f3a"
            ],
            [
             0.8888888888888888,
             "#fdca26"
            ],
            [
             1,
             "#f0f921"
            ]
           ],
           "sequentialminus": [
            [
             0,
             "#0d0887"
            ],
            [
             0.1111111111111111,
             "#46039f"
            ],
            [
             0.2222222222222222,
             "#7201a8"
            ],
            [
             0.3333333333333333,
             "#9c179e"
            ],
            [
             0.4444444444444444,
             "#bd3786"
            ],
            [
             0.5555555555555556,
             "#d8576b"
            ],
            [
             0.6666666666666666,
             "#ed7953"
            ],
            [
             0.7777777777777778,
             "#fb9f3a"
            ],
            [
             0.8888888888888888,
             "#fdca26"
            ],
            [
             1,
             "#f0f921"
            ]
           ]
          },
          "colorway": [
           "#636efa",
           "#EF553B",
           "#00cc96",
           "#ab63fa",
           "#FFA15A",
           "#19d3f3",
           "#FF6692",
           "#B6E880",
           "#FF97FF",
           "#FECB52"
          ],
          "font": {
           "color": "#2a3f5f"
          },
          "geo": {
           "bgcolor": "white",
           "lakecolor": "white",
           "landcolor": "#E5ECF6",
           "showlakes": true,
           "showland": true,
           "subunitcolor": "white"
          },
          "hoverlabel": {
           "align": "left"
          },
          "hovermode": "closest",
          "mapbox": {
           "style": "light"
          },
          "paper_bgcolor": "white",
          "plot_bgcolor": "#E5ECF6",
          "polar": {
           "angularaxis": {
            "gridcolor": "white",
            "linecolor": "white",
            "ticks": ""
           },
           "bgcolor": "#E5ECF6",
           "radialaxis": {
            "gridcolor": "white",
            "linecolor": "white",
            "ticks": ""
           }
          },
          "scene": {
           "xaxis": {
            "backgroundcolor": "#E5ECF6",
            "gridcolor": "white",
            "gridwidth": 2,
            "linecolor": "white",
            "showbackground": true,
            "ticks": "",
            "zerolinecolor": "white"
           },
           "yaxis": {
            "backgroundcolor": "#E5ECF6",
            "gridcolor": "white",
            "gridwidth": 2,
            "linecolor": "white",
            "showbackground": true,
            "ticks": "",
            "zerolinecolor": "white"
           },
           "zaxis": {
            "backgroundcolor": "#E5ECF6",
            "gridcolor": "white",
            "gridwidth": 2,
            "linecolor": "white",
            "showbackground": true,
            "ticks": "",
            "zerolinecolor": "white"
           }
          },
          "shapedefaults": {
           "line": {
            "color": "#2a3f5f"
           }
          },
          "ternary": {
           "aaxis": {
            "gridcolor": "white",
            "linecolor": "white",
            "ticks": ""
           },
           "baxis": {
            "gridcolor": "white",
            "linecolor": "white",
            "ticks": ""
           },
           "bgcolor": "#E5ECF6",
           "caxis": {
            "gridcolor": "white",
            "linecolor": "white",
            "ticks": ""
           }
          },
          "title": {
           "x": 0.05
          },
          "xaxis": {
           "automargin": true,
           "gridcolor": "white",
           "linecolor": "white",
           "ticks": "",
           "title": {
            "standoff": 15
           },
           "zerolinecolor": "white",
           "zerolinewidth": 2
          },
          "yaxis": {
           "automargin": true,
           "gridcolor": "white",
           "linecolor": "white",
           "ticks": "",
           "title": {
            "standoff": 15
           },
           "zerolinecolor": "white",
           "zerolinewidth": 2
          }
         }
        },
        "title": {
         "text": "Top 10 Genres Distribution by Platform"
        },
        "xaxis": {
         "anchor": "y",
         "domain": [
          0,
          1
         ],
         "title": {
          "text": "Platform"
         }
        },
        "yaxis": {
         "anchor": "x",
         "autorange": "reversed",
         "domain": [
          0,
          1
         ],
         "title": {
          "text": "Genre"
         }
        }
       }
      }
     },
     "metadata": {},
     "output_type": "display_data"
    },
    {
     "name": "stdout",
     "output_type": "stream",
     "text": [
      "\n",
      "Platform with highest average rating: Disney+\n",
      "Average rating: 6.46\n"
     ]
    },
    {
     "data": {
      "application/vnd.plotly.v1+json": {
       "config": {
        "plotlyServerURL": "https://plot.ly"
       },
       "data": [
        {
         "name": "Netflix",
         "text": [
          "7.4%",
          "4.3%",
          "3.3%",
          "1.7%",
          "1.7%",
          "1.3%",
          "1.0%",
          "2.0%"
         ],
         "textposition": "auto",
         "type": "bar",
         "x": [
          "Drama",
          "Comedy",
          "Drama Romance",
          "Comedy Drama",
          "Animation Family",
          "Comedy Drama Romance",
          "Comedy Family",
          "Horror Thriller"
         ],
         "y": [
          7.357859531772576,
          4.3478260869565215,
          3.3444816053511706,
          1.6722408026755853,
          1.6722408026755853,
          1.3377926421404682,
          1.0033444816053512,
          2.0066889632107023
         ]
        },
        {
         "name": "Hulu",
         "text": [
          "5.3%",
          "8.0%",
          "3.1%",
          "4.0%",
          "0.0%",
          "3.1%",
          "0.9%",
          "1.8%"
         ],
         "textposition": "auto",
         "type": "bar",
         "x": [
          "Drama",
          "Comedy",
          "Drama Romance",
          "Comedy Drama",
          "Animation Family",
          "Comedy Drama Romance",
          "Comedy Family",
          "Horror Thriller"
         ],
         "y": [
          5.333333333333334,
          8,
          3.111111111111111,
          4,
          0,
          3.111111111111111,
          0.8888888888888888,
          1.7777777777777777
         ]
        },
        {
         "name": "Prime Video",
         "text": [
          "10.8%",
          "7.5%",
          "3.8%",
          "3.2%",
          "0.5%",
          "2.4%",
          "0.5%",
          "1.9%"
         ],
         "textposition": "auto",
         "type": "bar",
         "x": [
          "Drama",
          "Comedy",
          "Drama Romance",
          "Comedy Drama",
          "Animation Family",
          "Comedy Drama Romance",
          "Comedy Family",
          "Horror Thriller"
         ],
         "y": [
          10.781671159029651,
          7.547169811320755,
          3.7735849056603774,
          3.234501347708895,
          0.5390835579514826,
          2.4258760107816713,
          0.5390835579514826,
          1.8867924528301887
         ]
        },
        {
         "name": "Disney+",
         "text": [
          "2.8%",
          "4.4%",
          "0.0%",
          "0.0%",
          "6.6%",
          "0.6%",
          "3.3%",
          "0.0%"
         ],
         "textposition": "auto",
         "type": "bar",
         "x": [
          "Drama",
          "Comedy",
          "Drama Romance",
          "Comedy Drama",
          "Animation Family",
          "Comedy Drama Romance",
          "Comedy Family",
          "Horror Thriller"
         ],
         "y": [
          2.7624309392265194,
          4.41988950276243,
          0,
          0,
          6.629834254143646,
          0.5524861878453038,
          3.314917127071823,
          0
         ]
        }
       ],
       "layout": {
        "barmode": "group",
        "height": 600,
        "template": {
         "data": {
          "bar": [
           {
            "error_x": {
             "color": "#2a3f5f"
            },
            "error_y": {
             "color": "#2a3f5f"
            },
            "marker": {
             "line": {
              "color": "#E5ECF6",
              "width": 0.5
             },
             "pattern": {
              "fillmode": "overlay",
              "size": 10,
              "solidity": 0.2
             }
            },
            "type": "bar"
           }
          ],
          "barpolar": [
           {
            "marker": {
             "line": {
              "color": "#E5ECF6",
              "width": 0.5
             },
             "pattern": {
              "fillmode": "overlay",
              "size": 10,
              "solidity": 0.2
             }
            },
            "type": "barpolar"
           }
          ],
          "carpet": [
           {
            "aaxis": {
             "endlinecolor": "#2a3f5f",
             "gridcolor": "white",
             "linecolor": "white",
             "minorgridcolor": "white",
             "startlinecolor": "#2a3f5f"
            },
            "baxis": {
             "endlinecolor": "#2a3f5f",
             "gridcolor": "white",
             "linecolor": "white",
             "minorgridcolor": "white",
             "startlinecolor": "#2a3f5f"
            },
            "type": "carpet"
           }
          ],
          "choropleth": [
           {
            "colorbar": {
             "outlinewidth": 0,
             "ticks": ""
            },
            "type": "choropleth"
           }
          ],
          "contour": [
           {
            "colorbar": {
             "outlinewidth": 0,
             "ticks": ""
            },
            "colorscale": [
             [
              0,
              "#0d0887"
             ],
             [
              0.1111111111111111,
              "#46039f"
             ],
             [
              0.2222222222222222,
              "#7201a8"
             ],
             [
              0.3333333333333333,
              "#9c179e"
             ],
             [
              0.4444444444444444,
              "#bd3786"
             ],
             [
              0.5555555555555556,
              "#d8576b"
             ],
             [
              0.6666666666666666,
              "#ed7953"
             ],
             [
              0.7777777777777778,
              "#fb9f3a"
             ],
             [
              0.8888888888888888,
              "#fdca26"
             ],
             [
              1,
              "#f0f921"
             ]
            ],
            "type": "contour"
           }
          ],
          "contourcarpet": [
           {
            "colorbar": {
             "outlinewidth": 0,
             "ticks": ""
            },
            "type": "contourcarpet"
           }
          ],
          "heatmap": [
           {
            "colorbar": {
             "outlinewidth": 0,
             "ticks": ""
            },
            "colorscale": [
             [
              0,
              "#0d0887"
             ],
             [
              0.1111111111111111,
              "#46039f"
             ],
             [
              0.2222222222222222,
              "#7201a8"
             ],
             [
              0.3333333333333333,
              "#9c179e"
             ],
             [
              0.4444444444444444,
              "#bd3786"
             ],
             [
              0.5555555555555556,
              "#d8576b"
             ],
             [
              0.6666666666666666,
              "#ed7953"
             ],
             [
              0.7777777777777778,
              "#fb9f3a"
             ],
             [
              0.8888888888888888,
              "#fdca26"
             ],
             [
              1,
              "#f0f921"
             ]
            ],
            "type": "heatmap"
           }
          ],
          "heatmapgl": [
           {
            "colorbar": {
             "outlinewidth": 0,
             "ticks": ""
            },
            "colorscale": [
             [
              0,
              "#0d0887"
             ],
             [
              0.1111111111111111,
              "#46039f"
             ],
             [
              0.2222222222222222,
              "#7201a8"
             ],
             [
              0.3333333333333333,
              "#9c179e"
             ],
             [
              0.4444444444444444,
              "#bd3786"
             ],
             [
              0.5555555555555556,
              "#d8576b"
             ],
             [
              0.6666666666666666,
              "#ed7953"
             ],
             [
              0.7777777777777778,
              "#fb9f3a"
             ],
             [
              0.8888888888888888,
              "#fdca26"
             ],
             [
              1,
              "#f0f921"
             ]
            ],
            "type": "heatmapgl"
           }
          ],
          "histogram": [
           {
            "marker": {
             "pattern": {
              "fillmode": "overlay",
              "size": 10,
              "solidity": 0.2
             }
            },
            "type": "histogram"
           }
          ],
          "histogram2d": [
           {
            "colorbar": {
             "outlinewidth": 0,
             "ticks": ""
            },
            "colorscale": [
             [
              0,
              "#0d0887"
             ],
             [
              0.1111111111111111,
              "#46039f"
             ],
             [
              0.2222222222222222,
              "#7201a8"
             ],
             [
              0.3333333333333333,
              "#9c179e"
             ],
             [
              0.4444444444444444,
              "#bd3786"
             ],
             [
              0.5555555555555556,
              "#d8576b"
             ],
             [
              0.6666666666666666,
              "#ed7953"
             ],
             [
              0.7777777777777778,
              "#fb9f3a"
             ],
             [
              0.8888888888888888,
              "#fdca26"
             ],
             [
              1,
              "#f0f921"
             ]
            ],
            "type": "histogram2d"
           }
          ],
          "histogram2dcontour": [
           {
            "colorbar": {
             "outlinewidth": 0,
             "ticks": ""
            },
            "colorscale": [
             [
              0,
              "#0d0887"
             ],
             [
              0.1111111111111111,
              "#46039f"
             ],
             [
              0.2222222222222222,
              "#7201a8"
             ],
             [
              0.3333333333333333,
              "#9c179e"
             ],
             [
              0.4444444444444444,
              "#bd3786"
             ],
             [
              0.5555555555555556,
              "#d8576b"
             ],
             [
              0.6666666666666666,
              "#ed7953"
             ],
             [
              0.7777777777777778,
              "#fb9f3a"
             ],
             [
              0.8888888888888888,
              "#fdca26"
             ],
             [
              1,
              "#f0f921"
             ]
            ],
            "type": "histogram2dcontour"
           }
          ],
          "mesh3d": [
           {
            "colorbar": {
             "outlinewidth": 0,
             "ticks": ""
            },
            "type": "mesh3d"
           }
          ],
          "parcoords": [
           {
            "line": {
             "colorbar": {
              "outlinewidth": 0,
              "ticks": ""
             }
            },
            "type": "parcoords"
           }
          ],
          "pie": [
           {
            "automargin": true,
            "type": "pie"
           }
          ],
          "scatter": [
           {
            "marker": {
             "colorbar": {
              "outlinewidth": 0,
              "ticks": ""
             }
            },
            "type": "scatter"
           }
          ],
          "scatter3d": [
           {
            "line": {
             "colorbar": {
              "outlinewidth": 0,
              "ticks": ""
             }
            },
            "marker": {
             "colorbar": {
              "outlinewidth": 0,
              "ticks": ""
             }
            },
            "type": "scatter3d"
           }
          ],
          "scattercarpet": [
           {
            "marker": {
             "colorbar": {
              "outlinewidth": 0,
              "ticks": ""
             }
            },
            "type": "scattercarpet"
           }
          ],
          "scattergeo": [
           {
            "marker": {
             "colorbar": {
              "outlinewidth": 0,
              "ticks": ""
             }
            },
            "type": "scattergeo"
           }
          ],
          "scattergl": [
           {
            "marker": {
             "colorbar": {
              "outlinewidth": 0,
              "ticks": ""
             }
            },
            "type": "scattergl"
           }
          ],
          "scattermapbox": [
           {
            "marker": {
             "colorbar": {
              "outlinewidth": 0,
              "ticks": ""
             }
            },
            "type": "scattermapbox"
           }
          ],
          "scatterpolar": [
           {
            "marker": {
             "colorbar": {
              "outlinewidth": 0,
              "ticks": ""
             }
            },
            "type": "scatterpolar"
           }
          ],
          "scatterpolargl": [
           {
            "marker": {
             "colorbar": {
              "outlinewidth": 0,
              "ticks": ""
             }
            },
            "type": "scatterpolargl"
           }
          ],
          "scatterternary": [
           {
            "marker": {
             "colorbar": {
              "outlinewidth": 0,
              "ticks": ""
             }
            },
            "type": "scatterternary"
           }
          ],
          "surface": [
           {
            "colorbar": {
             "outlinewidth": 0,
             "ticks": ""
            },
            "colorscale": [
             [
              0,
              "#0d0887"
             ],
             [
              0.1111111111111111,
              "#46039f"
             ],
             [
              0.2222222222222222,
              "#7201a8"
             ],
             [
              0.3333333333333333,
              "#9c179e"
             ],
             [
              0.4444444444444444,
              "#bd3786"
             ],
             [
              0.5555555555555556,
              "#d8576b"
             ],
             [
              0.6666666666666666,
              "#ed7953"
             ],
             [
              0.7777777777777778,
              "#fb9f3a"
             ],
             [
              0.8888888888888888,
              "#fdca26"
             ],
             [
              1,
              "#f0f921"
             ]
            ],
            "type": "surface"
           }
          ],
          "table": [
           {
            "cells": {
             "fill": {
              "color": "#EBF0F8"
             },
             "line": {
              "color": "white"
             }
            },
            "header": {
             "fill": {
              "color": "#C8D4E3"
             },
             "line": {
              "color": "white"
             }
            },
            "type": "table"
           }
          ]
         },
         "layout": {
          "annotationdefaults": {
           "arrowcolor": "#2a3f5f",
           "arrowhead": 0,
           "arrowwidth": 1
          },
          "autotypenumbers": "strict",
          "coloraxis": {
           "colorbar": {
            "outlinewidth": 0,
            "ticks": ""
           }
          },
          "colorscale": {
           "diverging": [
            [
             0,
             "#8e0152"
            ],
            [
             0.1,
             "#c51b7d"
            ],
            [
             0.2,
             "#de77ae"
            ],
            [
             0.3,
             "#f1b6da"
            ],
            [
             0.4,
             "#fde0ef"
            ],
            [
             0.5,
             "#f7f7f7"
            ],
            [
             0.6,
             "#e6f5d0"
            ],
            [
             0.7,
             "#b8e186"
            ],
            [
             0.8,
             "#7fbc41"
            ],
            [
             0.9,
             "#4d9221"
            ],
            [
             1,
             "#276419"
            ]
           ],
           "sequential": [
            [
             0,
             "#0d0887"
            ],
            [
             0.1111111111111111,
             "#46039f"
            ],
            [
             0.2222222222222222,
             "#7201a8"
            ],
            [
             0.3333333333333333,
             "#9c179e"
            ],
            [
             0.4444444444444444,
             "#bd3786"
            ],
            [
             0.5555555555555556,
             "#d8576b"
            ],
            [
             0.6666666666666666,
             "#ed7953"
            ],
            [
             0.7777777777777778,
             "#fb9f3a"
            ],
            [
             0.8888888888888888,
             "#fdca26"
            ],
            [
             1,
             "#f0f921"
            ]
           ],
           "sequentialminus": [
            [
             0,
             "#0d0887"
            ],
            [
             0.1111111111111111,
             "#46039f"
            ],
            [
             0.2222222222222222,
             "#7201a8"
            ],
            [
             0.3333333333333333,
             "#9c179e"
            ],
            [
             0.4444444444444444,
             "#bd3786"
            ],
            [
             0.5555555555555556,
             "#d8576b"
            ],
            [
             0.6666666666666666,
             "#ed7953"
            ],
            [
             0.7777777777777778,
             "#fb9f3a"
            ],
            [
             0.8888888888888888,
             "#fdca26"
            ],
            [
             1,
             "#f0f921"
            ]
           ]
          },
          "colorway": [
           "#636efa",
           "#EF553B",
           "#00cc96",
           "#ab63fa",
           "#FFA15A",
           "#19d3f3",
           "#FF6692",
           "#B6E880",
           "#FF97FF",
           "#FECB52"
          ],
          "font": {
           "color": "#2a3f5f"
          },
          "geo": {
           "bgcolor": "white",
           "lakecolor": "white",
           "landcolor": "#E5ECF6",
           "showlakes": true,
           "showland": true,
           "subunitcolor": "white"
          },
          "hoverlabel": {
           "align": "left"
          },
          "hovermode": "closest",
          "mapbox": {
           "style": "light"
          },
          "paper_bgcolor": "white",
          "plot_bgcolor": "#E5ECF6",
          "polar": {
           "angularaxis": {
            "gridcolor": "white",
            "linecolor": "white",
            "ticks": ""
           },
           "bgcolor": "#E5ECF6",
           "radialaxis": {
            "gridcolor": "white",
            "linecolor": "white",
            "ticks": ""
           }
          },
          "scene": {
           "xaxis": {
            "backgroundcolor": "#E5ECF6",
            "gridcolor": "white",
            "gridwidth": 2,
            "linecolor": "white",
            "showbackground": true,
            "ticks": "",
            "zerolinecolor": "white"
           },
           "yaxis": {
            "backgroundcolor": "#E5ECF6",
            "gridcolor": "white",
            "gridwidth": 2,
            "linecolor": "white",
            "showbackground": true,
            "ticks": "",
            "zerolinecolor": "white"
           },
           "zaxis": {
            "backgroundcolor": "#E5ECF6",
            "gridcolor": "white",
            "gridwidth": 2,
            "linecolor": "white",
            "showbackground": true,
            "ticks": "",
            "zerolinecolor": "white"
           }
          },
          "shapedefaults": {
           "line": {
            "color": "#2a3f5f"
           }
          },
          "ternary": {
           "aaxis": {
            "gridcolor": "white",
            "linecolor": "white",
            "ticks": ""
           },
           "baxis": {
            "gridcolor": "white",
            "linecolor": "white",
            "ticks": ""
           },
           "bgcolor": "#E5ECF6",
           "caxis": {
            "gridcolor": "white",
            "linecolor": "white",
            "ticks": ""
           }
          },
          "title": {
           "x": 0.05
          },
          "xaxis": {
           "automargin": true,
           "gridcolor": "white",
           "linecolor": "white",
           "ticks": "",
           "title": {
            "standoff": 15
           },
           "zerolinecolor": "white",
           "zerolinewidth": 2
          },
          "yaxis": {
           "automargin": true,
           "gridcolor": "white",
           "linecolor": "white",
           "ticks": "",
           "title": {
            "standoff": 15
           },
           "zerolinecolor": "white",
           "zerolinewidth": 2
          }
         }
        },
        "title": {
         "text": "Genre Bias by Platform (Top 8 Genres)"
        },
        "xaxis": {
         "tickangle": -45,
         "title": {
          "text": "Genre"
         }
        },
        "yaxis": {
         "title": {
          "text": "Percentage of Platform's Content"
         }
        }
       }
      }
     },
     "metadata": {},
     "output_type": "display_data"
    }
   ],
   "source": [
    "platforms = ['Netflix', 'Hulu', 'Prime Video', 'Disney+']\n",
    "platform_stats = []\n",
    "\n",
    "for platform in platforms:\n",
    "    platform_data = df[df[platform] == 1]\n",
    "    stats = {\n",
    "        'Platform': platform,\n",
    "        'Total_Titles': len(platform_data),\n",
    "        'Avg_Rating': platform_data['vote_average'].mean(),\n",
    "        'Avg_Votes': platform_data['vote_count'].mean(),\n",
    "        'Max_Rating': platform_data['vote_average'].max(),\n",
    "        'Min_Rating': platform_data['vote_average'].min()\n",
    "    }\n",
    "    platform_stats.append(stats)\n",
    "\n",
    "platform_comparison = pd.DataFrame(platform_stats)\n",
    "print(\"Platform stats:\")\n",
    "print(platform_comparison.round(2))\n",
    "\n",
    "# rating distribution by platform\n",
    "fig = go.Figure()\n",
    "for platform in platforms:\n",
    "    platform_data = df[df[platform] == 1]['vote_average'].dropna()\n",
    "    if len(platform_data) > 0:\n",
    "        fig.add_trace(go.Box(y=platform_data, name=platform, boxpoints='outliers'))\n",
    "\n",
    "fig.update_layout(title=\"Rating Distribution by Platform\", yaxis_title=\"Rating\", height=500)\n",
    "fig.show()\n",
    "\n",
    "# genre distribution matrix\n",
    "platform_genre_dist = pd.DataFrame()\n",
    "\n",
    "for platform in platforms:\n",
    "    genre_counts = df[df[platform] == 1]['genres'].value_counts()\n",
    "    platform_genre_dist[platform] = genre_counts\n",
    "\n",
    "platform_genre_dist = platform_genre_dist.fillna(0)\n",
    "top_genres = platform_genre_dist.sum(axis=1).nlargest(10).index\n",
    "platform_genre_dist_top = platform_genre_dist.loc[top_genres]\n",
    "\n",
    "fig = px.imshow(platform_genre_dist_top,\n",
    "                title=\"Genre Distribution by Platform\",\n",
    "                labels=dict(x=\"Platform\", y=\"Genre\", color=\"Titles\"),\n",
    "                aspect=\"auto\")\n",
    "fig.update_layout(height=600)\n",
    "fig.show()\n",
    "\n",
    "best_platform = platform_comparison.loc[platform_comparison['Avg_Rating'].idxmax(), 'Platform']\n",
    "best_rating = platform_comparison['Avg_Rating'].max()\n",
    "print(f\"\\nHighest rated platform: {best_platform} ({best_rating:.2f})\")\n",
    "\n",
    "# genre bias (what % of each platform's content is each genre)\n",
    "genre_bias = pd.DataFrame()\n",
    "\n",
    "for platform in platforms:\n",
    "    platform_content = df[df[platform] == 1]\n",
    "    if len(platform_content) > 0:\n",
    "        genre_percentages = (platform_content['genres'].value_counts() / len(platform_content) * 100)\n",
    "        genre_bias[platform] = genre_percentages\n",
    "\n",
    "genre_bias = genre_bias.fillna(0)\n",
    "top_bias_genres = genre_bias.sum(axis=1).nlargest(8).index\n",
    "genre_bias_top = genre_bias.loc[top_bias_genres]\n",
    "\n",
    "fig = go.Figure()\n",
    "for platform in platforms:\n",
    "    fig.add_trace(go.Bar(\n",
    "        name=platform,\n",
    "        x=genre_bias_top.index,\n",
    "        y=genre_bias_top[platform],\n",
    "        text=[f'{val:.1f}%' for val in genre_bias_top[platform]],\n",
    "        textposition='auto'\n",
    "    ))\n",
    "\n",
    "fig.update_layout(\n",
    "    title=\"Genre Focus by Platform (%)\",\n",
    "    xaxis_title=\"Genre\",\n",
    "    yaxis_title=\"% of Platform Content\",\n",
    "    barmode='group',\n",
    "    height=600,\n",
    "    xaxis_tickangle=-45\n",
    ")\n",
    "fig.show()"
   ]
  },
  {
   "cell_type": "markdown",
   "id": "0a4e96d7",
   "metadata": {},
   "source": [
    "# 5. Seasonal and Regional Trends\n",
    "\n",
    "Let's analyze if there are any seasonal patterns in content releases and viewership across different genres and regions."
   ]
  },
  {
   "cell_type": "code",
   "execution_count": null,
   "id": "eebbcbf8",
   "metadata": {},
   "outputs": [
    {
     "data": {
      "application/vnd.plotly.v1+json": {
       "config": {
        "plotlyServerURL": "https://plot.ly"
       },
       "data": [
        {
         "line": {
          "width": 3
         },
         "marker": {
          "size": 8
         },
         "mode": "lines+markers",
         "name": "Netflix",
         "type": "scatter",
         "x": [
          "Jan",
          "Feb",
          "Mar",
          "Apr",
          "May",
          "Jun",
          "Jul",
          "Aug",
          "Sep",
          "Oct",
          "Nov",
          "Dec"
         ],
         "y": [
          15,
          24,
          28,
          17,
          14,
          25,
          23,
          32,
          39,
          27,
          23,
          32
         ]
        },
        {
         "line": {
          "width": 3
         },
         "marker": {
          "size": 8
         },
         "mode": "lines+markers",
         "name": "Hulu",
         "type": "scatter",
         "x": [
          "Jan",
          "Feb",
          "Mar",
          "Apr",
          "May",
          "Jun",
          "Jul",
          "Aug",
          "Sep",
          "Oct",
          "Nov",
          "Dec"
         ],
         "y": [
          16,
          15,
          11,
          14,
          18,
          11,
          27,
          23,
          34,
          19,
          17,
          20
         ]
        },
        {
         "line": {
          "width": 3
         },
         "marker": {
          "size": 8
         },
         "mode": "lines+markers",
         "name": "Prime Video",
         "type": "scatter",
         "x": [
          "Jan",
          "Feb",
          "Mar",
          "Apr",
          "May",
          "Jun",
          "Jul",
          "Aug",
          "Sep",
          "Oct",
          "Nov",
          "Dec"
         ],
         "y": [
          30,
          19,
          25,
          19,
          24,
          40,
          24,
          35,
          46,
          44,
          23,
          42
         ]
        },
        {
         "line": {
          "width": 3
         },
         "marker": {
          "size": 8
         },
         "mode": "lines+markers",
         "name": "Disney+",
         "type": "scatter",
         "x": [
          "Jan",
          "Feb",
          "Mar",
          "Apr",
          "May",
          "Jun",
          "Jul",
          "Aug",
          "Sep",
          "Oct",
          "Nov",
          "Dec"
         ],
         "y": [
          6,
          12,
          19,
          17,
          16,
          20,
          14,
          12,
          6,
          21,
          20,
          18
         ]
        }
       ],
       "layout": {
        "height": 500,
        "hovermode": "x unified",
        "template": {
         "data": {
          "bar": [
           {
            "error_x": {
             "color": "#2a3f5f"
            },
            "error_y": {
             "color": "#2a3f5f"
            },
            "marker": {
             "line": {
              "color": "#E5ECF6",
              "width": 0.5
             },
             "pattern": {
              "fillmode": "overlay",
              "size": 10,
              "solidity": 0.2
             }
            },
            "type": "bar"
           }
          ],
          "barpolar": [
           {
            "marker": {
             "line": {
              "color": "#E5ECF6",
              "width": 0.5
             },
             "pattern": {
              "fillmode": "overlay",
              "size": 10,
              "solidity": 0.2
             }
            },
            "type": "barpolar"
           }
          ],
          "carpet": [
           {
            "aaxis": {
             "endlinecolor": "#2a3f5f",
             "gridcolor": "white",
             "linecolor": "white",
             "minorgridcolor": "white",
             "startlinecolor": "#2a3f5f"
            },
            "baxis": {
             "endlinecolor": "#2a3f5f",
             "gridcolor": "white",
             "linecolor": "white",
             "minorgridcolor": "white",
             "startlinecolor": "#2a3f5f"
            },
            "type": "carpet"
           }
          ],
          "choropleth": [
           {
            "colorbar": {
             "outlinewidth": 0,
             "ticks": ""
            },
            "type": "choropleth"
           }
          ],
          "contour": [
           {
            "colorbar": {
             "outlinewidth": 0,
             "ticks": ""
            },
            "colorscale": [
             [
              0,
              "#0d0887"
             ],
             [
              0.1111111111111111,
              "#46039f"
             ],
             [
              0.2222222222222222,
              "#7201a8"
             ],
             [
              0.3333333333333333,
              "#9c179e"
             ],
             [
              0.4444444444444444,
              "#bd3786"
             ],
             [
              0.5555555555555556,
              "#d8576b"
             ],
             [
              0.6666666666666666,
              "#ed7953"
             ],
             [
              0.7777777777777778,
              "#fb9f3a"
             ],
             [
              0.8888888888888888,
              "#fdca26"
             ],
             [
              1,
              "#f0f921"
             ]
            ],
            "type": "contour"
           }
          ],
          "contourcarpet": [
           {
            "colorbar": {
             "outlinewidth": 0,
             "ticks": ""
            },
            "type": "contourcarpet"
           }
          ],
          "heatmap": [
           {
            "colorbar": {
             "outlinewidth": 0,
             "ticks": ""
            },
            "colorscale": [
             [
              0,
              "#0d0887"
             ],
             [
              0.1111111111111111,
              "#46039f"
             ],
             [
              0.2222222222222222,
              "#7201a8"
             ],
             [
              0.3333333333333333,
              "#9c179e"
             ],
             [
              0.4444444444444444,
              "#bd3786"
             ],
             [
              0.5555555555555556,
              "#d8576b"
             ],
             [
              0.6666666666666666,
              "#ed7953"
             ],
             [
              0.7777777777777778,
              "#fb9f3a"
             ],
             [
              0.8888888888888888,
              "#fdca26"
             ],
             [
              1,
              "#f0f921"
             ]
            ],
            "type": "heatmap"
           }
          ],
          "heatmapgl": [
           {
            "colorbar": {
             "outlinewidth": 0,
             "ticks": ""
            },
            "colorscale": [
             [
              0,
              "#0d0887"
             ],
             [
              0.1111111111111111,
              "#46039f"
             ],
             [
              0.2222222222222222,
              "#7201a8"
             ],
             [
              0.3333333333333333,
              "#9c179e"
             ],
             [
              0.4444444444444444,
              "#bd3786"
             ],
             [
              0.5555555555555556,
              "#d8576b"
             ],
             [
              0.6666666666666666,
              "#ed7953"
             ],
             [
              0.7777777777777778,
              "#fb9f3a"
             ],
             [
              0.8888888888888888,
              "#fdca26"
             ],
             [
              1,
              "#f0f921"
             ]
            ],
            "type": "heatmapgl"
           }
          ],
          "histogram": [
           {
            "marker": {
             "pattern": {
              "fillmode": "overlay",
              "size": 10,
              "solidity": 0.2
             }
            },
            "type": "histogram"
           }
          ],
          "histogram2d": [
           {
            "colorbar": {
             "outlinewidth": 0,
             "ticks": ""
            },
            "colorscale": [
             [
              0,
              "#0d0887"
             ],
             [
              0.1111111111111111,
              "#46039f"
             ],
             [
              0.2222222222222222,
              "#7201a8"
             ],
             [
              0.3333333333333333,
              "#9c179e"
             ],
             [
              0.4444444444444444,
              "#bd3786"
             ],
             [
              0.5555555555555556,
              "#d8576b"
             ],
             [
              0.6666666666666666,
              "#ed7953"
             ],
             [
              0.7777777777777778,
              "#fb9f3a"
             ],
             [
              0.8888888888888888,
              "#fdca26"
             ],
             [
              1,
              "#f0f921"
             ]
            ],
            "type": "histogram2d"
           }
          ],
          "histogram2dcontour": [
           {
            "colorbar": {
             "outlinewidth": 0,
             "ticks": ""
            },
            "colorscale": [
             [
              0,
              "#0d0887"
             ],
             [
              0.1111111111111111,
              "#46039f"
             ],
             [
              0.2222222222222222,
              "#7201a8"
             ],
             [
              0.3333333333333333,
              "#9c179e"
             ],
             [
              0.4444444444444444,
              "#bd3786"
             ],
             [
              0.5555555555555556,
              "#d8576b"
             ],
             [
              0.6666666666666666,
              "#ed7953"
             ],
             [
              0.7777777777777778,
              "#fb9f3a"
             ],
             [
              0.8888888888888888,
              "#fdca26"
             ],
             [
              1,
              "#f0f921"
             ]
            ],
            "type": "histogram2dcontour"
           }
          ],
          "mesh3d": [
           {
            "colorbar": {
             "outlinewidth": 0,
             "ticks": ""
            },
            "type": "mesh3d"
           }
          ],
          "parcoords": [
           {
            "line": {
             "colorbar": {
              "outlinewidth": 0,
              "ticks": ""
             }
            },
            "type": "parcoords"
           }
          ],
          "pie": [
           {
            "automargin": true,
            "type": "pie"
           }
          ],
          "scatter": [
           {
            "marker": {
             "colorbar": {
              "outlinewidth": 0,
              "ticks": ""
             }
            },
            "type": "scatter"
           }
          ],
          "scatter3d": [
           {
            "line": {
             "colorbar": {
              "outlinewidth": 0,
              "ticks": ""
             }
            },
            "marker": {
             "colorbar": {
              "outlinewidth": 0,
              "ticks": ""
             }
            },
            "type": "scatter3d"
           }
          ],
          "scattercarpet": [
           {
            "marker": {
             "colorbar": {
              "outlinewidth": 0,
              "ticks": ""
             }
            },
            "type": "scattercarpet"
           }
          ],
          "scattergeo": [
           {
            "marker": {
             "colorbar": {
              "outlinewidth": 0,
              "ticks": ""
             }
            },
            "type": "scattergeo"
           }
          ],
          "scattergl": [
           {
            "marker": {
             "colorbar": {
              "outlinewidth": 0,
              "ticks": ""
             }
            },
            "type": "scattergl"
           }
          ],
          "scattermapbox": [
           {
            "marker": {
             "colorbar": {
              "outlinewidth": 0,
              "ticks": ""
             }
            },
            "type": "scattermapbox"
           }
          ],
          "scatterpolar": [
           {
            "marker": {
             "colorbar": {
              "outlinewidth": 0,
              "ticks": ""
             }
            },
            "type": "scatterpolar"
           }
          ],
          "scatterpolargl": [
           {
            "marker": {
             "colorbar": {
              "outlinewidth": 0,
              "ticks": ""
             }
            },
            "type": "scatterpolargl"
           }
          ],
          "scatterternary": [
           {
            "marker": {
             "colorbar": {
              "outlinewidth": 0,
              "ticks": ""
             }
            },
            "type": "scatterternary"
           }
          ],
          "surface": [
           {
            "colorbar": {
             "outlinewidth": 0,
             "ticks": ""
            },
            "colorscale": [
             [
              0,
              "#0d0887"
             ],
             [
              0.1111111111111111,
              "#46039f"
             ],
             [
              0.2222222222222222,
              "#7201a8"
             ],
             [
              0.3333333333333333,
              "#9c179e"
             ],
             [
              0.4444444444444444,
              "#bd3786"
             ],
             [
              0.5555555555555556,
              "#d8576b"
             ],
             [
              0.6666666666666666,
              "#ed7953"
             ],
             [
              0.7777777777777778,
              "#fb9f3a"
             ],
             [
              0.8888888888888888,
              "#fdca26"
             ],
             [
              1,
              "#f0f921"
             ]
            ],
            "type": "surface"
           }
          ],
          "table": [
           {
            "cells": {
             "fill": {
              "color": "#EBF0F8"
             },
             "line": {
              "color": "white"
             }
            },
            "header": {
             "fill": {
              "color": "#C8D4E3"
             },
             "line": {
              "color": "white"
             }
            },
            "type": "table"
           }
          ]
         },
         "layout": {
          "annotationdefaults": {
           "arrowcolor": "#2a3f5f",
           "arrowhead": 0,
           "arrowwidth": 1
          },
          "autotypenumbers": "strict",
          "coloraxis": {
           "colorbar": {
            "outlinewidth": 0,
            "ticks": ""
           }
          },
          "colorscale": {
           "diverging": [
            [
             0,
             "#8e0152"
            ],
            [
             0.1,
             "#c51b7d"
            ],
            [
             0.2,
             "#de77ae"
            ],
            [
             0.3,
             "#f1b6da"
            ],
            [
             0.4,
             "#fde0ef"
            ],
            [
             0.5,
             "#f7f7f7"
            ],
            [
             0.6,
             "#e6f5d0"
            ],
            [
             0.7,
             "#b8e186"
            ],
            [
             0.8,
             "#7fbc41"
            ],
            [
             0.9,
             "#4d9221"
            ],
            [
             1,
             "#276419"
            ]
           ],
           "sequential": [
            [
             0,
             "#0d0887"
            ],
            [
             0.1111111111111111,
             "#46039f"
            ],
            [
             0.2222222222222222,
             "#7201a8"
            ],
            [
             0.3333333333333333,
             "#9c179e"
            ],
            [
             0.4444444444444444,
             "#bd3786"
            ],
            [
             0.5555555555555556,
             "#d8576b"
            ],
            [
             0.6666666666666666,
             "#ed7953"
            ],
            [
             0.7777777777777778,
             "#fb9f3a"
            ],
            [
             0.8888888888888888,
             "#fdca26"
            ],
            [
             1,
             "#f0f921"
            ]
           ],
           "sequentialminus": [
            [
             0,
             "#0d0887"
            ],
            [
             0.1111111111111111,
             "#46039f"
            ],
            [
             0.2222222222222222,
             "#7201a8"
            ],
            [
             0.3333333333333333,
             "#9c179e"
            ],
            [
             0.4444444444444444,
             "#bd3786"
            ],
            [
             0.5555555555555556,
             "#d8576b"
            ],
            [
             0.6666666666666666,
             "#ed7953"
            ],
            [
             0.7777777777777778,
             "#fb9f3a"
            ],
            [
             0.8888888888888888,
             "#fdca26"
            ],
            [
             1,
             "#f0f921"
            ]
           ]
          },
          "colorway": [
           "#636efa",
           "#EF553B",
           "#00cc96",
           "#ab63fa",
           "#FFA15A",
           "#19d3f3",
           "#FF6692",
           "#B6E880",
           "#FF97FF",
           "#FECB52"
          ],
          "font": {
           "color": "#2a3f5f"
          },
          "geo": {
           "bgcolor": "white",
           "lakecolor": "white",
           "landcolor": "#E5ECF6",
           "showlakes": true,
           "showland": true,
           "subunitcolor": "white"
          },
          "hoverlabel": {
           "align": "left"
          },
          "hovermode": "closest",
          "mapbox": {
           "style": "light"
          },
          "paper_bgcolor": "white",
          "plot_bgcolor": "#E5ECF6",
          "polar": {
           "angularaxis": {
            "gridcolor": "white",
            "linecolor": "white",
            "ticks": ""
           },
           "bgcolor": "#E5ECF6",
           "radialaxis": {
            "gridcolor": "white",
            "linecolor": "white",
            "ticks": ""
           }
          },
          "scene": {
           "xaxis": {
            "backgroundcolor": "#E5ECF6",
            "gridcolor": "white",
            "gridwidth": 2,
            "linecolor": "white",
            "showbackground": true,
            "ticks": "",
            "zerolinecolor": "white"
           },
           "yaxis": {
            "backgroundcolor": "#E5ECF6",
            "gridcolor": "white",
            "gridwidth": 2,
            "linecolor": "white",
            "showbackground": true,
            "ticks": "",
            "zerolinecolor": "white"
           },
           "zaxis": {
            "backgroundcolor": "#E5ECF6",
            "gridcolor": "white",
            "gridwidth": 2,
            "linecolor": "white",
            "showbackground": true,
            "ticks": "",
            "zerolinecolor": "white"
           }
          },
          "shapedefaults": {
           "line": {
            "color": "#2a3f5f"
           }
          },
          "ternary": {
           "aaxis": {
            "gridcolor": "white",
            "linecolor": "white",
            "ticks": ""
           },
           "baxis": {
            "gridcolor": "white",
            "linecolor": "white",
            "ticks": ""
           },
           "bgcolor": "#E5ECF6",
           "caxis": {
            "gridcolor": "white",
            "linecolor": "white",
            "ticks": ""
           }
          },
          "title": {
           "x": 0.05
          },
          "xaxis": {
           "automargin": true,
           "gridcolor": "white",
           "linecolor": "white",
           "ticks": "",
           "title": {
            "standoff": 15
           },
           "zerolinecolor": "white",
           "zerolinewidth": 2
          },
          "yaxis": {
           "automargin": true,
           "gridcolor": "white",
           "linecolor": "white",
           "ticks": "",
           "title": {
            "standoff": 15
           },
           "zerolinecolor": "white",
           "zerolinewidth": 2
          }
         }
        },
        "title": {
         "text": "Seasonal Content Release Patterns by Platform"
        },
        "xaxis": {
         "title": {
          "text": "Month"
         }
        },
        "yaxis": {
         "title": {
          "text": "Number of Releases"
         }
        }
       }
      }
     },
     "metadata": {},
     "output_type": "display_data"
    },
    {
     "name": "stdout",
     "output_type": "stream",
     "text": [
      "\n",
      "Regional Content Analysis:\n",
      "==================================================\n",
      "\n",
      "Top 10 Content-Producing Countries (All Platforms):\n",
      "United States of America: 860 titles\n",
      "United Kingdom: 139 titles\n",
      "France: 60 titles\n",
      "Germany: 58 titles\n",
      "Canada: 52 titles\n",
      "Australia: 26 titles\n",
      "Spain: 17 titles\n",
      "India: 16 titles\n",
      "Italy: 12 titles\n",
      "China: 10 titles\n",
      "\n",
      "Spain: 17 titles\n",
      "India: 16 titles\n",
      "Italy: 12 titles\n",
      "China: 10 titles\n"
     ]
    },
    {
     "data": {
      "application/vnd.plotly.v1+json": {
       "config": {
        "plotlyServerURL": "https://plot.ly"
       },
       "data": [
        {
         "orientation": "h",
         "text": [
          946,
          92,
          68,
          51,
          40,
          31,
          22,
          22,
          16,
          13
         ],
         "textposition": "auto",
         "type": "bar",
         "x": [
          946,
          92,
          68,
          51,
          40,
          31,
          22,
          22,
          16,
          13
         ],
         "y": [
          "English",
          "Français",
          "Español",
          "Deutsch",
          "Italiano",
          "Pусский",
          "日本語",
          "普通话",
          "Português",
          "हिन्दी"
         ]
        }
       ],
       "layout": {
        "height": 500,
        "template": {
         "data": {
          "bar": [
           {
            "error_x": {
             "color": "#2a3f5f"
            },
            "error_y": {
             "color": "#2a3f5f"
            },
            "marker": {
             "line": {
              "color": "#E5ECF6",
              "width": 0.5
             },
             "pattern": {
              "fillmode": "overlay",
              "size": 10,
              "solidity": 0.2
             }
            },
            "type": "bar"
           }
          ],
          "barpolar": [
           {
            "marker": {
             "line": {
              "color": "#E5ECF6",
              "width": 0.5
             },
             "pattern": {
              "fillmode": "overlay",
              "size": 10,
              "solidity": 0.2
             }
            },
            "type": "barpolar"
           }
          ],
          "carpet": [
           {
            "aaxis": {
             "endlinecolor": "#2a3f5f",
             "gridcolor": "white",
             "linecolor": "white",
             "minorgridcolor": "white",
             "startlinecolor": "#2a3f5f"
            },
            "baxis": {
             "endlinecolor": "#2a3f5f",
             "gridcolor": "white",
             "linecolor": "white",
             "minorgridcolor": "white",
             "startlinecolor": "#2a3f5f"
            },
            "type": "carpet"
           }
          ],
          "choropleth": [
           {
            "colorbar": {
             "outlinewidth": 0,
             "ticks": ""
            },
            "type": "choropleth"
           }
          ],
          "contour": [
           {
            "colorbar": {
             "outlinewidth": 0,
             "ticks": ""
            },
            "colorscale": [
             [
              0,
              "#0d0887"
             ],
             [
              0.1111111111111111,
              "#46039f"
             ],
             [
              0.2222222222222222,
              "#7201a8"
             ],
             [
              0.3333333333333333,
              "#9c179e"
             ],
             [
              0.4444444444444444,
              "#bd3786"
             ],
             [
              0.5555555555555556,
              "#d8576b"
             ],
             [
              0.6666666666666666,
              "#ed7953"
             ],
             [
              0.7777777777777778,
              "#fb9f3a"
             ],
             [
              0.8888888888888888,
              "#fdca26"
             ],
             [
              1,
              "#f0f921"
             ]
            ],
            "type": "contour"
           }
          ],
          "contourcarpet": [
           {
            "colorbar": {
             "outlinewidth": 0,
             "ticks": ""
            },
            "type": "contourcarpet"
           }
          ],
          "heatmap": [
           {
            "colorbar": {
             "outlinewidth": 0,
             "ticks": ""
            },
            "colorscale": [
             [
              0,
              "#0d0887"
             ],
             [
              0.1111111111111111,
              "#46039f"
             ],
             [
              0.2222222222222222,
              "#7201a8"
             ],
             [
              0.3333333333333333,
              "#9c179e"
             ],
             [
              0.4444444444444444,
              "#bd3786"
             ],
             [
              0.5555555555555556,
              "#d8576b"
             ],
             [
              0.6666666666666666,
              "#ed7953"
             ],
             [
              0.7777777777777778,
              "#fb9f3a"
             ],
             [
              0.8888888888888888,
              "#fdca26"
             ],
             [
              1,
              "#f0f921"
             ]
            ],
            "type": "heatmap"
           }
          ],
          "heatmapgl": [
           {
            "colorbar": {
             "outlinewidth": 0,
             "ticks": ""
            },
            "colorscale": [
             [
              0,
              "#0d0887"
             ],
             [
              0.1111111111111111,
              "#46039f"
             ],
             [
              0.2222222222222222,
              "#7201a8"
             ],
             [
              0.3333333333333333,
              "#9c179e"
             ],
             [
              0.4444444444444444,
              "#bd3786"
             ],
             [
              0.5555555555555556,
              "#d8576b"
             ],
             [
              0.6666666666666666,
              "#ed7953"
             ],
             [
              0.7777777777777778,
              "#fb9f3a"
             ],
             [
              0.8888888888888888,
              "#fdca26"
             ],
             [
              1,
              "#f0f921"
             ]
            ],
            "type": "heatmapgl"
           }
          ],
          "histogram": [
           {
            "marker": {
             "pattern": {
              "fillmode": "overlay",
              "size": 10,
              "solidity": 0.2
             }
            },
            "type": "histogram"
           }
          ],
          "histogram2d": [
           {
            "colorbar": {
             "outlinewidth": 0,
             "ticks": ""
            },
            "colorscale": [
             [
              0,
              "#0d0887"
             ],
             [
              0.1111111111111111,
              "#46039f"
             ],
             [
              0.2222222222222222,
              "#7201a8"
             ],
             [
              0.3333333333333333,
              "#9c179e"
             ],
             [
              0.4444444444444444,
              "#bd3786"
             ],
             [
              0.5555555555555556,
              "#d8576b"
             ],
             [
              0.6666666666666666,
              "#ed7953"
             ],
             [
              0.7777777777777778,
              "#fb9f3a"
             ],
             [
              0.8888888888888888,
              "#fdca26"
             ],
             [
              1,
              "#f0f921"
             ]
            ],
            "type": "histogram2d"
           }
          ],
          "histogram2dcontour": [
           {
            "colorbar": {
             "outlinewidth": 0,
             "ticks": ""
            },
            "colorscale": [
             [
              0,
              "#0d0887"
             ],
             [
              0.1111111111111111,
              "#46039f"
             ],
             [
              0.2222222222222222,
              "#7201a8"
             ],
             [
              0.3333333333333333,
              "#9c179e"
             ],
             [
              0.4444444444444444,
              "#bd3786"
             ],
             [
              0.5555555555555556,
              "#d8576b"
             ],
             [
              0.6666666666666666,
              "#ed7953"
             ],
             [
              0.7777777777777778,
              "#fb9f3a"
             ],
             [
              0.8888888888888888,
              "#fdca26"
             ],
             [
              1,
              "#f0f921"
             ]
            ],
            "type": "histogram2dcontour"
           }
          ],
          "mesh3d": [
           {
            "colorbar": {
             "outlinewidth": 0,
             "ticks": ""
            },
            "type": "mesh3d"
           }
          ],
          "parcoords": [
           {
            "line": {
             "colorbar": {
              "outlinewidth": 0,
              "ticks": ""
             }
            },
            "type": "parcoords"
           }
          ],
          "pie": [
           {
            "automargin": true,
            "type": "pie"
           }
          ],
          "scatter": [
           {
            "marker": {
             "colorbar": {
              "outlinewidth": 0,
              "ticks": ""
             }
            },
            "type": "scatter"
           }
          ],
          "scatter3d": [
           {
            "line": {
             "colorbar": {
              "outlinewidth": 0,
              "ticks": ""
             }
            },
            "marker": {
             "colorbar": {
              "outlinewidth": 0,
              "ticks": ""
             }
            },
            "type": "scatter3d"
           }
          ],
          "scattercarpet": [
           {
            "marker": {
             "colorbar": {
              "outlinewidth": 0,
              "ticks": ""
             }
            },
            "type": "scattercarpet"
           }
          ],
          "scattergeo": [
           {
            "marker": {
             "colorbar": {
              "outlinewidth": 0,
              "ticks": ""
             }
            },
            "type": "scattergeo"
           }
          ],
          "scattergl": [
           {
            "marker": {
             "colorbar": {
              "outlinewidth": 0,
              "ticks": ""
             }
            },
            "type": "scattergl"
           }
          ],
          "scattermapbox": [
           {
            "marker": {
             "colorbar": {
              "outlinewidth": 0,
              "ticks": ""
             }
            },
            "type": "scattermapbox"
           }
          ],
          "scatterpolar": [
           {
            "marker": {
             "colorbar": {
              "outlinewidth": 0,
              "ticks": ""
             }
            },
            "type": "scatterpolar"
           }
          ],
          "scatterpolargl": [
           {
            "marker": {
             "colorbar": {
              "outlinewidth": 0,
              "ticks": ""
             }
            },
            "type": "scatterpolargl"
           }
          ],
          "scatterternary": [
           {
            "marker": {
             "colorbar": {
              "outlinewidth": 0,
              "ticks": ""
             }
            },
            "type": "scatterternary"
           }
          ],
          "surface": [
           {
            "colorbar": {
             "outlinewidth": 0,
             "ticks": ""
            },
            "colorscale": [
             [
              0,
              "#0d0887"
             ],
             [
              0.1111111111111111,
              "#46039f"
             ],
             [
              0.2222222222222222,
              "#7201a8"
             ],
             [
              0.3333333333333333,
              "#9c179e"
             ],
             [
              0.4444444444444444,
              "#bd3786"
             ],
             [
              0.5555555555555556,
              "#d8576b"
             ],
             [
              0.6666666666666666,
              "#ed7953"
             ],
             [
              0.7777777777777778,
              "#fb9f3a"
             ],
             [
              0.8888888888888888,
              "#fdca26"
             ],
             [
              1,
              "#f0f921"
             ]
            ],
            "type": "surface"
           }
          ],
          "table": [
           {
            "cells": {
             "fill": {
              "color": "#EBF0F8"
             },
             "line": {
              "color": "white"
             }
            },
            "header": {
             "fill": {
              "color": "#C8D4E3"
             },
             "line": {
              "color": "white"
             }
            },
            "type": "table"
           }
          ]
         },
         "layout": {
          "annotationdefaults": {
           "arrowcolor": "#2a3f5f",
           "arrowhead": 0,
           "arrowwidth": 1
          },
          "autotypenumbers": "strict",
          "coloraxis": {
           "colorbar": {
            "outlinewidth": 0,
            "ticks": ""
           }
          },
          "colorscale": {
           "diverging": [
            [
             0,
             "#8e0152"
            ],
            [
             0.1,
             "#c51b7d"
            ],
            [
             0.2,
             "#de77ae"
            ],
            [
             0.3,
             "#f1b6da"
            ],
            [
             0.4,
             "#fde0ef"
            ],
            [
             0.5,
             "#f7f7f7"
            ],
            [
             0.6,
             "#e6f5d0"
            ],
            [
             0.7,
             "#b8e186"
            ],
            [
             0.8,
             "#7fbc41"
            ],
            [
             0.9,
             "#4d9221"
            ],
            [
             1,
             "#276419"
            ]
           ],
           "sequential": [
            [
             0,
             "#0d0887"
            ],
            [
             0.1111111111111111,
             "#46039f"
            ],
            [
             0.2222222222222222,
             "#7201a8"
            ],
            [
             0.3333333333333333,
             "#9c179e"
            ],
            [
             0.4444444444444444,
             "#bd3786"
            ],
            [
             0.5555555555555556,
             "#d8576b"
            ],
            [
             0.6666666666666666,
             "#ed7953"
            ],
            [
             0.7777777777777778,
             "#fb9f3a"
            ],
            [
             0.8888888888888888,
             "#fdca26"
            ],
            [
             1,
             "#f0f921"
            ]
           ],
           "sequentialminus": [
            [
             0,
             "#0d0887"
            ],
            [
             0.1111111111111111,
             "#46039f"
            ],
            [
             0.2222222222222222,
             "#7201a8"
            ],
            [
             0.3333333333333333,
             "#9c179e"
            ],
            [
             0.4444444444444444,
             "#bd3786"
            ],
            [
             0.5555555555555556,
             "#d8576b"
            ],
            [
             0.6666666666666666,
             "#ed7953"
            ],
            [
             0.7777777777777778,
             "#fb9f3a"
            ],
            [
             0.8888888888888888,
             "#fdca26"
            ],
            [
             1,
             "#f0f921"
            ]
           ]
          },
          "colorway": [
           "#636efa",
           "#EF553B",
           "#00cc96",
           "#ab63fa",
           "#FFA15A",
           "#19d3f3",
           "#FF6692",
           "#B6E880",
           "#FF97FF",
           "#FECB52"
          ],
          "font": {
           "color": "#2a3f5f"
          },
          "geo": {
           "bgcolor": "white",
           "lakecolor": "white",
           "landcolor": "#E5ECF6",
           "showlakes": true,
           "showland": true,
           "subunitcolor": "white"
          },
          "hoverlabel": {
           "align": "left"
          },
          "hovermode": "closest",
          "mapbox": {
           "style": "light"
          },
          "paper_bgcolor": "white",
          "plot_bgcolor": "#E5ECF6",
          "polar": {
           "angularaxis": {
            "gridcolor": "white",
            "linecolor": "white",
            "ticks": ""
           },
           "bgcolor": "#E5ECF6",
           "radialaxis": {
            "gridcolor": "white",
            "linecolor": "white",
            "ticks": ""
           }
          },
          "scene": {
           "xaxis": {
            "backgroundcolor": "#E5ECF6",
            "gridcolor": "white",
            "gridwidth": 2,
            "linecolor": "white",
            "showbackground": true,
            "ticks": "",
            "zerolinecolor": "white"
           },
           "yaxis": {
            "backgroundcolor": "#E5ECF6",
            "gridcolor": "white",
            "gridwidth": 2,
            "linecolor": "white",
            "showbackground": true,
            "ticks": "",
            "zerolinecolor": "white"
           },
           "zaxis": {
            "backgroundcolor": "#E5ECF6",
            "gridcolor": "white",
            "gridwidth": 2,
            "linecolor": "white",
            "showbackground": true,
            "ticks": "",
            "zerolinecolor": "white"
           }
          },
          "shapedefaults": {
           "line": {
            "color": "#2a3f5f"
           }
          },
          "ternary": {
           "aaxis": {
            "gridcolor": "white",
            "linecolor": "white",
            "ticks": ""
           },
           "baxis": {
            "gridcolor": "white",
            "linecolor": "white",
            "ticks": ""
           },
           "bgcolor": "#E5ECF6",
           "caxis": {
            "gridcolor": "white",
            "linecolor": "white",
            "ticks": ""
           }
          },
          "title": {
           "x": 0.05
          },
          "xaxis": {
           "automargin": true,
           "gridcolor": "white",
           "linecolor": "white",
           "ticks": "",
           "title": {
            "standoff": 15
           },
           "zerolinecolor": "white",
           "zerolinewidth": 2
          },
          "yaxis": {
           "automargin": true,
           "gridcolor": "white",
           "linecolor": "white",
           "ticks": "",
           "title": {
            "standoff": 15
           },
           "zerolinecolor": "white",
           "zerolinewidth": 2
          }
         }
        },
        "title": {
         "text": "Top 10 Languages in Streaming Content"
        },
        "xaxis": {
         "title": {
          "text": "Number of Titles"
         }
        },
        "yaxis": {
         "title": {
          "text": "Language"
         }
        }
       }
      }
     },
     "metadata": {},
     "output_type": "display_data"
    },
    {
     "data": {
      "application/vnd.plotly.v1+json": {
       "config": {
        "plotlyServerURL": "https://plot.ly"
       },
       "data": [
        {
         "hovertemplate": "Average Rating=%{x}<br>Vote Count=%{y}<extra></extra>",
         "legendgroup": "",
         "marker": {
          "color": "#636efa",
          "opacity": 0.6,
          "symbol": "circle"
         },
         "mode": "markers",
         "name": "",
         "orientation": "v",
         "showlegend": false,
         "type": "scatter",
         "x": [
          7.9,
          7.7,
          7.8,
          7.8,
          7.8,
          8,
          7.6,
          7.3,
          7.6,
          7.7,
          7.2,
          7.9,
          7.7,
          7.1,
          7.8,
          6.9,
          7.6,
          5.9,
          7.6,
          7.4,
          7.8,
          6.9,
          7,
          7.6,
          7.8,
          7,
          7.2,
          7.6,
          7,
          7.3,
          7.5,
          7.1,
          6.7,
          7,
          7.7,
          7.6,
          7.5,
          7.1,
          7.1,
          7.3,
          7,
          7,
          6.7,
          6.6,
          6.9,
          6.8,
          7.5,
          6.5,
          7.1,
          6.6,
          6.5,
          6.8,
          6.6,
          7.3,
          6.1,
          7,
          7,
          7.4,
          6.5,
          6.9,
          7.2,
          7.6,
          7.3,
          6.6,
          6.5,
          6.4,
          7.2,
          6.9,
          6.2,
          7.3,
          6.3,
          5.8,
          6.8,
          6.5,
          6.2,
          6.2,
          6.7,
          6.7,
          6.6,
          6.5,
          7.4,
          6.1,
          6.7,
          6.2,
          6.8,
          6.4,
          6.4,
          5.6,
          6.1,
          7.4,
          7.2,
          7.3,
          6.8,
          6.1,
          6.9,
          6.2,
          6.6,
          6.2,
          6.1,
          6.8,
          6.2,
          6.4,
          5.9,
          6.7,
          5.8,
          6.1,
          6.1,
          6,
          5.8,
          6.3,
          6.7,
          6.2,
          6.4,
          6.9,
          6.7,
          6.8,
          6.2,
          6.5,
          5.9,
          6.2,
          6.3,
          6,
          5.9,
          6.9,
          6.6,
          6.9,
          6.4,
          6.1,
          5.6,
          5.7,
          6.3,
          6.3,
          6,
          5.3,
          5.9,
          6.1,
          6.3,
          5.7,
          5.6,
          6.1,
          6.2,
          5.2,
          5.8,
          6.7,
          6.5,
          7.2,
          5.8,
          6.4,
          6.1,
          6.2,
          6.5,
          5.7,
          5.5,
          6,
          6,
          5.9,
          5.6,
          5.8,
          5.6,
          5.8,
          5.6,
          5.8,
          6.3,
          6.2,
          5.5,
          5.9,
          5.9,
          6.1,
          6,
          5.4,
          6.6,
          6.1,
          5.9,
          6,
          5.6,
          6.2,
          5.6,
          6.7,
          5,
          5.8,
          6,
          5.9,
          5.2,
          5.6,
          6.4,
          6.3,
          5.8,
          5.5,
          5.8,
          5.9,
          6.4,
          5.8,
          5.3,
          5.7,
          5.2,
          6.3,
          5.5,
          6.2,
          6.5,
          7.8,
          5.5,
          5.3,
          5.8,
          6.5,
          5.3,
          5.6,
          7.2,
          5.5,
          5,
          6.7,
          6.6,
          6.6,
          5.4,
          5.3,
          5.9,
          5,
          5.5,
          5.4,
          6.5,
          5.6,
          6.6,
          5.8,
          5.5,
          4.4,
          4.6,
          5.5,
          5.7,
          5.7,
          6.7,
          5.7,
          6,
          6.3,
          6.5,
          4.8,
          8.1,
          5.4,
          6.3,
          5.6,
          5.7,
          4.9,
          5.4,
          4.9,
          4.9,
          5.4,
          6,
          4.7,
          7,
          5.2,
          7.7,
          0,
          7.1,
          5.1,
          5.6,
          5.8,
          6.5,
          6.1,
          5.8,
          5.4,
          6.6,
          4.6,
          7.8,
          5.9,
          6.3,
          5.9,
          5.4,
          5.6,
          5.7,
          7,
          6.4,
          7.1,
          6.4,
          4.8,
          4.4,
          4.8,
          7.4,
          6.6,
          5.6,
          6.3,
          4.2,
          8.2,
          6.8,
          4.8,
          5.7,
          5.8,
          6.7,
          3,
          4.1,
          7.4,
          7.2,
          6.1,
          7.2,
          6.7,
          6.8,
          3.1,
          8,
          6,
          6.1,
          6.5,
          7.2,
          8.2,
          7.5,
          7.9,
          7.7,
          7.3,
          7.9,
          7.3,
          7.9,
          7.6,
          6.9,
          7.8,
          7.2,
          7.6,
          7.1,
          7.2,
          7.1,
          8.1,
          7.3,
          7.1,
          7.6,
          7,
          7.1,
          7.4,
          7,
          6.8,
          7.8,
          6.7,
          5.7,
          6.6,
          6.3,
          7,
          6.5,
          6.5,
          6.6,
          7.2,
          6.5,
          7,
          6.9,
          6.6,
          6.5,
          7.4,
          5.3,
          7.1,
          7.4,
          7.2,
          7.3,
          6.7,
          7,
          6.2,
          6.7,
          7.5,
          6,
          6.7,
          6.6,
          7,
          6.4,
          7.1,
          6.6,
          7.1,
          6.7,
          7.5,
          6.4,
          6.7,
          6,
          7.2,
          6.6,
          6.3,
          6.9,
          5.9,
          7.4,
          5.9,
          7,
          5.7,
          6.3,
          6.3,
          6,
          6.1,
          6.2,
          6.7,
          5.9,
          6.7,
          6.7,
          6.8,
          5.9,
          6.7,
          6.3,
          6.9,
          6.2,
          5.9,
          7.1,
          6.4,
          6.4,
          6.9,
          6.5,
          6.7,
          6.1,
          6.4,
          6.4,
          6.2,
          7.2,
          5.3,
          6.1,
          6.4,
          6,
          6.3,
          6.7,
          5.6,
          6,
          5.4,
          6.2,
          6.1,
          6.2,
          7.5,
          5.8,
          5.7,
          6.2,
          6.3,
          6.5,
          5.8,
          5.8,
          6.6,
          6.3,
          6.4,
          6,
          6,
          6.5,
          5.6,
          6.8,
          6,
          6.4,
          6.6,
          6.6,
          6.7,
          5.9,
          5.6,
          7.1,
          5.9,
          6.3,
          5.4,
          6,
          6.1,
          6.4,
          5.4,
          6.1,
          6,
          5.8,
          6.1,
          5.9,
          6.2,
          5.4,
          6.6,
          5.4,
          5.4,
          5.4,
          6.7,
          5.9,
          6.7,
          5.3,
          6.8,
          6.9,
          5.6,
          5.8,
          5.3,
          5.5,
          6.6,
          6,
          6.6,
          5.4,
          6.5,
          6,
          6.1,
          7.2,
          5.2,
          4.6,
          5.3,
          5.7,
          5.1,
          6.8,
          4.9,
          5.3,
          5.6,
          4.2,
          5.4,
          5.4,
          5.3,
          5.7,
          5.7,
          6.2,
          5.2,
          4.9,
          4.9,
          4.3,
          4.9,
          5.2,
          5.7,
          5.7,
          6.9,
          5.9,
          4.4,
          6.4,
          4.4,
          7.1,
          5.6,
          3.5,
          6.5,
          4.6,
          5.3,
          3.7,
          5.4,
          8.3,
          7.9,
          7.7,
          8,
          7.3,
          7.4,
          7.2,
          6.7,
          6.9,
          7.3,
          7.5,
          7.9,
          6.5,
          7.6,
          7.3,
          6.8,
          7,
          8,
          7.1,
          6.5,
          7.1,
          6.5,
          6.9,
          6.8,
          7.3,
          7.4,
          6.4,
          7.4,
          7.2,
          7,
          6.2,
          7,
          6.8,
          6.5,
          7.2,
          7.6,
          6.7,
          6.8,
          6.3,
          6.8,
          6.8,
          6.3,
          7,
          6.9,
          7.6,
          6.3,
          7,
          6.6,
          6.7,
          7,
          6.2,
          6.6,
          7,
          6.7,
          6.9,
          5.1,
          6.7,
          6.6,
          7,
          6.5,
          6.5,
          6.9,
          6.4,
          6.1,
          6,
          6.7,
          6.2,
          7,
          6.1,
          7,
          6.5,
          5.9,
          5.8,
          5.5,
          7.2,
          6.4,
          6.4,
          7.2,
          6.2,
          6,
          6,
          5.6,
          5.5,
          6.2,
          6.6,
          7,
          6.1,
          6.6,
          6.6,
          6.9,
          7.4,
          6.2,
          5.4,
          5.6,
          5.7,
          7.1,
          5.9,
          6.8,
          6.8,
          5.6,
          6.7,
          5,
          6.4,
          6.8,
          5.4,
          6.6,
          6.1,
          6.8,
          5.8,
          5.6,
          7,
          5.8,
          5.8,
          6.1,
          5.5,
          6.5,
          6.1,
          6.1,
          7,
          6.9,
          5.5,
          7.3,
          7.4,
          6.7,
          7.3,
          6.3,
          6.5,
          6.7,
          6.3,
          6.1,
          6.5,
          5.7,
          6.5,
          6.1,
          5.7,
          7.2,
          6,
          6.7,
          5.2,
          5.5,
          5.8,
          6.6,
          5.4,
          6.7,
          6.5,
          5.2,
          5.3,
          5.9,
          6.4,
          5.7,
          5.3,
          6.2,
          6.5,
          5.8,
          5.2,
          6,
          5.4,
          5.7,
          5.4,
          7.3,
          4.6,
          5.8,
          5.7,
          5.7,
          5.9,
          5.6,
          7.3,
          6.4,
          7.1,
          6.6,
          5.3,
          5.4,
          5.7,
          5.4,
          4.7,
          6,
          6.8,
          5.3,
          6.3,
          5.9,
          6.1,
          6.2,
          6.3,
          5.1,
          5.6,
          5.6,
          4.7,
          5.7,
          5.1,
          6.2,
          6.3,
          5.9,
          5.3,
          6.7,
          4.7,
          6,
          5.5,
          5.6,
          5.2,
          5.9,
          6.8,
          5.9,
          6.8,
          5.4,
          6.4,
          6.5,
          6.2,
          6.5,
          5.9,
          6.2,
          5.6,
          5.7,
          5.4,
          4.6,
          5.5,
          6.3,
          4.1,
          6.4,
          4.9,
          5.5,
          5.1,
          4.8,
          4.3,
          5.4,
          5.5,
          5.3,
          6.3,
          6,
          5.9,
          5.3,
          6.8,
          3.8,
          6.1,
          6.1,
          6.9,
          5.2,
          6.1,
          6,
          4.7,
          6,
          6.4,
          5.4,
          4.5,
          3.7,
          5.9,
          6.6,
          5.2,
          5.5,
          5.4,
          6.2,
          4.8,
          6.5,
          10,
          3.5,
          5.5,
          3.9,
          7.1,
          5.3,
          5.8,
          6.7,
          6.1,
          6.1,
          4.9,
          4.8,
          5,
          6.8,
          6.1,
          4.7,
          4.1,
          6,
          6.3,
          4.9,
          6,
          6.5,
          3.2,
          6.3,
          6.1,
          8,
          3.8,
          6.9,
          3.1,
          5.5,
          6.4,
          6.5,
          2.9,
          0,
          5,
          6,
          6.8,
          3,
          4.1,
          5.8,
          5.9,
          0,
          7.2,
          4.7,
          2.3,
          7.3,
          2,
          6.7,
          5.6,
          6.2,
          4.2,
          6.2,
          7.1,
          5,
          6.7,
          7.4,
          7.9,
          8,
          7.8,
          7.4,
          7.7,
          7.7,
          7.6,
          7.5,
          7.2,
          7.6,
          7.5,
          7.1,
          7.4,
          7.6,
          7.5,
          7.5,
          7.3,
          7.6,
          7.8,
          7.3,
          7.4,
          7,
          7.3,
          7.1,
          7.1,
          7.4,
          6.8,
          7.1,
          6.6,
          6.6,
          6.8,
          6.6,
          7,
          6.8,
          7.5,
          7.6,
          6.9,
          6.6,
          6.4,
          7,
          6.7,
          7.4,
          6.8,
          6.3,
          7.4,
          7.1,
          7.2,
          6.4,
          6.9,
          6.7,
          6.3,
          6.9,
          6.2,
          6.3,
          6.7,
          6.4,
          6.5,
          7.3,
          6.5,
          6.3,
          6.3,
          6.8,
          7.7,
          7.2,
          6.5,
          7.2,
          7.4,
          6.4,
          6.1,
          6.5,
          6.7,
          6.6,
          6.4,
          6.8,
          7.2,
          6.7,
          7.3,
          5.8,
          6.2,
          6.3,
          6.7,
          6.5,
          6.5,
          5.9,
          7.2,
          7,
          6.3,
          6.3,
          6,
          6.5,
          6.6,
          6.2,
          5.6,
          6.2,
          6,
          5.8,
          6.2,
          7,
          5.9,
          6.7,
          6.4,
          5.9,
          6.9,
          6.9,
          6.8,
          7,
          6.1,
          6.8,
          6.2,
          6,
          5.6,
          6,
          6.1,
          6.8,
          6.9,
          6,
          7.2,
          6.1,
          6.5,
          5.6,
          5.8,
          6.7,
          5.5,
          5.6,
          5.7,
          5.3,
          5.5,
          6.3,
          5.4,
          5.7,
          6,
          5.8,
          6.1,
          5.8,
          5.7,
          6.4,
          5.9,
          5.2,
          5.9,
          6.2,
          7.3,
          5.5,
          6.3,
          6.1,
          6.6,
          5.1,
          6,
          5.9,
          5.7,
          5.2,
          6.1,
          6,
          6.1,
          6.1,
          5.2,
          5.1,
          5.1,
          4.5,
          6.2,
          5.1,
          5.6,
          5.7,
          5.4,
          6.1,
          4.9,
          5.4,
          5.4,
          4.3,
          4.1
         ],
         "xaxis": "x",
         "y": [
          4339,
          4185,
          10099,
          6336,
          2926,
          1864,
          3041,
          3855,
          4274,
          2277,
          3550,
          1537,
          2439,
          3391,
          1708,
          4742,
          3395,
          140,
          1709,
          3092,
          2067,
          3145,
          2100,
          1422,
          3311,
          1910,
          2126,
          3106,
          1869,
          1077,
          796,
          1710,
          2854,
          1949,
          1717,
          1046,
          2039,
          1884,
          1184,
          1049,
          2141,
          2025,
          1880,
          2512,
          891,
          1099,
          919,
          2704,
          721,
          2692,
          1013,
          1737,
          2051,
          390,
          2965,
          701,
          559,
          418,
          2237,
          905,
          530,
          31,
          652,
          1213,
          2129,
          1813,
          238,
          141,
          1011,
          480,
          824,
          63,
          1573,
          135,
          2981,
          491,
          798,
          484,
          697,
          1265,
          352,
          882,
          973,
          840,
          577,
          1808,
          717,
          4903,
          1862,
          579,
          1101,
          463,
          1519,
          721,
          948,
          1428,
          1065,
          1810,
          1331,
          556,
          1685,
          451,
          979,
          270,
          742,
          932,
          1292,
          1423,
          3561,
          1091,
          789,
          694,
          875,
          226,
          777,
          338,
          531,
          1346,
          525,
          393,
          313,
          1000,
          437,
          483,
          428,
          823,
          915,
          1074,
          1962,
          1309,
          874,
          371,
          1699,
          180,
          601,
          2553,
          584,
          1171,
          63,
          766,
          766,
          2768,
          1363,
          843,
          379,
          97,
          481,
          497,
          779,
          278,
          284,
          1455,
          1448,
          342,
          122,
          627,
          37,
          959,
          644,
          2301,
          797,
          369,
          572,
          392,
          431,
          210,
          638,
          563,
          883,
          442,
          355,
          42,
          365,
          394,
          359,
          371,
          2436,
          663,
          29,
          636,
          333,
          123,
          501,
          927,
          300,
          273,
          441,
          555,
          308,
          447,
          158,
          498,
          331,
          615,
          957,
          254,
          1179,
          316,
          224,
          55,
          1047,
          631,
          368,
          119,
          511,
          961,
          196,
          350,
          213,
          83,
          50,
          152,
          167,
          280,
          278,
          349,
          319,
          581,
          47,
          231,
          1257,
          236,
          695,
          12,
          524,
          331,
          147,
          332,
          125,
          55,
          100,
          395,
          115,
          469,
          12,
          240,
          31,
          180,
          202,
          388,
          113,
          148,
          287,
          346,
          368,
          1151,
          485,
          101,
          336,
          0,
          478,
          74,
          88,
          44,
          42,
          35,
          136,
          156,
          29,
          793,
          13,
          13,
          16,
          302,
          43,
          62,
          117,
          978,
          30,
          95,
          1581,
          51,
          222,
          167,
          145,
          7,
          10,
          174,
          135,
          2320,
          633,
          34,
          434,
          550,
          59,
          255,
          140,
          3725,
          189,
          7,
          635,
          7,
          107,
          11,
          2535,
          1360,
          221,
          1770,
          2691,
          12002,
          7359,
          5862,
          3795,
          4128,
          3085,
          4056,
          3674,
          2827,
          7604,
          1522,
          2434,
          1994,
          4645,
          2904,
          1777,
          1128,
          2093,
          3857,
          1436,
          1261,
          1444,
          1323,
          2606,
          3972,
          773,
          2988,
          2342,
          2568,
          2998,
          3144,
          1859,
          2415,
          2472,
          999,
          1288,
          1182,
          710,
          1940,
          1197,
          677,
          2142,
          471,
          1990,
          1417,
          675,
          2061,
          661,
          2961,
          796,
          372,
          1817,
          537,
          365,
          885,
          1528,
          817,
          693,
          410,
          1374,
          210,
          1474,
          521,
          2926,
          250,
          362,
          1055,
          477,
          1389,
          356,
          1486,
          262,
          3239,
          1150,
          1129,
          1206,
          1267,
          633,
          390,
          1743,
          413,
          374,
          450,
          730,
          216,
          410,
          311,
          237,
          1122,
          205,
          573,
          505,
          198,
          541,
          357,
          1795,
          452,
          503,
          497,
          53,
          837,
          588,
          535,
          654,
          694,
          175,
          760,
          852,
          1584,
          527,
          675,
          433,
          66,
          631,
          1266,
          351,
          245,
          425,
          575,
          493,
          392,
          461,
          381,
          639,
          378,
          640,
          364,
          72,
          368,
          407,
          234,
          372,
          848,
          261,
          634,
          119,
          355,
          581,
          318,
          208,
          204,
          215,
          518,
          159,
          433,
          288,
          133,
          954,
          440,
          325,
          582,
          284,
          315,
          415,
          167,
          134,
          62,
          483,
          38,
          47,
          72,
          130,
          171,
          345,
          19,
          381,
          157,
          163,
          77,
          238,
          99,
          44,
          99,
          89,
          388,
          164,
          202,
          1129,
          199,
          142,
          175,
          305,
          31,
          228,
          66,
          34,
          57,
          45,
          32,
          119,
          135,
          212,
          246,
          62,
          39,
          82,
          35,
          43,
          49,
          60,
          51,
          83,
          6,
          104,
          4,
          10,
          567,
          10,
          597,
          9413,
          4470,
          2912,
          1076,
          3269,
          1990,
          837,
          3793,
          1946,
          1000,
          793,
          719,
          1667,
          988,
          638,
          1974,
          27,
          357,
          808,
          1222,
          1165,
          2225,
          790,
          1005,
          323,
          558,
          2065,
          422,
          834,
          504,
          981,
          498,
          624,
          1150,
          341,
          334,
          1062,
          701,
          1183,
          392,
          409,
          1018,
          308,
          449,
          756,
          700,
          334,
          560,
          583,
          129,
          587,
          506,
          291,
          447,
          1355,
          2487,
          244,
          1919,
          285,
          824,
          642,
          573,
          379,
          479,
          669,
          155,
          716,
          210,
          33,
          199,
          208,
          742,
          865,
          841,
          1668,
          887,
          236,
          102,
          659,
          415,
          306,
          531,
          1251,
          511,
          225,
          177,
          656,
          105,
          207,
          113,
          64,
          249,
          703,
          546,
          439,
          73,
          386,
          77,
          142,
          529,
          99,
          150,
          420,
          615,
          692,
          132,
          183,
          78,
          441,
          265,
          59,
          381,
          282,
          217,
          209,
          103,
          90,
          294,
          438,
          37,
          308,
          41,
          105,
          100,
          4,
          218,
          1699,
          90,
          83,
          210,
          67,
          146,
          84,
          245,
          77,
          59,
          13,
          95,
          269,
          179,
          160,
          60,
          222,
          51,
          27,
          210,
          299,
          129,
          66,
          211,
          585,
          33,
          356,
          95,
          559,
          97,
          702,
          130,
          268,
          40,
          304,
          73,
          159,
          63,
          881,
          130,
          66,
          71,
          36,
          50,
          465,
          130,
          543,
          126,
          225,
          30,
          28,
          261,
          39,
          140,
          88,
          81,
          15,
          242,
          49,
          13,
          136,
          134,
          276,
          26,
          30,
          182,
          62,
          2374,
          69,
          131,
          92,
          151,
          44,
          31,
          157,
          52,
          276,
          25,
          52,
          19,
          28,
          17,
          18,
          1398,
          28,
          50,
          60,
          116,
          87,
          14,
          604,
          55,
          621,
          71,
          73,
          48,
          69,
          44,
          103,
          42,
          22,
          10,
          23,
          36,
          16,
          476,
          15,
          34,
          13,
          20,
          568,
          444,
          64,
          17,
          4,
          11,
          52,
          392,
          29,
          96,
          15,
          9,
          32,
          9,
          36,
          18,
          1,
          118,
          29,
          44,
          420,
          26,
          8,
          1261,
          298,
          440,
          161,
          14,
          22,
          3,
          5,
          15,
          20,
          189,
          10,
          54,
          2,
          1,
          34,
          8,
          7,
          6560,
          18,
          1339,
          47,
          16,
          4,
          6,
          28,
          0,
          6,
          216,
          151,
          3,
          7,
          2,
          286,
          0,
          1486,
          3,
          4,
          453,
          1,
          60,
          112,
          21,
          11,
          15,
          218,
          11,
          548,
          1183,
          9742,
          5376,
          6296,
          11776,
          5269,
          6870,
          6122,
          5996,
          11800,
          4597,
          6985,
          7241,
          5152,
          5764,
          4369,
          6032,
          6767,
          1486,
          6135,
          3806,
          3416,
          5880,
          5295,
          4116,
          4570,
          3330,
          8806,
          2414,
          7047,
          6525,
          3506,
          6849,
          5246,
          4755,
          1176,
          2008,
          4500,
          3877,
          4721,
          3528,
          4641,
          941,
          2303,
          4432,
          821,
          1314,
          1490,
          3992,
          2264,
          2629,
          3525,
          1914,
          4021,
          2395,
          1247,
          4645,
          2166,
          1226,
          2271,
          1750,
          2862,
          1405,
          306,
          808,
          2951,
          948,
          1432,
          88,
          2124,
          909,
          1457,
          1736,
          471,
          491,
          661,
          1224,
          755,
          2033,
          2317,
          1630,
          383,
          1023,
          1725,
          1971,
          212,
          159,
          588,
          489,
          2010,
          604,
          932,
          1514,
          1652,
          679,
          879,
          1470,
          578,
          164,
          1648,
          542,
          198,
          901,
          923,
          113,
          103,
          292,
          321,
          157,
          542,
          699,
          944,
          697,
          1000,
          258,
          110,
          428,
          144,
          493,
          386,
          924,
          842,
          120,
          297,
          248,
          672,
          695,
          509,
          238,
          496,
          526,
          368,
          274,
          843,
          1309,
          280,
          128,
          178,
          466,
          185,
          821,
          111,
          199,
          143,
          131,
          67,
          510,
          466,
          208,
          389,
          820,
          61,
          449,
          52,
          290,
          235,
          313,
          464,
          137,
          42,
          221,
          269,
          134,
          120,
          14,
          209,
          33,
          22,
          20,
          19
         ],
         "yaxis": "y"
        }
       ],
       "layout": {
        "annotations": [
         {
          "showarrow": false,
          "text": "Median Votes",
          "x": 1,
          "xanchor": "right",
          "xref": "x domain",
          "y": 439,
          "yanchor": "bottom",
          "yref": "y"
         },
         {
          "showarrow": false,
          "text": "Median Rating",
          "x": 6.3,
          "xanchor": "left",
          "xref": "x",
          "y": 1,
          "yanchor": "top",
          "yref": "y domain"
         }
        ],
        "legend": {
         "tracegroupgap": 0
        },
        "shapes": [
         {
          "line": {
           "color": "red",
           "dash": "dash"
          },
          "type": "line",
          "x0": 0,
          "x1": 1,
          "xref": "x domain",
          "y0": 439,
          "y1": 439,
          "yref": "y"
         },
         {
          "line": {
           "color": "red",
           "dash": "dash"
          },
          "type": "line",
          "x0": 6.3,
          "x1": 6.3,
          "xref": "x",
          "y0": 0,
          "y1": 1,
          "yref": "y domain"
         }
        ],
        "template": {
         "data": {
          "bar": [
           {
            "error_x": {
             "color": "#2a3f5f"
            },
            "error_y": {
             "color": "#2a3f5f"
            },
            "marker": {
             "line": {
              "color": "#E5ECF6",
              "width": 0.5
             },
             "pattern": {
              "fillmode": "overlay",
              "size": 10,
              "solidity": 0.2
             }
            },
            "type": "bar"
           }
          ],
          "barpolar": [
           {
            "marker": {
             "line": {
              "color": "#E5ECF6",
              "width": 0.5
             },
             "pattern": {
              "fillmode": "overlay",
              "size": 10,
              "solidity": 0.2
             }
            },
            "type": "barpolar"
           }
          ],
          "carpet": [
           {
            "aaxis": {
             "endlinecolor": "#2a3f5f",
             "gridcolor": "white",
             "linecolor": "white",
             "minorgridcolor": "white",
             "startlinecolor": "#2a3f5f"
            },
            "baxis": {
             "endlinecolor": "#2a3f5f",
             "gridcolor": "white",
             "linecolor": "white",
             "minorgridcolor": "white",
             "startlinecolor": "#2a3f5f"
            },
            "type": "carpet"
           }
          ],
          "choropleth": [
           {
            "colorbar": {
             "outlinewidth": 0,
             "ticks": ""
            },
            "type": "choropleth"
           }
          ],
          "contour": [
           {
            "colorbar": {
             "outlinewidth": 0,
             "ticks": ""
            },
            "colorscale": [
             [
              0,
              "#0d0887"
             ],
             [
              0.1111111111111111,
              "#46039f"
             ],
             [
              0.2222222222222222,
              "#7201a8"
             ],
             [
              0.3333333333333333,
              "#9c179e"
             ],
             [
              0.4444444444444444,
              "#bd3786"
             ],
             [
              0.5555555555555556,
              "#d8576b"
             ],
             [
              0.6666666666666666,
              "#ed7953"
             ],
             [
              0.7777777777777778,
              "#fb9f3a"
             ],
             [
              0.8888888888888888,
              "#fdca26"
             ],
             [
              1,
              "#f0f921"
             ]
            ],
            "type": "contour"
           }
          ],
          "contourcarpet": [
           {
            "colorbar": {
             "outlinewidth": 0,
             "ticks": ""
            },
            "type": "contourcarpet"
           }
          ],
          "heatmap": [
           {
            "colorbar": {
             "outlinewidth": 0,
             "ticks": ""
            },
            "colorscale": [
             [
              0,
              "#0d0887"
             ],
             [
              0.1111111111111111,
              "#46039f"
             ],
             [
              0.2222222222222222,
              "#7201a8"
             ],
             [
              0.3333333333333333,
              "#9c179e"
             ],
             [
              0.4444444444444444,
              "#bd3786"
             ],
             [
              0.5555555555555556,
              "#d8576b"
             ],
             [
              0.6666666666666666,
              "#ed7953"
             ],
             [
              0.7777777777777778,
              "#fb9f3a"
             ],
             [
              0.8888888888888888,
              "#fdca26"
             ],
             [
              1,
              "#f0f921"
             ]
            ],
            "type": "heatmap"
           }
          ],
          "heatmapgl": [
           {
            "colorbar": {
             "outlinewidth": 0,
             "ticks": ""
            },
            "colorscale": [
             [
              0,
              "#0d0887"
             ],
             [
              0.1111111111111111,
              "#46039f"
             ],
             [
              0.2222222222222222,
              "#7201a8"
             ],
             [
              0.3333333333333333,
              "#9c179e"
             ],
             [
              0.4444444444444444,
              "#bd3786"
             ],
             [
              0.5555555555555556,
              "#d8576b"
             ],
             [
              0.6666666666666666,
              "#ed7953"
             ],
             [
              0.7777777777777778,
              "#fb9f3a"
             ],
             [
              0.8888888888888888,
              "#fdca26"
             ],
             [
              1,
              "#f0f921"
             ]
            ],
            "type": "heatmapgl"
           }
          ],
          "histogram": [
           {
            "marker": {
             "pattern": {
              "fillmode": "overlay",
              "size": 10,
              "solidity": 0.2
             }
            },
            "type": "histogram"
           }
          ],
          "histogram2d": [
           {
            "colorbar": {
             "outlinewidth": 0,
             "ticks": ""
            },
            "colorscale": [
             [
              0,
              "#0d0887"
             ],
             [
              0.1111111111111111,
              "#46039f"
             ],
             [
              0.2222222222222222,
              "#7201a8"
             ],
             [
              0.3333333333333333,
              "#9c179e"
             ],
             [
              0.4444444444444444,
              "#bd3786"
             ],
             [
              0.5555555555555556,
              "#d8576b"
             ],
             [
              0.6666666666666666,
              "#ed7953"
             ],
             [
              0.7777777777777778,
              "#fb9f3a"
             ],
             [
              0.8888888888888888,
              "#fdca26"
             ],
             [
              1,
              "#f0f921"
             ]
            ],
            "type": "histogram2d"
           }
          ],
          "histogram2dcontour": [
           {
            "colorbar": {
             "outlinewidth": 0,
             "ticks": ""
            },
            "colorscale": [
             [
              0,
              "#0d0887"
             ],
             [
              0.1111111111111111,
              "#46039f"
             ],
             [
              0.2222222222222222,
              "#7201a8"
             ],
             [
              0.3333333333333333,
              "#9c179e"
             ],
             [
              0.4444444444444444,
              "#bd3786"
             ],
             [
              0.5555555555555556,
              "#d8576b"
             ],
             [
              0.6666666666666666,
              "#ed7953"
             ],
             [
              0.7777777777777778,
              "#fb9f3a"
             ],
             [
              0.8888888888888888,
              "#fdca26"
             ],
             [
              1,
              "#f0f921"
             ]
            ],
            "type": "histogram2dcontour"
           }
          ],
          "mesh3d": [
           {
            "colorbar": {
             "outlinewidth": 0,
             "ticks": ""
            },
            "type": "mesh3d"
           }
          ],
          "parcoords": [
           {
            "line": {
             "colorbar": {
              "outlinewidth": 0,
              "ticks": ""
             }
            },
            "type": "parcoords"
           }
          ],
          "pie": [
           {
            "automargin": true,
            "type": "pie"
           }
          ],
          "scatter": [
           {
            "marker": {
             "colorbar": {
              "outlinewidth": 0,
              "ticks": ""
             }
            },
            "type": "scatter"
           }
          ],
          "scatter3d": [
           {
            "line": {
             "colorbar": {
              "outlinewidth": 0,
              "ticks": ""
             }
            },
            "marker": {
             "colorbar": {
              "outlinewidth": 0,
              "ticks": ""
             }
            },
            "type": "scatter3d"
           }
          ],
          "scattercarpet": [
           {
            "marker": {
             "colorbar": {
              "outlinewidth": 0,
              "ticks": ""
             }
            },
            "type": "scattercarpet"
           }
          ],
          "scattergeo": [
           {
            "marker": {
             "colorbar": {
              "outlinewidth": 0,
              "ticks": ""
             }
            },
            "type": "scattergeo"
           }
          ],
          "scattergl": [
           {
            "marker": {
             "colorbar": {
              "outlinewidth": 0,
              "ticks": ""
             }
            },
            "type": "scattergl"
           }
          ],
          "scattermapbox": [
           {
            "marker": {
             "colorbar": {
              "outlinewidth": 0,
              "ticks": ""
             }
            },
            "type": "scattermapbox"
           }
          ],
          "scatterpolar": [
           {
            "marker": {
             "colorbar": {
              "outlinewidth": 0,
              "ticks": ""
             }
            },
            "type": "scatterpolar"
           }
          ],
          "scatterpolargl": [
           {
            "marker": {
             "colorbar": {
              "outlinewidth": 0,
              "ticks": ""
             }
            },
            "type": "scatterpolargl"
           }
          ],
          "scatterternary": [
           {
            "marker": {
             "colorbar": {
              "outlinewidth": 0,
              "ticks": ""
             }
            },
            "type": "scatterternary"
           }
          ],
          "surface": [
           {
            "colorbar": {
             "outlinewidth": 0,
             "ticks": ""
            },
            "colorscale": [
             [
              0,
              "#0d0887"
             ],
             [
              0.1111111111111111,
              "#46039f"
             ],
             [
              0.2222222222222222,
              "#7201a8"
             ],
             [
              0.3333333333333333,
              "#9c179e"
             ],
             [
              0.4444444444444444,
              "#bd3786"
             ],
             [
              0.5555555555555556,
              "#d8576b"
             ],
             [
              0.6666666666666666,
              "#ed7953"
             ],
             [
              0.7777777777777778,
              "#fb9f3a"
             ],
             [
              0.8888888888888888,
              "#fdca26"
             ],
             [
              1,
              "#f0f921"
             ]
            ],
            "type": "surface"
           }
          ],
          "table": [
           {
            "cells": {
             "fill": {
              "color": "#EBF0F8"
             },
             "line": {
              "color": "white"
             }
            },
            "header": {
             "fill": {
              "color": "#C8D4E3"
             },
             "line": {
              "color": "white"
             }
            },
            "type": "table"
           }
          ]
         },
         "layout": {
          "annotationdefaults": {
           "arrowcolor": "#2a3f5f",
           "arrowhead": 0,
           "arrowwidth": 1
          },
          "autotypenumbers": "strict",
          "coloraxis": {
           "colorbar": {
            "outlinewidth": 0,
            "ticks": ""
           }
          },
          "colorscale": {
           "diverging": [
            [
             0,
             "#8e0152"
            ],
            [
             0.1,
             "#c51b7d"
            ],
            [
             0.2,
             "#de77ae"
            ],
            [
             0.3,
             "#f1b6da"
            ],
            [
             0.4,
             "#fde0ef"
            ],
            [
             0.5,
             "#f7f7f7"
            ],
            [
             0.6,
             "#e6f5d0"
            ],
            [
             0.7,
             "#b8e186"
            ],
            [
             0.8,
             "#7fbc41"
            ],
            [
             0.9,
             "#4d9221"
            ],
            [
             1,
             "#276419"
            ]
           ],
           "sequential": [
            [
             0,
             "#0d0887"
            ],
            [
             0.1111111111111111,
             "#46039f"
            ],
            [
             0.2222222222222222,
             "#7201a8"
            ],
            [
             0.3333333333333333,
             "#9c179e"
            ],
            [
             0.4444444444444444,
             "#bd3786"
            ],
            [
             0.5555555555555556,
             "#d8576b"
            ],
            [
             0.6666666666666666,
             "#ed7953"
            ],
            [
             0.7777777777777778,
             "#fb9f3a"
            ],
            [
             0.8888888888888888,
             "#fdca26"
            ],
            [
             1,
             "#f0f921"
            ]
           ],
           "sequentialminus": [
            [
             0,
             "#0d0887"
            ],
            [
             0.1111111111111111,
             "#46039f"
            ],
            [
             0.2222222222222222,
             "#7201a8"
            ],
            [
             0.3333333333333333,
             "#9c179e"
            ],
            [
             0.4444444444444444,
             "#bd3786"
            ],
            [
             0.5555555555555556,
             "#d8576b"
            ],
            [
             0.6666666666666666,
             "#ed7953"
            ],
            [
             0.7777777777777778,
             "#fb9f3a"
            ],
            [
             0.8888888888888888,
             "#fdca26"
            ],
            [
             1,
             "#f0f921"
            ]
           ]
          },
          "colorway": [
           "#636efa",
           "#EF553B",
           "#00cc96",
           "#ab63fa",
           "#FFA15A",
           "#19d3f3",
           "#FF6692",
           "#B6E880",
           "#FF97FF",
           "#FECB52"
          ],
          "font": {
           "color": "#2a3f5f"
          },
          "geo": {
           "bgcolor": "white",
           "lakecolor": "white",
           "landcolor": "#E5ECF6",
           "showlakes": true,
           "showland": true,
           "subunitcolor": "white"
          },
          "hoverlabel": {
           "align": "left"
          },
          "hovermode": "closest",
          "mapbox": {
           "style": "light"
          },
          "paper_bgcolor": "white",
          "plot_bgcolor": "#E5ECF6",
          "polar": {
           "angularaxis": {
            "gridcolor": "white",
            "linecolor": "white",
            "ticks": ""
           },
           "bgcolor": "#E5ECF6",
           "radialaxis": {
            "gridcolor": "white",
            "linecolor": "white",
            "ticks": ""
           }
          },
          "scene": {
           "xaxis": {
            "backgroundcolor": "#E5ECF6",
            "gridcolor": "white",
            "gridwidth": 2,
            "linecolor": "white",
            "showbackground": true,
            "ticks": "",
            "zerolinecolor": "white"
           },
           "yaxis": {
            "backgroundcolor": "#E5ECF6",
            "gridcolor": "white",
            "gridwidth": 2,
            "linecolor": "white",
            "showbackground": true,
            "ticks": "",
            "zerolinecolor": "white"
           },
           "zaxis": {
            "backgroundcolor": "#E5ECF6",
            "gridcolor": "white",
            "gridwidth": 2,
            "linecolor": "white",
            "showbackground": true,
            "ticks": "",
            "zerolinecolor": "white"
           }
          },
          "shapedefaults": {
           "line": {
            "color": "#2a3f5f"
           }
          },
          "ternary": {
           "aaxis": {
            "gridcolor": "white",
            "linecolor": "white",
            "ticks": ""
           },
           "baxis": {
            "gridcolor": "white",
            "linecolor": "white",
            "ticks": ""
           },
           "bgcolor": "#E5ECF6",
           "caxis": {
            "gridcolor": "white",
            "linecolor": "white",
            "ticks": ""
           }
          },
          "title": {
           "x": 0.05
          },
          "xaxis": {
           "automargin": true,
           "gridcolor": "white",
           "linecolor": "white",
           "ticks": "",
           "title": {
            "standoff": 15
           },
           "zerolinecolor": "white",
           "zerolinewidth": 2
          },
          "yaxis": {
           "automargin": true,
           "gridcolor": "white",
           "linecolor": "white",
           "ticks": "",
           "title": {
            "standoff": 15
           },
           "zerolinecolor": "white",
           "zerolinewidth": 2
          }
         }
        },
        "title": {
         "text": "Ratings vs Viewership (Correlation: 0.38)"
        },
        "xaxis": {
         "anchor": "y",
         "domain": [
          0,
          1
         ],
         "title": {
          "text": "Average Rating"
         }
        },
        "yaxis": {
         "anchor": "x",
         "domain": [
          0,
          1
         ],
         "title": {
          "text": "Vote Count"
         }
        }
       }
      }
     },
     "metadata": {},
     "output_type": "display_data"
    },
    {
     "name": "stdout",
     "output_type": "stream",
     "text": [
      "\n",
      "Key Findings:\n",
      "- Correlation between ratings and viewership: 0.38\n",
      "- Median rating: 6.30\n",
      "- Median vote count: 439\n",
      "\n",
      "============================================================\n",
      "SUMMARY OF FINDINGS\n",
      "============================================================\n",
      "\n",
      "1. Netflix Content Growth:\n",
      "   - Peak year: 2013 with 23 titles\n",
      "\n",
      "2. Platform Ratings:\n",
      "   - Netflix: 6.29 avg rating, 299 titles\n",
      "   - Hulu: 6.31 avg rating, 225 titles\n",
      "   - Prime Video: 6.10 avg rating, 371 titles\n",
      "   - Disney+: 6.46 avg rating, 181 titles\n",
      "\n",
      "3. Content Distribution:\n",
      "   - Top content producer: United States of America (860 titles)\n",
      "   - Most common language: English\n",
      "\n",
      "4. Rating vs Viewership:\n",
      "   - Strong positive correlation (0.38) - higher rated content gets more views\n"
     ]
    }
   ],
   "source": [
    "df['release_decade'] = (df['release_year'] // 10) * 10\n",
    "decade_counts = df.groupby('release_decade').size()\n",
    "\n",
    "fig = px.bar(x=decade_counts.index, y=decade_counts.values,\n",
    "             title=\"Content by Release Decade\",\n",
    "             labels={'x': 'Decade', 'y': 'Number of Titles'})\n",
    "fig.show()\n",
    "\n",
    "yearly_trends = df.groupby('release_year').size()\n",
    "recent_years = yearly_trends[yearly_trends.index >= 2010]\n",
    "\n",
    "fig = px.line(x=recent_years.index, y=recent_years.values,\n",
    "              title=\"Content Released per Year (2010-present)\",\n",
    "              labels={'x': 'Year', 'y': 'Titles Released'})\n",
    "fig.show()\n",
    "\n",
    "# seasonal patterns\n",
    "seasonal_data = df.groupby('release_month').agg({\n",
    "    'title': 'count',\n",
    "    'vote_average': 'mean'\n",
    "}).round(2)\n",
    "seasonal_data.columns = ['releases', 'avg_rating']\n",
    "\n",
    "months = ['Jan', 'Feb', 'Mar', 'Apr', 'May', 'Jun',\n",
    "          'Jul', 'Aug', 'Sep', 'Oct', 'Nov', 'Dec']\n",
    "\n",
    "fig = go.Figure()\n",
    "fig.add_trace(go.Scatter(x=months, y=seasonal_data['releases'],\n",
    "                        mode='lines+markers', name='Releases',\n",
    "                        yaxis='y1', line=dict(color='blue')))\n",
    "\n",
    "fig.add_trace(go.Scatter(x=months, y=seasonal_data['avg_rating'],\n",
    "                        mode='lines+markers', name='Avg Rating',\n",
    "                        yaxis='y2', line=dict(color='red')))\n",
    "\n",
    "fig.update_layout(\n",
    "    title=\"Seasonal Release Patterns\",\n",
    "    xaxis_title=\"Month\",\n",
    "    yaxis=dict(title=\"Number of Releases\", side=\"left\"),\n",
    "    yaxis2=dict(title=\"Average Rating\", side=\"right\", overlaying=\"y\"),\n",
    "    legend=dict(x=0.02, y=0.98)\n",
    ")\n",
    "fig.show()\n",
    "\n",
    "peak_month = seasonal_data['releases'].idxmax()\n",
    "best_month = seasonal_data['avg_rating'].idxmax()\n",
    "print(f\"Most releases: {months[peak_month-1]} ({seasonal_data.loc[peak_month, 'releases']} titles)\")\n",
    "print(f\"Best ratings: {months[best_month-1]} ({seasonal_data.loc[best_month, 'avg_rating']:.2f} avg)\")"
   ]
  }
 ],
 "metadata": {
  "kernelspec": {
   "display_name": "base",
   "language": "python",
   "name": "python3"
  },
  "language_info": {
   "codemirror_mode": {
    "name": "ipython",
    "version": 3
   },
   "file_extension": ".py",
   "mimetype": "text/x-python",
   "name": "python",
   "nbconvert_exporter": "python",
   "pygments_lexer": "ipython3",
   "version": "3.9.12"
  }
 },
 "nbformat": 4,
 "nbformat_minor": 5
}
